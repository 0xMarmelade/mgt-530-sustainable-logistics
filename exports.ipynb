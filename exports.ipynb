{
 "cells": [
  {
   "cell_type": "code",
   "execution_count": 1,
   "metadata": {},
   "outputs": [],
   "source": [
    "import numpy as np\n",
    "from csv import writer\n",
    "import json"
   ]
  },
  {
   "cell_type": "code",
   "execution_count": 64,
   "outputs": [],
   "source": [
    "data = {}\n",
    "with open('./results/2022-12-16 163709.548510.json') as result_file:\n",
    "    data = json.load(result_file)"
   ],
   "metadata": {
    "collapsed": false,
    "pycharm": {
     "name": "#%%\n"
    }
   }
  },
  {
   "cell_type": "code",
   "execution_count": 63,
   "outputs": [
    {
     "name": "stdout",
     "output_type": "stream",
     "text": [
      "8\n"
     ]
    }
   ],
   "source": [
    "print(len(data['results']))"
   ],
   "metadata": {
    "collapsed": false,
    "pycharm": {
     "name": "#%%\n"
    }
   }
  },
  {
   "cell_type": "code",
   "execution_count": 53,
   "outputs": [],
   "source": [
    "\"\"\"\n",
    "data {\n",
    "    'distance_matrix_time': distance_matrix_time,\n",
    "    'employees': coordinates_list,\n",
    "    'results': [\n",
    "         'num_vehicles': n_shuttle,\n",
    "         'max_time_shuttle': max_time,\n",
    "         'result': {\n",
    "            'routes': [{\n",
    "                'route': [],\n",
    "                'routeTotalTime': 0,\n",
    "                'routeTotalDist': 0\n",
    "                },\n",
    "                ... more routes\n",
    "            ]\n",
    "        'objectiveTime': 0,\n",
    "        'objectiveDist': 0\n",
    "            },\n",
    "        ... more results\n",
    "        ]\n",
    "    ]\n",
    "}\n",
    "\"\"\";"
   ],
   "metadata": {
    "collapsed": false,
    "pycharm": {
     "name": "#%%\n"
    }
   }
  },
  {
   "cell_type": "code",
   "execution_count": null,
   "outputs": [],
   "source": [
    "dist_matrix = [[0, 1817, 1420, 1473, 1039, 882, 1608, 1431, 1507, 904],\n",
    "                [1883, 0, 2113, 970, 1858, 1179, 537, 2046, 1010, 1737],\n",
    "                [1457, 2022, 0, 1322, 457, 1399, 2039, 85, 1431, 2127],\n",
    "                [1571, 813, 1350, 0, 1189, 858, 879, 1285, 199, 1432],\n",
    "                [1074, 1867, 473, 1191, 0, 1004, 1649, 481, 1287, 1752],\n",
    "                [1005, 1193, 1423, 856, 1042, 0, 1010, 1430, 896, 799],\n",
    "                [1702, 494, 2056, 914, 1714, 982, 0, 1973, 952, 1468],\n",
    "                [1459, 1952, 102, 1257, 454, 1388, 1973, 0, 1355, 2132],\n",
    "                [1643, 881, 1414, 215, 1256, 933, 943, 1339, 0, 1511],\n",
    "                [902, 1728, 2060, 1386, 1689, 761, 1382, 2069, 1422, 0]] #[m]\n",
    "\n",
    "time_matrix = [[0, 1817, 1420, 1473, 1039, 882, 1608, 1431, 1507, 904],\n",
    "                [1883, 0, 2113, 970, 1858, 1179, 537, 2046, 1010, 1737],\n",
    "                [1457, 2022, 0, 1322, 457, 1399, 2039, 85, 1431, 2127],\n",
    "                [1571, 813, 1350, 0, 1189, 858, 879, 1285, 199, 1432],\n",
    "                [1074, 1867, 473, 1191, 0, 1004, 1649, 481, 1287, 1752],\n",
    "                [1005, 1193, 1423, 856, 1042, 0, 1010, 1430, 896, 799],\n",
    "                [1702, 494, 2056, 914, 1714, 982, 0, 1973, 952, 1468],\n",
    "                [1459, 1952, 102, 1257, 454, 1388, 1973, 0, 1355, 2132],\n",
    "                [1643, 881, 1414, 215, 1256, 933, 943, 1339, 0, 1511],\n",
    "                [902, 1728, 2060, 1386, 1689, 761, 1382, 2069, 1422, 0]] #[s]\n",
    "\n",
    "dist_matrix = np.array(dist_matrix)\n",
    "time_matrix = np.array(time_matrix)\n"
   ],
   "metadata": {
    "collapsed": false,
    "pycharm": {
     "name": "#%%\n"
    }
   }
  },
  {
   "cell_type": "code",
   "execution_count": null,
   "outputs": [],
   "source": [
    "vrp_out = {'routes': [\n",
    "    {'route': [0, 4, 5, 8, 0],\n",
    "     'routeTotalTime': 5369,\n",
    "     'routeTotalDist': 3985\n",
    "    }, \n",
    "    {'route': [0, 1, 6, 2, 0],\n",
    "     'routeTotalTime': 8133,\n",
    "     'routeTotalDist': 1806\n",
    "    }, \n",
    "    {'route': [0, 3, 7, 0],\n",
    "     'routeTotalTime': 8042,\n",
    "     'routeTotalDist': 3564\n",
    "    }, \n",
    "    {'route': [0, 9, 0],\n",
    "     'routeTotalTime': 5316,\n",
    "     'routeTotalDist': 3033\n",
    "    }], \n",
    " 'objective': 366036\n",
    "}\n"
   ],
   "metadata": {
    "collapsed": false,
    "pycharm": {
     "name": "#%%\n"
    }
   }
  },
  {
   "cell_type": "code",
   "execution_count": 65,
   "outputs": [],
   "source": [
    "### Dist & Emissions avoided \n",
    "# Inputs :  dist_matrix: the distance matrix\n",
    "#           vrp_out: the results of the vrp\n",
    "# Outputs:  - the avoided distance in meters\n",
    "#           - the avoided emissions in gCO2eq\n",
    "\n",
    "def fct_avoided_dist(dist_matrix, vrp_out):\n",
    "    EMISSION_CAR     = 0.17 #[g/(m*passanger)]\n",
    "    EMISSION_SHUTTLE = 0.10 #[g/(m*passanger)]\n",
    "\n",
    "    FIRST_EMPLOYEE = 1\n",
    "    COMPANY_COLUMN = 0\n",
    "\n",
    "    avoided_dist = 0\n",
    "    em_shuttles  = 0\n",
    "    em_cars      = 0\n",
    "    nb_employees = len(dist_matrix)\n",
    "\n",
    "    for s in range(len(vrp_out['routes'])):\n",
    "        \n",
    "        dist_cars = 0\n",
    "        for i in range(FIRST_EMPLOYEE, len(vrp_out['routes'][s]['route'])-1):\n",
    "            dist_cars += dist_matrix[i][COMPANY_COLUMN]\n",
    "        \n",
    "        avoided_dist += (dist_cars - vrp_out['routes'][s]['routeTotalDist'])\n",
    "        em_shuttles  += (vrp_out['routes'][s]['routeTotalDist'] * EMISSION_SHUTTLE)\n",
    "        em_cars      += (dist_cars * EMISSION_CAR)\n",
    "\n",
    "    avoided_em = (em_cars - em_shuttles)*nb_employees\n",
    "\n",
    "    return(avoided_dist, avoided_em)\n",
    "\n"
   ],
   "metadata": {
    "collapsed": false,
    "pycharm": {
     "name": "#%%\n"
    }
   }
  },
  {
   "cell_type": "code",
   "execution_count": 66,
   "outputs": [],
   "source": [
    "### Overall time of work loss\n",
    "# Inputs :  time_matrix: the time matrix between all employees\n",
    "#           vrp_time: the time result of the vrp\n",
    "# Outputs:  - the overall time lost in seconds\n",
    "#           - mean time lost\n",
    "#           - the maximum time lost for all employees\n",
    "#           - the minimum time lost for all employees\n",
    "\n",
    "def fct_time_lost(time_matrix, vrp_out):\n",
    "    FIRST_SHUTTLE  = 0\n",
    "    FIRST_EMPLOYEE = 1\n",
    "    COMPANY_COLUMN = 0\n",
    "    \n",
    "    tot_time_lost = 0\n",
    "    max_time_lost = 0\n",
    "    min_time_lost = vrp_out['routes'][FIRST_SHUTTLE]['routeTotalTime'] - time_matrix[vrp_out['routes'][FIRST_SHUTTLE]['route'][FIRST_EMPLOYEE]][COMPANY_COLUMN]\n",
    "    nb_employees  = len(time_matrix)\n",
    "\n",
    "    for s in range(len(vrp_out['routes'])):\n",
    "        for i in range(FIRST_EMPLOYEE, len(vrp_out['routes'][s]['route'])-1):\n",
    "            time_lost_i = (vrp_out['routes'][s]['routeTotalTime'] - time_matrix[i][COMPANY_COLUMN])\n",
    "            tot_time_lost  += time_lost_i\n",
    "\n",
    "            if time_lost_i > max_time_lost:\n",
    "                max_time_lost = time_lost_i\n",
    "            \n",
    "            if time_lost_i < min_time_lost:\n",
    "                min_time_lost = time_lost_i\n",
    "\n",
    "    mean_time_lost = tot_time_lost/nb_employees\n",
    "\n",
    "    return(tot_time_lost, mean_time_lost, max_time_lost, min_time_lost)"
   ],
   "metadata": {
    "collapsed": false,
    "pycharm": {
     "name": "#%%\n"
    }
   }
  },
  {
   "cell_type": "code",
   "execution_count": 68,
   "outputs": [],
   "source": [
    "### Calculate & save resutls\n",
    "# Inputs:   create_file: a boolean : true to create a new file (and erase previous one), False to add a row to the existing file\n",
    "#           test_number: the name of the test, it will apprear on the first column of the output\n",
    "#           dist_matrix: the distance matrix\n",
    "#           time_matrix: the time matrix\n",
    "#           vrp_out: the output dictionnary of the vrp\n",
    "# Output:   - a print of the costs\n",
    "#           - a file called \"outputs-csv\" with the costs\n",
    "def fct_print_costs_save(create_file, test_number, dist_matrix, time_matrix, vrp_out):\n",
    "    if create_file == True:\n",
    "        with open('outputsOFF2.csv', 'w', newline='') as file:\n",
    "            # 2. step\n",
    "            w = writer(file)\n",
    "            # 3. step\n",
    "            w.writerow([\"Test number; total dist[m]; total time[s]; avoided dist [m]; avoided emissions [gCO2eq]; total time lost [s]; mean time lost [s]; max_time_lost [s]; min_time_lost[s]\"])\n",
    "\n",
    "\n",
    "    [avoided_dist, avoided_em] = fct_avoided_dist(dist_matrix, vrp_out)\n",
    "    [tot_time_lost, mean_time_lost, max_time_lost, min_time_lost] = fct_time_lost(time_matrix, vrp_out)\n",
    "    newrow = [str(test_number)+ \";\" + str(vrp_out[\"objectiveDist\"]) + \";\" + str(vrp_out[\"objectiveTime\"]) + \";\" + str(avoided_dist)+\";\"+str(avoided_em)+\";\"+str(tot_time_lost)+\";\"+str(mean_time_lost)+\";\"+str(max_time_lost)+\";\"+str(min_time_lost)]\n",
    "\n",
    "    with open(f'./results/metrics-outputsOFF2.csv', 'a+', newline='') as write_obj:\n",
    "        # Create a writer object from csv module\n",
    "        csv_writer = writer(write_obj)\n",
    "        # Add contents of list as last row in the csv file\n",
    "        csv_writer.writerow(newrow)\n",
    "\n",
    "    print(\n",
    "    \"Total distance ---------- \" + str(vrp_out[\"objectiveDist\"]) + \" [m]\\n\"\n",
    "    \"Total time -------------- \" + str(vrp_out[\"objectiveTime\"]) + \" [s]\\n\"\n",
    "    \"avoided distance -------- \" + str(avoided_dist) + \" [m]\\n\"\n",
    "    \"avoided emissions ------- \" + str(avoided_dist) + \" [gCO2eq]\\n\"\n",
    "    \"total time lost --------- \" + str(tot_time_lost) + \" [s]\\n\"\n",
    "    \"mean time lost ---------- \" + str(mean_time_lost) + \" [s]\\n\"\n",
    "    \"maximum time lost ------- \" + str(max_time_lost) + \" [s]\\n\"\n",
    "    \"minimum time lost ------- \" + str(min_time_lost) + \" [s]\\n\"\n",
    "    )"
   ],
   "metadata": {
    "collapsed": false,
    "pycharm": {
     "name": "#%%\n"
    }
   }
  },
  {
   "cell_type": "code",
   "execution_count": 69,
   "outputs": [
    {
     "name": "stdout",
     "output_type": "stream",
     "text": [
      "Test 1: 4 shuttles, 6000 max.\n"
     ]
    }
   ],
   "source": [
    "print(' '.join([\"Test 1:\", str(data['results'][0]['num_vehicles']), \"shuttles,\", str(data['results'][0]['max_time_shuttle']), \"max.\"]))"
   ],
   "metadata": {
    "collapsed": false,
    "pycharm": {
     "name": "#%%\n"
    }
   }
  },
  {
   "cell_type": "code",
   "execution_count": 70,
   "outputs": [],
   "source": [
    "def export_result(dfjson):\n",
    "    title=' '.join([\"Test 1:\", str(dfjson['results'][0]['num_vehicles']), \"shuttles,\", str(dfjson['results'][0]['max_time_shuttle']), \"max.\"])\n",
    "\n",
    "    fct_print_costs_save(True, title,dfjson['distance_matrix_distance'],dfjson['distance_matrix_time'],dfjson['results'][0]['result'])\n",
    "\n",
    "    for i in range(1,len(data['results'])):\n",
    "        title=' '.join([\"Test:\",str(i+1), str(dfjson['results'][i]['num_vehicles']), \"shuttles,\", str(dfjson['results'][i]['max_time_shuttle']), \"max.\"])\n",
    "        fct_print_costs_save(True, title ,dfjson['distance_matrix_distance'],dfjson['distance_matrix_time'],dfjson['results'][i]['result'])\n"
   ],
   "metadata": {
    "collapsed": false,
    "pycharm": {
     "name": "#%%\n"
    }
   }
  },
  {
   "cell_type": "code",
   "execution_count": 71,
   "outputs": [
    {
     "name": "stdout",
     "output_type": "stream",
     "text": [
      "Total distance ---------- 283699 [m]\n",
      "Total time -------------- 21534 [s]\n",
      "avoided distance -------- 188107 [m]\n",
      "avoided emissions ------- 188107 [gCO2eq]\n",
      "total time lost --------- 93337 [s]\n",
      "mean time lost ---------- 3733.48 [s]\n",
      "maximum time lost ------- 4817 [s]\n",
      "minimum time lost ------- 3229 [s]\n",
      "\n",
      "Total distance ---------- 284445 [m]\n",
      "Total time -------------- 21324 [s]\n",
      "avoided distance -------- 187361 [m]\n",
      "avoided emissions ------- 187361 [gCO2eq]\n",
      "total time lost --------- 91169 [s]\n",
      "mean time lost ---------- 3646.76 [s]\n",
      "maximum time lost ------- 4845 [s]\n",
      "minimum time lost ------- 2908 [s]\n",
      "\n",
      "Total distance ---------- 274294 [m]\n",
      "Total time -------------- 21696 [s]\n",
      "avoided distance -------- 212489 [m]\n",
      "avoided emissions ------- 212489 [gCO2eq]\n",
      "total time lost --------- 66111 [s]\n",
      "mean time lost ---------- 2644.44 [s]\n",
      "maximum time lost ------- 4183 [s]\n",
      "minimum time lost ------- 1566 [s]\n",
      "\n",
      "Total distance ---------- 302183 [m]\n",
      "Total time -------------- 23045 [s]\n",
      "avoided distance -------- 190412 [m]\n",
      "avoided emissions ------- 190412 [gCO2eq]\n",
      "total time lost --------- 73966 [s]\n",
      "mean time lost ---------- 2958.64 [s]\n",
      "maximum time lost ------- 4087 [s]\n",
      "minimum time lost ------- 2229 [s]\n",
      "\n",
      "Total distance ---------- 315397 [m]\n",
      "Total time -------------- 24091 [s]\n",
      "avoided distance -------- 236319 [m]\n",
      "avoided emissions ------- 236319 [gCO2eq]\n",
      "total time lost --------- 54699 [s]\n",
      "mean time lost ---------- 2187.96 [s]\n",
      "maximum time lost ------- 3107 [s]\n",
      "minimum time lost ------- 1192 [s]\n",
      "\n",
      "Total distance ---------- 321572 [m]\n",
      "Total time -------------- 25013 [s]\n",
      "avoided distance -------- 213354 [m]\n",
      "avoided emissions ------- 213354 [gCO2eq]\n",
      "total time lost --------- 59862 [s]\n",
      "mean time lost ---------- 2394.48 [s]\n",
      "maximum time lost ------- 3524 [s]\n",
      "minimum time lost ------- 1649 [s]\n",
      "\n",
      "Total distance ---------- 408419 [m]\n",
      "Total time -------------- 29588 [s]\n",
      "avoided distance -------- 129333 [m]\n",
      "avoided emissions ------- 129333 [gCO2eq]\n",
      "total time lost --------- 51704 [s]\n",
      "mean time lost ---------- 2068.16 [s]\n",
      "maximum time lost ------- 3208 [s]\n",
      "minimum time lost ------- 1548 [s]\n",
      "\n",
      "Total distance ---------- 405780 [m]\n",
      "Total time -------------- 29636 [s]\n",
      "avoided distance -------- 127903 [m]\n",
      "avoided emissions ------- 127903 [gCO2eq]\n",
      "total time lost --------- 55150 [s]\n",
      "mean time lost ---------- 2206.0 [s]\n",
      "maximum time lost ------- 3427 [s]\n",
      "minimum time lost ------- 321 [s]\n",
      "\n"
     ]
    }
   ],
   "source": [
    "export_result(data)"
   ],
   "metadata": {
    "collapsed": false
   }
  },
  {
   "cell_type": "markdown",
   "source": [
    "## Sceanrio 3"
   ],
   "metadata": {
    "collapsed": false,
    "pycharm": {
     "name": "#%% md\n"
    }
   }
  },
  {
   "cell_type": "code",
   "execution_count": 124,
   "outputs": [
    {
     "name": "stdout",
     "output_type": "stream",
     "text": [
      "------------------------------------------------\n",
      "5 shuttles, 6000 max.\n",
      "----------------------\n",
      "route: [0, 9, 21, 4, 2, 1, 0] 5\n",
      "travel distance: 55919\n",
      "travel time: 4621\n",
      "----------------------\n",
      "route: [0, 11, 17, 12, 16, 22, 0] 5\n",
      "travel distance: 49224\n",
      "travel time: 3795\n",
      "----------------------\n",
      "route: [0, 20, 14, 8, 3, 19, 0] 5\n",
      "travel distance: 61399\n",
      "travel time: 4770\n",
      "----------------------\n",
      "route: [0, 23, 15, 18, 6, 0] 4\n",
      "travel distance: 61157\n",
      "travel time: 4816\n",
      "----------------------\n",
      "route: [0, 13, 5, 24, 7, 10, 0] 5\n",
      "travel distance: 46595\n",
      "travel time: 3694\n",
      "------------------------------------------------\n"
     ]
    }
   ],
   "source": [
    "print(\"------------------------------------------------\")\n",
    "print(' '.join([ str(data['results'][2]['num_vehicles']), \"shuttles,\", str(data['results'][2]['max_time_shuttle']), \"max.\"]))\n",
    "for j in range(len(data['results'][2]['result']['routes'])):\n",
    "    print(\"----------------------\")\n",
    "    print(\"route:\",data['results'][2]['result']['routes'][j]['route'], len(data['results'][2]['result']['routes'][j]['route'])-2)\n",
    "    print(\"travel distance:\",data['results'][2]['result']['routes'][j]['routeTotalDist'])\n",
    "    print(\"travel time:\",data['results'][2]['result']['routes'][j]['routeTotalTime'])\n",
    "print(\"------------------------------------------------\")"
   ],
   "metadata": {
    "collapsed": false,
    "pycharm": {
     "name": "#%%\n"
    }
   }
  },
  {
   "cell_type": "markdown",
   "source": [
    "## Scenario 7"
   ],
   "metadata": {
    "collapsed": false,
    "pycharm": {
     "name": "#%% md\n"
    }
   }
  },
  {
   "cell_type": "code",
   "execution_count": 121,
   "outputs": [
    {
     "name": "stdout",
     "output_type": "stream",
     "text": [
      "------------------------------------------------\n",
      "8 shuttles, 6000 max.\n",
      "----------------------\n",
      "route: [0, 11, 17, 12, 16, 22, 0] 5\n",
      "travel distance: 49224\n",
      "travel time: 3795\n",
      "----------------------\n",
      "route: [0, 9, 15, 0] 2\n",
      "travel distance: 52051\n",
      "travel time: 3297\n",
      "----------------------\n",
      "route: [0, 3, 19, 0] 2\n",
      "travel distance: 53720\n",
      "travel time: 4188\n",
      "----------------------\n",
      "route: [0, 4, 2, 1, 0] 3\n",
      "travel distance: 61773\n",
      "travel time: 3972\n",
      "----------------------\n",
      "route: [0, 23, 21, 0] 2\n",
      "travel distance: 51353\n",
      "travel time: 3860\n",
      "----------------------\n",
      "route: [0, 20, 14, 8, 0] 3\n",
      "travel distance: 50704\n",
      "travel time: 3721\n",
      "----------------------\n",
      "route: [0, 18, 6, 0] 2\n",
      "travel distance: 42999\n",
      "travel time: 3061\n",
      "----------------------\n",
      "route: [0, 13, 5, 24, 7, 10, 0] 5\n",
      "travel distance: 46595\n",
      "travel time: 3694\n",
      "------------------------------------------------\n"
     ]
    }
   ],
   "source": [
    "print(\"------------------------------------------------\")\n",
    "print(' '.join([ str(data['results'][6]['num_vehicles']), \"shuttles,\", str(data['results'][6]['max_time_shuttle']), \"max.\"]))\n",
    "for j in range(len(data['results'][6]['result']['routes'])):\n",
    "    print(\"----------------------\")\n",
    "    print(\"route:\",data['results'][6]['result']['routes'][j]['route'], len(data['results'][6]['result']['routes'][j]['route'])-2)\n",
    "    print(\"travel distance:\",data['results'][6]['result']['routes'][j]['routeTotalDist'])\n",
    "    print(\"travel time:\",data['results'][6]['result']['routes'][j]['routeTotalTime'])\n",
    "print(\"------------------------------------------------\")"
   ],
   "metadata": {
    "collapsed": false,
    "pycharm": {
     "name": "#%%\n"
    }
   }
  },
  {
   "cell_type": "markdown",
   "source": [
    "## Scenario 5"
   ],
   "metadata": {
    "collapsed": false,
    "pycharm": {
     "name": "#%% md\n"
    }
   }
  },
  {
   "cell_type": "code",
   "execution_count": 123,
   "outputs": [
    {
     "name": "stdout",
     "output_type": "stream",
     "text": [
      "------------------------------------------------\n",
      "6 shuttles, 6000 max.\n",
      "----------------------\n",
      "route: [0, 23, 20, 19, 22, 0] 4\n",
      "travel distance: 46669\n",
      "travel time: 3799\n",
      "----------------------\n",
      "route: [0, 21, 4, 2, 1, 0] 4\n",
      "travel distance: 54555\n",
      "travel time: 4466\n",
      "----------------------\n",
      "route: [0, 11, 12, 16, 17, 0] 4\n",
      "travel distance: 47914\n",
      "travel time: 3320\n",
      "----------------------\n",
      "route: [0, 14, 3, 8, 0] 3\n",
      "travel distance: 60207\n",
      "travel time: 4419\n",
      "----------------------\n",
      "route: [0, 9, 15, 18, 6, 0] 4\n",
      "travel distance: 59457\n",
      "travel time: 4393\n",
      "----------------------\n",
      "route: [0, 13, 5, 24, 7, 10, 0] 5\n",
      "travel distance: 46595\n",
      "travel time: 3694\n",
      "------------------------------------------------\n"
     ]
    }
   ],
   "source": [
    "print(\"------------------------------------------------\")\n",
    "print(' '.join([ str(data['results'][4]['num_vehicles']), \"shuttles,\", str(data['results'][4]['max_time_shuttle']), \"max.\"]))\n",
    "for j in range(len(data['results'][4]['result']['routes'])):\n",
    "    print(\"----------------------\")\n",
    "    print(\"route:\",data['results'][4]['result']['routes'][j]['route'], len(data['results'][4]['result']['routes'][j]['route'])-2)\n",
    "    print(\"travel distance:\",data['results'][4]['result']['routes'][j]['routeTotalDist'])\n",
    "    print(\"travel time:\",data['results'][4]['result']['routes'][j]['routeTotalTime'])\n",
    "print(\"------------------------------------------------\")"
   ],
   "metadata": {
    "collapsed": false,
    "pycharm": {
     "name": "#%%\n"
    }
   }
  }
 ],
 "metadata": {
  "kernelspec": {
   "display_name": "Python 3",
   "language": "python",
   "name": "python3"
  },
  "language_info": {
   "codemirror_mode": {
    "name": "ipython",
    "version": 3
   },
   "file_extension": ".py",
   "mimetype": "text/x-python",
   "name": "python",
   "nbconvert_exporter": "python",
   "pygments_lexer": "ipython3",
   "version": "3.10.2"
  },
  "orig_nbformat": 4,
  "vscode": {
   "interpreter": {
    "hash": "934bd900218f291436a8a02843be138c5a3ba92f3c7bd2d84fb9395b1afc0487"
   }
  }
 },
 "nbformat": 4,
 "nbformat_minor": 2
}