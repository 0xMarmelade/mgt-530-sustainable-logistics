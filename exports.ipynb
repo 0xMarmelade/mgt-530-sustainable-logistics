{
 "cells": [
  {
   "cell_type": "code",
   "execution_count": 5,
   "metadata": {},
   "outputs": [],
   "source": [
    "import numpy as np\n",
    "from csv import writer\n",
    "import json"
   ]
  },
  {
   "cell_type": "code",
   "execution_count": 7,
   "outputs": [],
   "source": [
    "data = {}\n",
    "with open('./results/2022-12-16 034030.200265') as result_file:\n",
    "    data = json.load(result_file)"
   ],
   "metadata": {
    "collapsed": false
   }
  },
  {
   "cell_type": "code",
   "execution_count": 8,
   "outputs": [
    {
     "data": {
      "text/plain": "{'distance_matrix_time': [[0,\n   558,\n   232,\n   1164,\n   1041,\n   475,\n   1314,\n   1353,\n   1298,\n   1199,\n   534,\n   1689,\n   729,\n   1320,\n   1493,\n   548,\n   1450,\n   989,\n   944,\n   425,\n   1111,\n   1257,\n   1510,\n   1216,\n   1351],\n  [530,\n   0,\n   527,\n   1140,\n   976,\n   472,\n   1312,\n   1354,\n   1233,\n   1376,\n   115,\n   1639,\n   394,\n   1324,\n   1695,\n   501,\n   1442,\n   1170,\n   1120,\n   373,\n   1118,\n   1268,\n   1610,\n   1241,\n   1353],\n  [275,\n   567,\n   0,\n   1258,\n   1059,\n   311,\n   1420,\n   1463,\n   1316,\n   1416,\n   458,\n   1771,\n   764,\n   1438,\n   1682,\n   365,\n   1557,\n   1194,\n   1144,\n   447,\n   1223,\n   1371,\n   1706,\n   1346,\n   1462],\n  [1139,\n   1268,\n   1267,\n   0,\n   1672,\n   1268,\n   415,\n   675,\n   1921,\n   601,\n   1245,\n   912,\n   1351,\n   506,\n   1007,\n   1309,\n   802,\n   503,\n   463,\n   1142,\n   468,\n   622,\n   949,\n   587,\n   710],\n  [1076,\n   908,\n   1080,\n   1611,\n   0,\n   857,\n   1798,\n   1825,\n   563,\n   1849,\n   842,\n   2137,\n   874,\n   1795,\n   2172,\n   895,\n   1909,\n   1642,\n   1591,\n   871,\n   1600,\n   1739,\n   2080,\n   1711,\n   1822],\n  [519,\n   457,\n   303,\n   1278,\n   830,\n   0,\n   1455,\n   1483,\n   1088,\n   1526,\n   352,\n   1814,\n   459,\n   1465,\n   1784,\n   263,\n   1581,\n   1309,\n   1261,\n   514,\n   1263,\n   1406,\n   1778,\n   1380,\n   1485],\n  [1279,\n   1419,\n   1429,\n   529,\n   1821,\n   1418,\n   0,\n   565,\n   2091,\n   748,\n   1394,\n   667,\n   1517,\n   434,\n   920,\n   1453,\n   692,\n   816,\n   772,\n   1295,\n   329,\n   517,\n   871,\n   482,\n   562],\n  [1292,\n   1440,\n   1444,\n   618,\n   1837,\n   1433,\n   615,\n   0,\n   2097,\n   306,\n   1414,\n   1046,\n   1521,\n   255,\n   587,\n   1470,\n   574,\n   637,\n   620,\n   1318,\n   308,\n   600,\n   538,\n   568,\n   467],\n  [1342,\n   1162,\n   1345,\n   1876,\n   577,\n   1115,\n   2075,\n   2071,\n   0,\n   2127,\n   1099,\n   2402,\n   1129,\n   2055,\n   2428,\n   1148,\n   2176,\n   1907,\n   1856,\n   1141,\n   1845,\n   1995,\n   2341,\n   1972,\n   2088],\n  [1218,\n   1422,\n   1363,\n   613,\n   1832,\n   1413,\n   629,\n   310,\n   2074,\n   0,\n   1399,\n   1124,\n   1508,\n   499,\n   676,\n   1455,\n   822,\n   487,\n   370,\n   1301,\n   542,\n   861,\n   575,\n   826,\n   727],\n  [530,\n   117,\n   413,\n   1154,\n   846,\n   358,\n   1326,\n   1368,\n   1100,\n   1393,\n   0,\n   1663,\n   380,\n   1338,\n   1709,\n   387,\n   1465,\n   1188,\n   1134,\n   382,\n   1127,\n   1277,\n   1631,\n   1243,\n   1362],\n  [1706,\n   1824,\n   1812,\n   887,\n   2211,\n   1895,\n   556,\n   1048,\n   2464,\n   1107,\n   1810,\n   0,\n   1892,\n   933,\n   1405,\n   1934,\n   1197,\n   1304,\n   1252,\n   1688,\n   814,\n   1024,\n   1352,\n   987,\n   1045],\n  [753,\n   357,\n   761,\n   1289,\n   911,\n   471,\n   1467,\n   1503,\n   1172,\n   1529,\n   358,\n   1820,\n   0,\n   1492,\n   1778,\n   492,\n   1596,\n   1327,\n   1268,\n   570,\n   1284,\n   1448,\n   1787,\n   1433,\n   1504],\n  [1221,\n   1366,\n   1370,\n   511,\n   1766,\n   1365,\n   460,\n   329,\n   2025,\n   554,\n   1343,\n   910,\n   1453,\n   0,\n   783,\n   1401,\n   705,\n   761,\n   715,\n   1239,\n   249,\n   536,\n   734,\n   505,\n   420],\n  [1588,\n   1771,\n   1767,\n   1035,\n   2180,\n   1754,\n   956,\n   562,\n   2441,\n   668,\n   1746,\n   1444,\n   1848,\n   757,\n   0,\n   1784,\n   505,\n   786,\n   752,\n   1647,\n   655,\n   628,\n   238,\n   585,\n   657],\n  [604,\n   506,\n   346,\n   1326,\n   877,\n   306,\n   1518,\n   1547,\n   1135,\n   1576,\n   406,\n   1856,\n   515,\n   1515,\n   1846,\n   0,\n   1653,\n   1358,\n   1307,\n   563,\n   1326,\n   1466,\n   1832,\n   1434,\n   1545],\n  [1335,\n   1480,\n   1478,\n   753,\n   1874,\n   1471,\n   703,\n   598,\n   2132,\n   834,\n   1457,\n   1138,\n   1561,\n   633,\n   544,\n   1512,\n   0,\n   859,\n   817,\n   1355,\n   422,\n   334,\n   331,\n   260,\n   417],\n  [984,\n   1248,\n   1147,\n   487,\n   1660,\n   1249,\n   790,\n   620,\n   1914,\n   385,\n   1226,\n   1230,\n   1338,\n   810,\n   689,\n   1287,\n   930,\n   0,\n   150,\n   1128,\n   581,\n   738,\n   697,\n   703,\n   823],\n  [972,\n   1299,\n   1127,\n   476,\n   1701,\n   1296,\n   838,\n   643,\n   1947,\n   419,\n   1273,\n   1274,\n   1378,\n   840,\n   723,\n   1339,\n   964,\n   54,\n   0,\n   1172,\n   627,\n   789,\n   732,\n   749,\n   866],\n  [484,\n   379,\n   434,\n   1054,\n   881,\n   456,\n   1218,\n   1275,\n   1135,\n   1289,\n   293,\n   1562,\n   578,\n   1230,\n   1606,\n   517,\n   1365,\n   1085,\n   1035,\n   0,\n   1032,\n   1180,\n   1512,\n   1152,\n   1275],\n  [1039,\n   1178,\n   1186,\n   460,\n   1594,\n   1183,\n   359,\n   283,\n   1839,\n   539,\n   1153,\n   791,\n   1267,\n   258,\n   631,\n   1209,\n   523,\n   567,\n   526,\n   1055,\n   0,\n   347,\n   585,\n   314,\n   284],\n  [1006,\n   1149,\n   1148,\n   425,\n   1551,\n   1148,\n   372,\n   325,\n   1808,\n   665,\n   1125,\n   802,\n   1231,\n   309,\n   676,\n   1175,\n   538,\n   542,\n   493,\n   1024,\n   93,\n   0,\n   630,\n   325,\n   335],\n  [1464,\n   1602,\n   1609,\n   885,\n   2008,\n   1600,\n   858,\n   472,\n   2266,\n   635,\n   1580,\n   1265,\n   1694,\n   661,\n   216,\n   1633,\n   283,\n   754,\n   736,\n   1481,\n   561,\n   468,\n   0,\n   360,\n   426],\n  [1136,\n   1277,\n   1280,\n   555,\n   1679,\n   1287,\n   508,\n   469,\n   1936,\n   725,\n   1251,\n   940,\n   1366,\n   441,\n   611,\n   1311,\n   291,\n   673,\n   621,\n   1155,\n   234,\n   138,\n   405,\n   0,\n   323],\n  [1287,\n   1437,\n   1437,\n   717,\n   1831,\n   1432,\n   617,\n   473,\n   2097,\n   732,\n   1412,\n   1044,\n   1522,\n   445,\n   660,\n   1470,\n   397,\n   817,\n   778,\n   1315,\n   312,\n   418,\n   443,\n   411,\n   0]],\n 'employees': [[46.466634011, 6.83563901],\n  [46.46851693465151, 6.894438003936011],\n  [46.45839396983166, 6.84898031244897],\n  [46.52770399651544, 6.702245116210658],\n  [46.35982391368467, 6.9280129598385525],\n  [46.45224910478233, 6.878983042508141],\n  [46.55635996098883, 6.682293172131876],\n  [46.52737172781791, 6.652720897043108],\n  [46.31410012016361, 6.963495892805812],\n  [46.515776420830434, 6.667223701927155],\n  [46.46489363836388, 6.889267044102234],\n  [46.608016519256935, 6.741614251861868],\n  [46.44610238583402, 6.910280305947094],\n  [46.53553019402336, 6.661727358965316],\n  [46.51719006748453, 6.612471263390421],\n  [46.440618658815794, 6.892116067595341],\n  [46.537082799038295, 6.626507092585118],\n  [46.50239758018304, 6.6843508075041305],\n  [46.50150671886623, 6.685665999375015],\n  [46.47020752024146, 6.872287267025222],\n  [46.53904732065589, 6.649943733376959],\n  [46.54260901278924, 6.644676703254613],\n  [46.52448030922841, 6.62539311894492],\n  [46.54336068430412, 6.623805169838085],\n  [46.54257241205287, 6.639462200423282]],\n 'results': [{'num_vehicles': 4,\n   'max_time_shuttle': 6000,\n   'result': {'routes': [{'route': [0, 19, 3, 13, 7, 9, 18, 17, 0],\n      'routeTotalTime': 18885,\n      'routeTotalDist': 259085},\n     {'route': [0, 20, 24, 22, 14, 16, 23, 21, 0],\n      'routeTotalTime': 18696,\n      'routeTotalDist': 232889},\n     {'route': [0, 10, 1, 11, 6, 0],\n      'routeTotalTime': 10446,\n      'routeTotalDist': 153754},\n     {'route': [0, 4, 8, 12, 5, 15, 2, 0],\n      'routeTotalTime': 19950,\n      'routeTotalDist': 315828}],\n    'objective': 428704}},\n  {'num_vehicles': 4,\n   'max_time_shuttle': 8000,\n   'result': {'routes': [{'route': [0, 19, 4, 8, 12, 1, 10, 0],\n      'routeTotalTime': 17423,\n      'routeTotalDist': 269152},\n     {'route': [0, 2, 5, 15, 24, 16, 23, 21, 0],\n      'routeTotalTime': 16986,\n      'routeTotalDist': 229842},\n     {'route': [0, 3, 11, 6, 20, 0],\n      'routeTotalTime': 12833,\n      'routeTotalDist': 186591},\n     {'route': [0, 18, 17, 9, 22, 14, 7, 13, 0],\n      'routeTotalTime': 17396,\n      'routeTotalDist': 190676}],\n    'objective': 437564}}]}"
     },
     "execution_count": 8,
     "metadata": {},
     "output_type": "execute_result"
    }
   ],
   "source": [
    "data"
   ],
   "metadata": {
    "collapsed": false
   }
  },
  {
   "cell_type": "code",
   "execution_count": 2,
   "metadata": {},
   "outputs": [],
   "source": [
    "dist_matrix = [[0, 1817, 1420, 1473, 1039, 882, 1608, 1431, 1507, 904],\n",
    "                [1883, 0, 2113, 970, 1858, 1179, 537, 2046, 1010, 1737],\n",
    "                [1457, 2022, 0, 1322, 457, 1399, 2039, 85, 1431, 2127],\n",
    "                [1571, 813, 1350, 0, 1189, 858, 879, 1285, 199, 1432],\n",
    "                [1074, 1867, 473, 1191, 0, 1004, 1649, 481, 1287, 1752],\n",
    "                [1005, 1193, 1423, 856, 1042, 0, 1010, 1430, 896, 799],\n",
    "                [1702, 494, 2056, 914, 1714, 982, 0, 1973, 952, 1468],\n",
    "                [1459, 1952, 102, 1257, 454, 1388, 1973, 0, 1355, 2132],\n",
    "                [1643, 881, 1414, 215, 1256, 933, 943, 1339, 0, 1511],\n",
    "                [902, 1728, 2060, 1386, 1689, 761, 1382, 2069, 1422, 0]] #[m]\n",
    "\n",
    "time_matrix = [[0, 1817, 1420, 1473, 1039, 882, 1608, 1431, 1507, 904],\n",
    "                [1883, 0, 2113, 970, 1858, 1179, 537, 2046, 1010, 1737],\n",
    "                [1457, 2022, 0, 1322, 457, 1399, 2039, 85, 1431, 2127],\n",
    "                [1571, 813, 1350, 0, 1189, 858, 879, 1285, 199, 1432],\n",
    "                [1074, 1867, 473, 1191, 0, 1004, 1649, 481, 1287, 1752],\n",
    "                [1005, 1193, 1423, 856, 1042, 0, 1010, 1430, 896, 799],\n",
    "                [1702, 494, 2056, 914, 1714, 982, 0, 1973, 952, 1468],\n",
    "                [1459, 1952, 102, 1257, 454, 1388, 1973, 0, 1355, 2132],\n",
    "                [1643, 881, 1414, 215, 1256, 933, 943, 1339, 0, 1511],\n",
    "                [902, 1728, 2060, 1386, 1689, 761, 1382, 2069, 1422, 0]] #[s]\n",
    "\n",
    "dist_matrix = np.array(dist_matrix)\n",
    "time_matrix = np.array(time_matrix)\n"
   ]
  },
  {
   "cell_type": "code",
   "execution_count": 3,
   "metadata": {},
   "outputs": [],
   "source": [
    "vrp_out = {'routes': [\n",
    "    {'route': [0, 4, 5, 8, 0],\n",
    "     'routeTotalTime': 5369,\n",
    "     'routeTotalDist': 3985\n",
    "    }, \n",
    "    {'route': [0, 1, 6, 2, 0],\n",
    "     'routeTotalTime': 8133,\n",
    "     'routeTotalDist': 1806\n",
    "    }, \n",
    "    {'route': [0, 3, 7, 0],\n",
    "     'routeTotalTime': 8042,\n",
    "     'routeTotalDist': 3564\n",
    "    }, \n",
    "    {'route': [0, 9, 0],\n",
    "     'routeTotalTime': 5316,\n",
    "     'routeTotalDist': 3033\n",
    "    }], \n",
    " 'objective': 366036\n",
    "}\n"
   ]
  },
  {
   "cell_type": "code",
   "execution_count": 4,
   "metadata": {},
   "outputs": [],
   "source": [
    "### Dist & Emissions avoided \n",
    "# Inputs :  dist_matrix: the distance matrix\n",
    "#           vrp_out: the results of the vrp\n",
    "# Outputs:  - the avoided distance in meters\n",
    "#           - the avoided emissions in gCO2eq\n",
    "\n",
    "def fct_avoided_dist(dist_matrix, vrp_out):\n",
    "    EMISSION_CAR     = 0.17 #[g/(m*passanger)]\n",
    "    EMISSION_SHUTTLE = 0.10 #[g/(m*passanger)]\n",
    "\n",
    "    FIRST_EMPLOYEE = 1\n",
    "    COMPANY_COLUMN = 0\n",
    "\n",
    "    avoided_dist = 0\n",
    "    em_shuttles  = 0\n",
    "    em_cars      = 0\n",
    "    nb_employees = len(dist_matrix)\n",
    "\n",
    "    for s in range(len(vrp_out['routes'])):\n",
    "        \n",
    "        dist_cars = 0\n",
    "        for i in range(FIRST_EMPLOYEE, len(vrp_out['routes'][s]['route'])-1):\n",
    "            dist_cars += dist_matrix[i,COMPANY_COLUMN]\n",
    "        \n",
    "        avoided_dist += (dist_cars - vrp_out['routes'][s]['routeTotalDist'])\n",
    "        em_shuttles  += (vrp_out['routes'][s]['routeTotalDist'] * EMISSION_SHUTTLE)\n",
    "        em_cars      += (dist_cars * EMISSION_CAR)\n",
    "\n",
    "    avoided_em = (em_cars - em_shuttles)*nb_employees\n",
    "\n",
    "    return(avoided_dist, avoided_em)\n",
    "\n"
   ]
  },
  {
   "cell_type": "code",
   "execution_count": 5,
   "metadata": {},
   "outputs": [],
   "source": [
    "### Overall time of work loss\n",
    "# Inputs :  time_matrix: the time matrix between all employees\n",
    "#           vrp_time: the time result of the vrp\n",
    "# Outputs:  - the overall time lost in seconds\n",
    "#           - mean time lost\n",
    "#           - the maximum time lost for all employees\n",
    "#           - the minimum time lost for all employees\n",
    "\n",
    "def fct_time_lost(time_matrix, vrp_out):\n",
    "    FIRST_SHUTTLE  = 0\n",
    "    FIRST_EMPLOYEE = 1\n",
    "    COMPANY_COLUMN = 0\n",
    "    \n",
    "    tot_time_lost = 0\n",
    "    max_time_lost = 0\n",
    "    min_time_lost = vrp_out['routes'][FIRST_SHUTTLE]['routeTotalTime'] - time_matrix[vrp_out['routes'][FIRST_SHUTTLE]['route'][FIRST_EMPLOYEE], COMPANY_COLUMN]\n",
    "    nb_employees  = len(time_matrix)\n",
    "\n",
    "    for s in range(len(vrp_out['routes'])):\n",
    "        for i in range(FIRST_EMPLOYEE, len(vrp_out['routes'][s]['route'])-1):\n",
    "            time_lost_i = (vrp_out['routes'][s]['routeTotalTime'] - time_matrix[i, COMPANY_COLUMN])\n",
    "            tot_time_lost  += time_lost_i\n",
    "\n",
    "            if time_lost_i > max_time_lost:\n",
    "                max_time_lost = time_lost_i\n",
    "            \n",
    "            if time_lost_i < min_time_lost:\n",
    "                min_time_lost = time_lost_i\n",
    "\n",
    "    mean_time_lost = tot_time_lost/nb_employees\n",
    "\n",
    "    return(tot_time_lost, mean_time_lost, max_time_lost, min_time_lost)"
   ]
  },
  {
   "cell_type": "code",
   "execution_count": 8,
   "metadata": {},
   "outputs": [],
   "source": [
    "### Calculate & save resutls\n",
    "# Inputs:   create_file: a boolean : true to create a new file (and erase previous one), False to add a row to the existing file\n",
    "#           test_number: the name of the test, it will apprear on the first column of the output\n",
    "#           dist_matrix: the distance matrix\n",
    "#           time_matrix: the time matrix\n",
    "#           vrp_out: the output dictionnary of the vrp\n",
    "# Output:   - a print of the costs\n",
    "#           - a file called \"outputs-csv\" with the costs\n",
    "def fct_print_costs_save(create_file, test_number, dist_matrix, time_matrix, vrp_out):\n",
    "    if create_file == True:\n",
    "        with open('outputs.csv', 'w', newline='') as file:\n",
    "            # 2. step\n",
    "            w = writer(file)\n",
    "            # 3. step\n",
    "            w.writerow([\"Test number; avoided dist [m]; avoided emissions [gCO2eq]; total time lost [s]; mean time lost [s]; max_time_lost [s]; min_time_lost[s]\"])\n",
    "\n",
    "\n",
    "    [avoided_dist, avoided_em] = fct_avoided_dist(dist_matrix, vrp_out)\n",
    "    [tot_time_lost, mean_time_lost, max_time_lost, min_time_lost] = fct_time_lost(time_matrix, vrp_out)\n",
    "    newrow = [str(test_number)+\";\" + str(avoided_dist)+\";\"+str(avoided_em)+\";\"+str(tot_time_lost)+\";\"+str(mean_time_lost)+\";\"+str(max_time_lost)+\";\"+str(min_time_lost)]\n",
    "\n",
    "    with open('outputs.csv', 'a+', newline='') as write_obj:\n",
    "        # Create a writer object from csv module\n",
    "        csv_writer = writer(write_obj)\n",
    "        # Add contents of list as last row in the csv file\n",
    "        csv_writer.writerow(newrow)\n",
    "\n",
    "    print(\n",
    "    \"avoided distance -------- \" + str(avoided_dist) + \" [m]\\n\"\n",
    "    \"avoided emissions ------- \" + str(avoided_dist) + \" [gCO2eq]\\n\"\n",
    "    \"total time lost --------- \" + str(tot_time_lost) + \" [s]\\n\"\n",
    "    \"mean time lost ---------- \" + str(mean_time_lost) + \" [s]\\n\"\n",
    "    \"maximum time lost ------- \" + str(max_time_lost) + \" [s]\\n\"\n",
    "    \"minimum time lost ------- \" + str(min_time_lost) + \" [s]\\n\"\n",
    "    )"
   ]
  },
  {
   "cell_type": "code",
   "execution_count": 9,
   "metadata": {},
   "outputs": [
    {
     "name": "stdout",
     "output_type": "stream",
     "text": [
      "avoided distance -------- 2657 [m]\n",
      "avoided emissions ------- 2657 [gCO2eq]\n",
      "total time lost --------- 46861 [s]\n",
      "mean time lost ---------- 4686.1 [s]\n",
      "maximum time lost ------- 6676 [s]\n",
      "minimum time lost ------- 3433 [s]\n",
      "\n"
     ]
    }
   ],
   "source": [
    "fct_print_costs_save(True, 1, dist_matrix, time_matrix, vrp_out)"
   ]
  }
 ],
 "metadata": {
  "kernelspec": {
   "display_name": "Python 3",
   "language": "python",
   "name": "python3"
  },
  "language_info": {
   "codemirror_mode": {
    "name": "ipython",
    "version": 3
   },
   "file_extension": ".py",
   "mimetype": "text/x-python",
   "name": "python",
   "nbconvert_exporter": "python",
   "pygments_lexer": "ipython3",
   "version": "3.10.2"
  },
  "orig_nbformat": 4,
  "vscode": {
   "interpreter": {
    "hash": "934bd900218f291436a8a02843be138c5a3ba92f3c7bd2d84fb9395b1afc0487"
   }
  }
 },
 "nbformat": 4,
 "nbformat_minor": 2
}
