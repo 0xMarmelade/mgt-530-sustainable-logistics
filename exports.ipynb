{
 "cells": [
  {
   "cell_type": "code",
   "execution_count": 8,
   "metadata": {},
   "outputs": [],
   "source": [
    "import numpy as np\n",
    "from csv import writer"
   ]
  },
  {
   "cell_type": "code",
   "execution_count": 9,
   "metadata": {},
   "outputs": [],
   "source": [
    "dist_matrix = [[0, 1817, 1420, 1473, 1039, 882, 1608, 1431, 1507, 904],\n",
    "                [1883, 0, 2113, 970, 1858, 1179, 537, 2046, 1010, 1737],\n",
    "                [1457, 2022, 0, 1322, 457, 1399, 2039, 85, 1431, 2127],\n",
    "                [1571, 813, 1350, 0, 1189, 858, 879, 1285, 199, 1432],\n",
    "                [1074, 1867, 473, 1191, 0, 1004, 1649, 481, 1287, 1752],\n",
    "                [1005, 1193, 1423, 856, 1042, 0, 1010, 1430, 896, 799],\n",
    "                [1702, 494, 2056, 914, 1714, 982, 0, 1973, 952, 1468],\n",
    "                [1459, 1952, 102, 1257, 454, 1388, 1973, 0, 1355, 2132],\n",
    "                [1643, 881, 1414, 215, 1256, 933, 943, 1339, 0, 1511],\n",
    "                [902, 1728, 2060, 1386, 1689, 761, 1382, 2069, 1422, 0]] #[m]\n",
    "\n",
    "time_matrix = [[0, 1817, 1420, 1473, 1039, 882, 1608, 1431, 1507, 904],\n",
    "                [1883, 0, 2113, 970, 1858, 1179, 537, 2046, 1010, 1737],\n",
    "                [1457, 2022, 0, 1322, 457, 1399, 2039, 85, 1431, 2127],\n",
    "                [1571, 813, 1350, 0, 1189, 858, 879, 1285, 199, 1432],\n",
    "                [1074, 1867, 473, 1191, 0, 1004, 1649, 481, 1287, 1752],\n",
    "                [1005, 1193, 1423, 856, 1042, 0, 1010, 1430, 896, 799],\n",
    "                [1702, 494, 2056, 914, 1714, 982, 0, 1973, 952, 1468],\n",
    "                [1459, 1952, 102, 1257, 454, 1388, 1973, 0, 1355, 2132],\n",
    "                [1643, 881, 1414, 215, 1256, 933, 943, 1339, 0, 1511],\n",
    "                [902, 1728, 2060, 1386, 1689, 761, 1382, 2069, 1422, 0]] #[s]\n",
    "\n",
    "dist_matrix = np.array(dist_matrix)\n",
    "time_matrix = np.array(time_matrix)\n"
   ]
  },
  {
   "cell_type": "code",
   "execution_count": 10,
   "metadata": {},
   "outputs": [],
   "source": [
    "vrp_out = {'routes': [\n",
    "    {'route': [0, 4, 5, 8, 0],\n",
    "     'routeSize': 5369,\n",
    "     'routeDist': 3985\n",
    "    }, \n",
    "    {'route': [0, 1, 6, 2, 0],\n",
    "     'routeSize': 8133,\n",
    "     'routeDist': 1806\n",
    "    }, \n",
    "    {'route': [0, 3, 7, 0],\n",
    "     'routeSize': 8042,\n",
    "     'routeDist': 3564\n",
    "    }, \n",
    "    {'route': [0, 9, 0],\n",
    "     'routeSize': 5316,\n",
    "     'routeDist': 3033\n",
    "    }], \n",
    " 'objective': 366036\n",
    "}\n"
   ]
  },
  {
   "cell_type": "code",
   "execution_count": 68,
   "metadata": {},
   "outputs": [],
   "source": [
    "### Dist & Emissions avoided \n",
    "# Inputs :  dist_matrix: the distance matrix\n",
    "#           vrp_out: the results of the vrp\n",
    "# Outputs:  - the avoided distance in meters\n",
    "#           - the avoided emissions in gCO2eq\n",
    "\n",
    "def fct_avoided_dist(dist_matrix, vrp_out):\n",
    "    EMISSION_CAR     = 0.17 #[g/(m*passanger)]\n",
    "    EMISSION_SHUTTLE = 0.10 #[g/(m*passanger)]\n",
    "\n",
    "    FIRST_EMPLOYEE = 1\n",
    "    COMPANY_COLUMN = 0\n",
    "\n",
    "    avoided_dist = 0\n",
    "    em_shuttles  = 0\n",
    "    em_cars      = 0\n",
    "    nb_employees = len(dist_matrix)\n",
    "\n",
    "    for s in range(len(vrp_out['routes'])):\n",
    "        \n",
    "        dist_cars = 0\n",
    "        for i in range(FIRST_EMPLOYEE, len(vrp_out['routes'][s]['route'])-1):\n",
    "            dist_cars += dist_matrix[i,COMPANY_COLUMN]\n",
    "        \n",
    "        avoided_dist += (dist_cars - vrp_out['routes'][s]['routeDist'])\n",
    "        em_shuttles  += (vrp_out['routes'][s]['routeDist'] * EMISSION_SHUTTLE)\n",
    "        em_cars      += (dist_cars * EMISSION_CAR)\n",
    "\n",
    "    avoided_em = (em_cars - em_shuttles)*nb_employees\n",
    "\n",
    "    return(avoided_dist, avoided_em)\n",
    "\n"
   ]
  },
  {
   "cell_type": "code",
   "execution_count": 101,
   "metadata": {},
   "outputs": [],
   "source": [
    "### Overall time of work loss\n",
    "# Inputs :  time_matrix: the time matrix between all employees\n",
    "#           vrp_time: the time result of the vrp\n",
    "# Outputs:  - the overall time lost in seconds\n",
    "#           - mean time lost\n",
    "#           - the maximum time lost for all employees\n",
    "#           - the minimum time lost for all employees\n",
    "\n",
    "def fct_time_lost(time_matrix, vrp_out):\n",
    "    FIRST_SHUTTLE  = 0\n",
    "    FIRST_EMPLOYEE = 1\n",
    "    COMPANY_COLUMN = 0\n",
    "    \n",
    "    tot_time_lost = 0\n",
    "    max_time_lost = 0\n",
    "    min_time_lost = vrp_out['routes'][FIRST_SHUTTLE]['routeSize'] - time_matrix[vrp_out['routes'][FIRST_SHUTTLE]['route'][FIRST_EMPLOYEE], COMPANY_COLUMN]\n",
    "    nb_employees  = len(time_matrix)\n",
    "\n",
    "    for s in range(len(vrp_out['routes'])):\n",
    "        for i in range(FIRST_EMPLOYEE, len(vrp_out['routes'][s]['route'])-1):\n",
    "            time_lost_i = (vrp_out['routes'][s]['routeSize'] - time_matrix[i, COMPANY_COLUMN])\n",
    "            tot_time_lost  += time_lost_i\n",
    "\n",
    "            if time_lost_i > max_time_lost:\n",
    "                max_time_lost = time_lost_i\n",
    "            \n",
    "            if time_lost_i < min_time_lost:\n",
    "                min_time_lost = time_lost_i\n",
    "\n",
    "    mean_time_lost = tot_time_lost/nb_employees\n",
    "\n",
    "    return(tot_time_lost, mean_time_lost, max_time_lost, min_time_lost)"
   ]
  },
  {
   "cell_type": "code",
   "execution_count": 105,
   "metadata": {},
   "outputs": [],
   "source": [
    "### Calculate & save resutls\n",
    "# Inputs:   create_file: a boolean : true to create a new file (and erase previous one), False to add a row to the existing file\n",
    "#           test_number: the name of the test, it will apprear on the first column of the output\n",
    "# Output:   - a print of the costs\n",
    "#           - a file called \"outputs-csv\" with the costs\n",
    "def fct_print_costs_save(create_file, test_number):\n",
    "    if create_file == True:\n",
    "        with open('outputs.csv', 'w', newline='') as file:\n",
    "            # 2. step\n",
    "            w = writer(file)\n",
    "            # 3. step\n",
    "            w.writerow([\"Test number; avoided dist [m]; avoided emissions [gCO2eq]; total time lost [s]; mean time lost [s]; max_time_lost [s]; min_time_lost[s]\"])\n",
    "\n",
    "\n",
    "    [avoided_dist, avoided_em] = fct_avoided_dist(dist_matrix, vrp_out_true)\n",
    "    [tot_time_lost, mean_time_lost, max_time_lost, min_time_lost] = fct_time_lost(time_matrix, vrp_out_true)\n",
    "    newrow = [str(test_number)+\";\" + str(avoided_dist)+\";\"+str(avoided_em)+\";\"+str(tot_time_lost)+\";\"+str(mean_time_lost)+\";\"+str(max_time_lost)+\";\"+str(min_time_lost)]\n",
    "\n",
    "    with open('outputs.csv', 'a+', newline='') as write_obj:\n",
    "        # Create a writer object from csv module\n",
    "        csv_writer = writer(write_obj)\n",
    "        # Add contents of list as last row in the csv file\n",
    "        csv_writer.writerow(newrow)\n",
    "\n",
    "    print(\n",
    "    \"avoided distance -------- \" + str(avoided_dist) + \" [m]\\n\"\n",
    "    \"avoided emissions ------- \" + str(avoided_dist) + \" [gCO2eq]\\n\"\n",
    "    \"total time lost --------- \" + str(tot_time_lost) + \" [s]\\n\"\n",
    "    \"mean time lost ---------- \" + str(mean_time_lost) + \" [s]\\n\"\n",
    "    \"maximum time lost ------- \" + str(max_time_lost) + \" [s]\\n\"\n",
    "    \"minimum time lost ------- \" + str(min_time_lost) + \" [s]\\n\"\n",
    "    )"
   ]
  },
  {
   "cell_type": "code",
   "execution_count": 106,
   "metadata": {},
   "outputs": [
    {
     "name": "stdout",
     "output_type": "stream",
     "text": [
      "avoided distance -------- 2657 [m]\n",
      "avoided emissions ------- 2657 [gCO2eq]\n",
      "total time lost --------- 46861 [s]\n",
      "mean time lost ---------- 4686.1 [s]\n",
      "maximum time lost ------- 6676 [s]\n",
      "minimum time lost ------- 3433 [s]\n",
      "\n"
     ]
    }
   ],
   "source": [
    "fct_print_costs_save(True, 1)"
   ]
  }
 ],
 "metadata": {
  "kernelspec": {
   "display_name": "Python 3",
   "language": "python",
   "name": "python3"
  },
  "language_info": {
   "codemirror_mode": {
    "name": "ipython",
    "version": 3
   },
   "file_extension": ".py",
   "mimetype": "text/x-python",
   "name": "python",
   "nbconvert_exporter": "python",
   "pygments_lexer": "ipython3",
   "version": "3.10.2"
  },
  "orig_nbformat": 4,
  "vscode": {
   "interpreter": {
    "hash": "934bd900218f291436a8a02843be138c5a3ba92f3c7bd2d84fb9395b1afc0487"
   }
  }
 },
 "nbformat": 4,
 "nbformat_minor": 2
}
