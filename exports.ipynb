{
 "cells": [
  {
   "cell_type": "code",
   "execution_count": 1,
   "metadata": {},
   "outputs": [],
   "source": [
    "import numpy as np\n",
    "from csv import writer\n",
    "import json"
   ]
  },
  {
   "cell_type": "code",
   "execution_count": 34,
   "outputs": [],
   "source": [
    "data = {}\n",
    "with open('./results/2022-12-16 142018.578552.json') as result_file:\n",
    "    data = json.load(result_file)"
   ],
   "metadata": {
    "collapsed": false
   }
  },
  {
   "cell_type": "code",
   "execution_count": 45,
   "outputs": [
    {
     "data": {
      "text/plain": "{'routes': [{'route': [0, 15, 21, 4, 2, 1, 0],\n   'routeTotalTime': 20422,\n   'routeTotalDist': 242390},\n  {'route': [0, 12, 19, 3, 8, 0],\n   'routeTotalTime': 15610,\n   'routeTotalDist': 227174},\n  {'route': [0, 11, 18, 6, 9, 23, 20, 14, 0],\n   'routeTotalTime': 22952,\n   'routeTotalDist': 322785},\n  {'route': [0, 13, 5, 24, 7, 10, 17, 16, 22, 0],\n   'routeTotalTime': 24705,\n   'routeTotalDist': 299741}],\n 'objective': 561934}"
     },
     "execution_count": 45,
     "metadata": {},
     "output_type": "execute_result"
    }
   ],
   "source": [
    "\"\"\"\n",
    "data {\n",
    "    'distance_matrix_time': distance_matrix_time,\n",
    "    'employees': coordinates_list,\n",
    "    'results': [\n",
    "         'num_vehicles': n_shuttle,\n",
    "         'max_time_shuttle': max_time,\n",
    "         'result': {\n",
    "            'routes': [{\n",
    "                'route': [],\n",
    "                'routeTotalTime': 0,\n",
    "                'routeTotalDist': 0\n",
    "                },\n",
    "                ... more routes\n",
    "            ]\n",
    "            'objective': solution.ObjectiveValue()\n",
    "            },\n",
    "        ... more results\n",
    "        ]\n",
    "    ]\n",
    "}\n",
    "\"\"\""
   ],
   "metadata": {
    "collapsed": false
   }
  },
  {
   "cell_type": "code",
   "execution_count": 2,
   "metadata": {},
   "outputs": [],
   "source": [
    "dist_matrix = [[0, 1817, 1420, 1473, 1039, 882, 1608, 1431, 1507, 904],\n",
    "                [1883, 0, 2113, 970, 1858, 1179, 537, 2046, 1010, 1737],\n",
    "                [1457, 2022, 0, 1322, 457, 1399, 2039, 85, 1431, 2127],\n",
    "                [1571, 813, 1350, 0, 1189, 858, 879, 1285, 199, 1432],\n",
    "                [1074, 1867, 473, 1191, 0, 1004, 1649, 481, 1287, 1752],\n",
    "                [1005, 1193, 1423, 856, 1042, 0, 1010, 1430, 896, 799],\n",
    "                [1702, 494, 2056, 914, 1714, 982, 0, 1973, 952, 1468],\n",
    "                [1459, 1952, 102, 1257, 454, 1388, 1973, 0, 1355, 2132],\n",
    "                [1643, 881, 1414, 215, 1256, 933, 943, 1339, 0, 1511],\n",
    "                [902, 1728, 2060, 1386, 1689, 761, 1382, 2069, 1422, 0]] #[m]\n",
    "\n",
    "time_matrix = [[0, 1817, 1420, 1473, 1039, 882, 1608, 1431, 1507, 904],\n",
    "                [1883, 0, 2113, 970, 1858, 1179, 537, 2046, 1010, 1737],\n",
    "                [1457, 2022, 0, 1322, 457, 1399, 2039, 85, 1431, 2127],\n",
    "                [1571, 813, 1350, 0, 1189, 858, 879, 1285, 199, 1432],\n",
    "                [1074, 1867, 473, 1191, 0, 1004, 1649, 481, 1287, 1752],\n",
    "                [1005, 1193, 1423, 856, 1042, 0, 1010, 1430, 896, 799],\n",
    "                [1702, 494, 2056, 914, 1714, 982, 0, 1973, 952, 1468],\n",
    "                [1459, 1952, 102, 1257, 454, 1388, 1973, 0, 1355, 2132],\n",
    "                [1643, 881, 1414, 215, 1256, 933, 943, 1339, 0, 1511],\n",
    "                [902, 1728, 2060, 1386, 1689, 761, 1382, 2069, 1422, 0]] #[s]\n",
    "\n",
    "dist_matrix = np.array(dist_matrix)\n",
    "time_matrix = np.array(time_matrix)\n"
   ]
  },
  {
   "cell_type": "code",
   "execution_count": 3,
   "metadata": {},
   "outputs": [],
   "source": [
    "vrp_out = {'routes': [\n",
    "    {'route': [0, 4, 5, 8, 0],\n",
    "     'routeTotalTime': 5369,\n",
    "     'routeTotalDist': 3985\n",
    "    }, \n",
    "    {'route': [0, 1, 6, 2, 0],\n",
    "     'routeTotalTime': 8133,\n",
    "     'routeTotalDist': 1806\n",
    "    }, \n",
    "    {'route': [0, 3, 7, 0],\n",
    "     'routeTotalTime': 8042,\n",
    "     'routeTotalDist': 3564\n",
    "    }, \n",
    "    {'route': [0, 9, 0],\n",
    "     'routeTotalTime': 5316,\n",
    "     'routeTotalDist': 3033\n",
    "    }], \n",
    " 'objective': 366036\n",
    "}\n"
   ]
  },
  {
   "cell_type": "code",
   "execution_count": 23,
   "metadata": {},
   "outputs": [],
   "source": [
    "### Dist & Emissions avoided \n",
    "# Inputs :  dist_matrix: the distance matrix\n",
    "#           vrp_out: the results of the vrp\n",
    "# Outputs:  - the avoided distance in meters\n",
    "#           - the avoided emissions in gCO2eq\n",
    "\n",
    "def fct_avoided_dist(dist_matrix, vrp_out):\n",
    "    EMISSION_CAR     = 0.17 #[g/(m*passanger)]\n",
    "    EMISSION_SHUTTLE = 0.10 #[g/(m*passanger)]\n",
    "\n",
    "    FIRST_EMPLOYEE = 1\n",
    "    COMPANY_COLUMN = 0\n",
    "\n",
    "    avoided_dist = 0\n",
    "    em_shuttles  = 0\n",
    "    em_cars      = 0\n",
    "    nb_employees = len(dist_matrix)\n",
    "\n",
    "    for s in range(len(vrp_out['routes'])):\n",
    "        \n",
    "        dist_cars = 0\n",
    "        for i in range(FIRST_EMPLOYEE, len(vrp_out['routes'][s]['route'])-1):\n",
    "            dist_cars += dist_matrix[i][COMPANY_COLUMN]\n",
    "        \n",
    "        avoided_dist += (dist_cars - vrp_out['routes'][s]['routeTotalDist'])\n",
    "        em_shuttles  += (vrp_out['routes'][s]['routeTotalDist'] * EMISSION_SHUTTLE)\n",
    "        em_cars      += (dist_cars * EMISSION_CAR)\n",
    "\n",
    "    avoided_em = (em_cars - em_shuttles)*nb_employees\n",
    "\n",
    "    return(avoided_dist, avoided_em)\n",
    "\n"
   ]
  },
  {
   "cell_type": "code",
   "execution_count": 24,
   "metadata": {},
   "outputs": [],
   "source": [
    "### Overall time of work loss\n",
    "# Inputs :  time_matrix: the time matrix between all employees\n",
    "#           vrp_time: the time result of the vrp\n",
    "# Outputs:  - the overall time lost in seconds\n",
    "#           - mean time lost\n",
    "#           - the maximum time lost for all employees\n",
    "#           - the minimum time lost for all employees\n",
    "\n",
    "def fct_time_lost(time_matrix, vrp_out):\n",
    "    FIRST_SHUTTLE  = 0\n",
    "    FIRST_EMPLOYEE = 1\n",
    "    COMPANY_COLUMN = 0\n",
    "    \n",
    "    tot_time_lost = 0\n",
    "    max_time_lost = 0\n",
    "    min_time_lost = vrp_out['routes'][FIRST_SHUTTLE]['routeTotalTime'] - time_matrix[vrp_out['routes'][FIRST_SHUTTLE]['route'][FIRST_EMPLOYEE]][COMPANY_COLUMN]\n",
    "    nb_employees  = len(time_matrix)\n",
    "\n",
    "    for s in range(len(vrp_out['routes'])):\n",
    "        for i in range(FIRST_EMPLOYEE, len(vrp_out['routes'][s]['route'])-1):\n",
    "            time_lost_i = (vrp_out['routes'][s]['routeTotalTime'] - time_matrix[i][COMPANY_COLUMN])\n",
    "            tot_time_lost  += time_lost_i\n",
    "\n",
    "            if time_lost_i > max_time_lost:\n",
    "                max_time_lost = time_lost_i\n",
    "            \n",
    "            if time_lost_i < min_time_lost:\n",
    "                min_time_lost = time_lost_i\n",
    "\n",
    "    mean_time_lost = tot_time_lost/nb_employees\n",
    "\n",
    "    return(tot_time_lost, mean_time_lost, max_time_lost, min_time_lost)"
   ]
  },
  {
   "cell_type": "code",
   "execution_count": 25,
   "metadata": {},
   "outputs": [],
   "source": [
    "### Calculate & save resutls\n",
    "# Inputs:   create_file: a boolean : true to create a new file (and erase previous one), False to add a row to the existing file\n",
    "#           test_number: the name of the test, it will apprear on the first column of the output\n",
    "#           dist_matrix: the distance matrix\n",
    "#           time_matrix: the time matrix\n",
    "#           vrp_out: the output dictionnary of the vrp\n",
    "# Output:   - a print of the costs\n",
    "#           - a file called \"outputs-csv\" with the costs\n",
    "def fct_print_costs_save(create_file, test_number, dist_matrix, time_matrix, vrp_out):\n",
    "    if create_file == True:\n",
    "        with open('outputs.csv', 'w', newline='') as file:\n",
    "            # 2. step\n",
    "            w = writer(file)\n",
    "            # 3. step\n",
    "            w.writerow([\"Test number; avoided dist [m]; avoided emissions [gCO2eq]; total time lost [s]; mean time lost [s]; max_time_lost [s]; min_time_lost[s]\"])\n",
    "\n",
    "\n",
    "    [avoided_dist, avoided_em] = fct_avoided_dist(dist_matrix, vrp_out)\n",
    "    [tot_time_lost, mean_time_lost, max_time_lost, min_time_lost] = fct_time_lost(time_matrix, vrp_out)\n",
    "    newrow = [str(test_number)+\";\" + str(avoided_dist)+\";\"+str(avoided_em)+\";\"+str(tot_time_lost)+\";\"+str(mean_time_lost)+\";\"+str(max_time_lost)+\";\"+str(min_time_lost)]\n",
    "\n",
    "    with open(f'./results/metrics-outputs.csv', 'a+', newline='') as write_obj:\n",
    "        # Create a writer object from csv module\n",
    "        csv_writer = writer(write_obj)\n",
    "        # Add contents of list as last row in the csv file\n",
    "        csv_writer.writerow(newrow)\n",
    "\n",
    "    print(\n",
    "    \"avoided distance -------- \" + str(avoided_dist) + \" [m]\\n\"\n",
    "    \"avoided emissions ------- \" + str(avoided_dist) + \" [gCO2eq]\\n\"\n",
    "    \"total time lost --------- \" + str(tot_time_lost) + \" [s]\\n\"\n",
    "    \"mean time lost ---------- \" + str(mean_time_lost) + \" [s]\\n\"\n",
    "    \"maximum time lost ------- \" + str(max_time_lost) + \" [s]\\n\"\n",
    "    \"minimum time lost ------- \" + str(min_time_lost) + \" [s]\\n\"\n",
    "    )"
   ]
  },
  {
   "cell_type": "code",
   "execution_count": 26,
   "metadata": {},
   "outputs": [
    {
     "ename": "NameError",
     "evalue": "name 'dist_matrix' is not defined",
     "output_type": "error",
     "traceback": [
      "\u001B[1;31m---------------------------------------------------------------------------\u001B[0m",
      "\u001B[1;31mNameError\u001B[0m                                 Traceback (most recent call last)",
      "Cell \u001B[1;32mIn [26], line 1\u001B[0m\n\u001B[1;32m----> 1\u001B[0m fct_print_costs_save(\u001B[38;5;28;01mTrue\u001B[39;00m, \u001B[38;5;241m1\u001B[39m, dist_matrix, time_matrix, vrp_out)\n",
      "\u001B[1;31mNameError\u001B[0m: name 'dist_matrix' is not defined"
     ]
    }
   ],
   "source": [
    "fct_print_costs_save(True, 1, dist_matrix, time_matrix, vrp_out)"
   ]
  },
  {
   "cell_type": "code",
   "execution_count": 35,
   "outputs": [
    {
     "name": "stdout",
     "output_type": "stream",
     "text": [
      "avoided distance -------- -620284 [m]\n",
      "avoided emissions ------- -620284 [gCO2eq]\n",
      "total time lost --------- 486903 [s]\n",
      "mean time lost ---------- 19476.12 [s]\n",
      "maximum time lost ------- 24118 [s]\n",
      "minimum time lost ------- 13482 [s]\n",
      "\n"
     ]
    }
   ],
   "source": [
    "fct_print_costs_save(True, 'Test 1 4 shuttles, 6000 max', data['distance_matrix_distance'], data['distance_matrix_time'], data['results'][0]['result'])"
   ],
   "metadata": {
    "collapsed": false
   }
  },
  {
   "cell_type": "code",
   "execution_count": 21,
   "outputs": [
    {
     "data": {
      "text/plain": "[[0,\n  24311,\n  24793,\n  26775,\n  35065,\n  2537,\n  20323,\n  8706,\n  24676,\n  21275,\n  17519,\n  3313,\n  23036,\n  4923,\n  16400,\n  25536,\n  13982,\n  13026,\n  19673,\n  17406,\n  15044,\n  24701,\n  9999,\n  14241,\n  3991],\n [24001,\n  0,\n  1512,\n  30985,\n  1902,\n  28762,\n  3932,\n  31241,\n  24000,\n  4117,\n  40054,\n  27020,\n  44323,\n  28065,\n  19886,\n  8377,\n  35269,\n  34313,\n  8487,\n  25231,\n  20844,\n  2355,\n  29359,\n  12702,\n  31621],\n [24073,\n  507,\n  0,\n  31056,\n  1973,\n  28834,\n  4004,\n  31313,\n  24071,\n  4188,\n  40126,\n  27091,\n  44394,\n  28137,\n  19957,\n  8449,\n  35340,\n  34385,\n  8558,\n  25302,\n  20916,\n  2427,\n  29431,\n  12773,\n  31692],\n [26645,\n  31109,\n  31591,\n  0,\n  29905,\n  32062,\n  27023,\n  34542,\n  8740,\n  28073,\n  43354,\n  30320,\n  12478,\n  31365,\n  10273,\n  27985,\n  17084,\n  19409,\n  24280,\n  9409,\n  11718,\n  31499,\n  16840,\n  21846,\n  34921],\n [20028,\n  2156,\n  2200,\n  29762,\n  0,\n  38764,\n  3726,\n  41243,\n  22777,\n  4771,\n  50056,\n  37022,\n  29534,\n  38067,\n  17848,\n  9567,\n  45270,\n  44315,\n  6111,\n  20945,\n  16492,\n  3079,\n  39361,\n  8531,\n  41622],\n [3262,\n  29637,\n  30120,\n  32474,\n  40392,\n  0,\n  25649,\n  6419,\n  30375,\n  26602,\n  15267,\n  3749,\n  22907,\n  3465,\n  22099,\n  30862,\n  13853,\n  12898,\n  24999,\n  22945,\n  20743,\n  30028,\n  12623,\n  22375,\n  1225],\n [20004,\n  4010,\n  3773,\n  26923,\n  3755,\n  24764,\n  0,\n  27244,\n  19939,\n  6220,\n  36057,\n  23022,\n  26767,\n  24068,\n  15080,\n  10481,\n  31271,\n  30316,\n  3344,\n  18178,\n  13724,\n  5764,\n  22826,\n  8704,\n  27623],\n [9098,\n  31465,\n  31947,\n  34301,\n  42219,\n  6548,\n  27476,\n  0,\n  32202,\n  28429,\n  13733,\n  5842,\n  24744,\n  5269,\n  23926,\n  32689,\n  15690,\n  14734,\n  26826,\n  24781,\n  22570,\n  31855,\n  15036,\n  24202,\n  5265],\n [24828,\n  24081,\n  24563,\n  8578,\n  22877,\n  29942,\n  19995,\n  32421,\n  0,\n  21045,\n  41234,\n  28200,\n  20746,\n  29245,\n  8809,\n  20958,\n  22029,\n  22300,\n  17252,\n  12158,\n  10430,\n  24471,\n  19731,\n  20759,\n  32801],\n [21344,\n  4399,\n  4243,\n  29202,\n  4782,\n  26105,\n  5761,\n  28584,\n  22218,\n  0,\n  37397,\n  24362,\n  41665,\n  25408,\n  18104,\n  5227,\n  32611,\n  31656,\n  5829,\n  22573,\n  18187,\n  4790,\n  26702,\n  10044,\n  28963],\n [18286,\n  40652,\n  41135,\n  43489,\n  51407,\n  17784,\n  36664,\n  13879,\n  41389,\n  37617,\n  0,\n  15030,\n  33931,\n  16075,\n  33114,\n  41877,\n  24878,\n  23922,\n  36014,\n  33969,\n  31758,\n  41043,\n  25121,\n  33389,\n  14740],\n [3418,\n  26643,\n  27125,\n  29479,\n  37397,\n  3445,\n  22654,\n  5909,\n  27380,\n  23607,\n  14722,\n  0,\n  19912,\n  1478,\n  19104,\n  27867,\n  10858,\n  9903,\n  22004,\n  19950,\n  17748,\n  27033,\n  9372,\n  19380,\n  4795],\n [29291,\n  50171,\n  50653,\n  12478,\n  30364,\n  28789,\n  26798,\n  31263,\n  20756,\n  47135,\n  40076,\n  27047,\n  0,\n  28092,\n  14481,\n  30486,\n  9862,\n  10465,\n  25036,\n  10388,\n  13052,\n  50561,\n  14762,\n  23180,\n  31642],\n [5030,\n  27697,\n  28180,\n  30533,\n  38452,\n  3170,\n  23709,\n  5873,\n  28434,\n  24662,\n  15777,\n  1473,\n  20967,\n  0,\n  20159,\n  28922,\n  11913,\n  10957,\n  23059,\n  21004,\n  18803,\n  28087,\n  10668,\n  20434,\n  4060],\n [16418,\n  22001,\n  22484,\n  10239,\n  18501,\n  21533,\n  14935,\n  24012,\n  8709,\n  18966,\n  32825,\n  19791,\n  14337,\n  20836,\n  0,\n  17418,\n  15363,\n  15634,\n  13172,\n  5748,\n  2020,\n  22392,\n  13065,\n  11317,\n  24392],\n [25549,\n  8605,\n  9414,\n  28401,\n  9600,\n  30310,\n  9966,\n  32789,\n  21416,\n  5230,\n  41602,\n  28568,\n  30492,\n  29613,\n  17302,\n  0,\n  36816,\n  35861,\n  9629,\n  21903,\n  17450,\n  8995,\n  26551,\n  14249,\n  33168],\n [14029,\n  34909,\n  35391,\n  19022,\n  45663,\n  13527,\n  30921,\n  16001,\n  22027,\n  31873,\n  24814,\n  11785,\n  10046,\n  12830,\n  15464,\n  36134,\n  0,\n  1406,\n  30270,\n  9944,\n  14035,\n  35299,\n  5596,\n  27646,\n  16380],\n [13421,\n  34301,\n  34783,\n  19369,\n  45055,\n  12919,\n  30313,\n  15393,\n  22375,\n  31265,\n  24206,\n  11177,\n  10434,\n  12222,\n  15812,\n  35526,\n  1430,\n  0,\n  29663,\n  10292,\n  14383,\n  34691,\n  5944,\n  27038,\n  15772],\n [20212,\n  8499,\n  6890,\n  24068,\n  6871,\n  24973,\n  3322,\n  27452,\n  17083,\n  5463,\n  36265,\n  23231,\n  25879,\n  24276,\n  12969,\n  9629,\n  31480,\n  30524,\n  0,\n  17290,\n  12836,\n  8889,\n  21938,\n  8913,\n  27831],\n [17536,\n  25297,\n  25780,\n  9378,\n  21797,\n  22625,\n  18231,\n  25099,\n  12189,\n  22262,\n  33912,\n  16754,\n  10367,\n  18092,\n  5914,\n  21919,\n  10028,\n  10300,\n  16468,\n  0,\n  4485,\n  25688,\n  7731,\n  14613,\n  25478],\n [15229,\n  20812,\n  21295,\n  11730,\n  17312,\n  20344,\n  13746,\n  22823,\n  10399,\n  17777,\n  31636,\n  18602,\n  13042,\n  19647,\n  2123,\n  17434,\n  14069,\n  14340,\n  11983,\n  4454,\n  0,\n  21202,\n  11771,\n  10128,\n  23203],\n [23985,\n  3327,\n  2924,\n  30969,\n  3146,\n  28746,\n  8402,\n  31225,\n  23984,\n  4101,\n  40038,\n  27004,\n  44306,\n  28049,\n  19870,\n  8361,\n  35253,\n  34297,\n  8470,\n  25214,\n  20828,\n  0,\n  29343,\n  12686,\n  31604],\n [10116,\n  29805,\n  30287,\n  16795,\n  40559,\n  11855,\n  22912,\n  15103,\n  19801,\n  26769,\n  24566,\n  9334,\n  14740,\n  10672,\n  13237,\n  26600,\n  5643,\n  5914,\n  21150,\n  7718,\n  11808,\n  30195,\n  0,\n  19035,\n  13205],\n [14645,\n  12737,\n  7957,\n  21857,\n  7939,\n  21816,\n  8748,\n  24295,\n  20244,\n  9701,\n  33108,\n  20074,\n  23169,\n  21119,\n  11483,\n  13961,\n  28323,\n  27367,\n  8098,\n  14581,\n  10127,\n  13127,\n  19045,\n  0,\n  24674],\n [4213,\n  32244,\n  32726,\n  35080,\n  42998,\n  1714,\n  28256,\n  5258,\n  32981,\n  29208,\n  14106,\n  5038,\n  25523,\n  3735,\n  24706,\n  33469,\n  16469,\n  15514,\n  27605,\n  25561,\n  23350,\n  32634,\n  13107,\n  24981,\n  0]]"
     },
     "execution_count": 21,
     "metadata": {},
     "output_type": "execute_result"
    }
   ],
   "source": [
    "data['distance_matrix_distance'][i]"
   ],
   "metadata": {
    "collapsed": false
   }
  },
  {
   "cell_type": "code",
   "execution_count": null,
   "outputs": [],
   "source": [],
   "metadata": {
    "collapsed": false
   }
  }
 ],
 "metadata": {
  "kernelspec": {
   "display_name": "Python 3",
   "language": "python",
   "name": "python3"
  },
  "language_info": {
   "codemirror_mode": {
    "name": "ipython",
    "version": 3
   },
   "file_extension": ".py",
   "mimetype": "text/x-python",
   "name": "python",
   "nbconvert_exporter": "python",
   "pygments_lexer": "ipython3",
   "version": "3.10.2"
  },
  "orig_nbformat": 4,
  "vscode": {
   "interpreter": {
    "hash": "934bd900218f291436a8a02843be138c5a3ba92f3c7bd2d84fb9395b1afc0487"
   }
  }
 },
 "nbformat": 4,
 "nbformat_minor": 2
}
