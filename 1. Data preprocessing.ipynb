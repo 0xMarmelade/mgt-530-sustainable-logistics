{
 "cells": [
  {
   "cell_type": "markdown",
   "metadata": {
    "collapsed": false
   },
   "source": [
    "# 1. Convert Swiss coordinates to Geographic coordinates"
   ]
  },
  {
   "cell_type": "markdown",
   "metadata": {
    "collapsed": false
   },
   "source": [
    "From Swissgrid coordinates (LV95) we project to classic World geodesic coordinates (WGS84)"
   ]
  },
  {
   "cell_type": "code",
   "execution_count": 1,
   "metadata": {
    "collapsed": false
   },
   "outputs": [],
   "source": [
    "import pandas as pd\n",
    "import numpy as np\n",
    "from pyproj import Transformer"
   ]
  },
  {
   "cell_type": "code",
   "execution_count": 2,
   "metadata": {
    "collapsed": true
   },
   "outputs": [],
   "source": [
    "def LV95_to_WGS84(coordinate_df: pd.DataFrame) -> pd.DataFrame:\n",
    "    transformer = Transformer.from_crs('epsg:2056', 'epsg:4326')\n",
    "    return pd.DataFrame(\n",
    "        np.transpose(\n",
    "            transformer.transform(coordinate_df['E_KOORD'], coordinate_df['N_KOORD'])\n",
    "        ),\n",
    "        columns=['latitude', 'longitude']\n",
    "    )"
   ]
  },
  {
   "cell_type": "code",
   "execution_count": 3,
   "metadata": {
    "collapsed": false
   },
   "outputs": [],
   "source": [
    "data_swissgrid_coordinates = pd.read_excel('STATPOP2021.xlsx')\n",
    "new_coordinates = LV95_to_WGS84(data_swissgrid_coordinates).join(data_swissgrid_coordinates['B21BTOT']).reindex()\n",
    "new_coordinates.to_csv('STATPOP2021_WGS84.csv')"
   ]
  }
 ],
 "metadata": {
  "kernelspec": {
   "display_name": "Python 3",
   "language": "python",
   "name": "python3"
  },
  "language_info": {
   "codemirror_mode": {
    "name": "ipython",
    "version": 2
   },
   "file_extension": ".py",
   "mimetype": "text/x-python",
   "name": "python",
   "nbconvert_exporter": "python",
   "pygments_lexer": "ipython2"
  },
  "vscode": {
   "interpreter": {
    "hash": "a376966417691e3d643cf0b28d44cca51cec471e801a5cac9a4014c9ea708c2d"
   }
  }
 },
 "nbformat": 4,
 "nbformat_minor": 0
}