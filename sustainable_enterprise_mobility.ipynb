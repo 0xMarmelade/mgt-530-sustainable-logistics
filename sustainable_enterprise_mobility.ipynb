{
 "cells": [
  {
   "cell_type": "markdown",
   "source": [
    "Dumb\n",
    "3. Dummy adress list\n",
    "2. Build empty distance matrix\n",
    "\n",
    "\n",
    "Questions: Comment combiner les matrices de distance des différents modes"
   ],
   "metadata": {
    "collapsed": false,
    "pycharm": {
     "name": "#%% md\n"
    }
   }
  },
  {
   "cell_type": "code",
   "execution_count": 11,
   "metadata": {
    "collapsed": true,
    "pycharm": {
     "name": "#%%\n"
    }
   },
   "outputs": [],
   "source": [
    "import os\n",
    "from dotenv import load_dotenv\n",
    "import requests\n"
   ]
  },
  {
   "cell_type": "code",
   "execution_count": 17,
   "outputs": [],
   "source": [
    "load_dotenv()\n",
    "key = os.getenv('GCP_KEY')"
   ],
   "metadata": {
    "collapsed": false,
    "pycharm": {
     "name": "#%%\n"
    }
   }
  },
  {
   "cell_type": "code",
   "execution_count": 31,
   "outputs": [
    {
     "name": "stdout",
     "output_type": "stream",
     "text": [
      "{\n",
      "   \"destination_addresses\" : [ \"Lausanne, Switzerland\", \"Vevey, Switzerland\" ],\n",
      "   \"origin_addresses\" : [ \"Av. de Corsier 20, 1800 Vevey, Switzerland\" ],\n",
      "   \"rows\" : [\n",
      "      {\n",
      "         \"elements\" : [\n",
      "            {\n",
      "               \"distance\" : {\n",
      "                  \"text\" : \"18.6 km\",\n",
      "                  \"value\" : 18564\n",
      "               },\n",
      "               \"duration\" : {\n",
      "                  \"text\" : \"28 mins\",\n",
      "                  \"value\" : 1705\n",
      "               },\n",
      "               \"status\" : \"OK\"\n",
      "            },\n",
      "            {\n",
      "               \"distance\" : {\n",
      "                  \"text\" : \"0.8 km\",\n",
      "                  \"value\" : 782\n",
      "               },\n",
      "               \"duration\" : {\n",
      "                  \"text\" : \"3 mins\",\n",
      "                  \"value\" : 180\n",
      "               },\n",
      "               \"status\" : \"OK\"\n",
      "            }\n",
      "         ]\n",
      "      }\n",
      "   ],\n",
      "   \"status\" : \"OK\"\n",
      "}\n",
      "\n"
     ]
    }
   ],
   "source": [
    "origin = \"Nestle, Vevey\"\n",
    "\n",
    "# The destination parameter is in URL-format (only ASCII) and multiple entries are separated by colons |\n",
    "destinations = [\"Lausanne, Vaud\", \"Vevey YO\"]\n",
    "destinations_fmt = '|'.join(destinations).replace(' ', \"%20\").replace(',', '%2C')\n",
    "\n",
    "url = f'https://maps.googleapis.com/maps/api/distancematrix/json' \\\n",
    "      f'?origins={origin}' \\\n",
    "      f'&destinations={destinations_fmt}' \\\n",
    "      f'&units=metric' \\\n",
    "      f'&key={key}'\n",
    "\n",
    "payload={}\n",
    "headers = {}\n",
    "\n",
    "response = requests.request(\"GET\", url, headers=headers, data=payload)\n",
    "\n",
    "print(response.text)"
   ],
   "metadata": {
    "collapsed": false,
    "pycharm": {
     "name": "#%%\n"
    }
   }
  },
  {
   "cell_type": "code",
   "execution_count": 27,
   "outputs": [
    {
     "data": {
      "text/plain": "'Lausanne%2C%20Vaud|Vevey%20YO'"
     },
     "execution_count": 27,
     "metadata": {},
     "output_type": "execute_result"
    }
   ],
   "source": [],
   "metadata": {
    "collapsed": false,
    "pycharm": {
     "name": "#%%\n"
    }
   }
  },
  {
   "cell_type": "code",
   "execution_count": null,
   "outputs": [],
   "source": [],
   "metadata": {
    "collapsed": false,
    "pycharm": {
     "name": "#%%\n"
    }
   }
  }
 ],
 "metadata": {
  "kernelspec": {
   "display_name": "Python 3",
   "language": "python",
   "name": "python3"
  },
  "language_info": {
   "codemirror_mode": {
    "name": "ipython",
    "version": 2
   },
   "file_extension": ".py",
   "mimetype": "text/x-python",
   "name": "python",
   "nbconvert_exporter": "python",
   "pygments_lexer": "ipython2",
   "version": "2.7.6"
  }
 },
 "nbformat": 4,
 "nbformat_minor": 0
}