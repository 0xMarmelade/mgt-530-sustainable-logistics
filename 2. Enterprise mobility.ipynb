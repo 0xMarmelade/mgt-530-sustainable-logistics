{
 "cells": [
  {
   "cell_type": "code",
   "execution_count": 43,
   "metadata": {
    "collapsed": true
   },
   "outputs": [],
   "source": [
    "import geopy.distance\n",
    "import numpy as np\n",
    "import pandas as pd\n",
    "from random import choices\n"
   ]
  },
  {
   "cell_type": "markdown",
   "source": [
    "# 1. Generating data"
   ],
   "metadata": {
    "collapsed": false
   }
  },
  {
   "cell_type": "code",
   "execution_count": 16,
   "outputs": [],
   "source": [
    "nestle_coord = (46.466634011, 6.835639010)\n",
    "density_coord = pd.read_csv('STATPOP2021_WGS84.csv')\n",
    "distance_cutoff = 20"
   ],
   "metadata": {
    "collapsed": false
   }
  },
  {
   "cell_type": "code",
   "execution_count": 17,
   "outputs": [],
   "source": [
    "density_coord_nestle = density_coord[density_coord.apply(\n",
    "    lambda row: geopy.distance.distance(\n",
    "        (row.latitude, row.longitude), nestle_coord).km < distance_cutoff,\n",
    "    axis=1)\n",
    "].reset_index(drop=True)\n",
    "total_pop = density_coord_nestle.B21BTOT.sum()\n",
    "density_coord_nestle['propability_density'] = (density_coord.B21BTOT / total_pop);\n",
    "\n",
    "density_coord_nestle.to_csv('STATPOP2021_WGS84.csv')"
   ],
   "metadata": {
    "collapsed": false
   }
  },
  {
   "cell_type": "markdown",
   "source": [
    "Draw 50 employees location from the density function around Nestle's HQ"
   ],
   "metadata": {
    "collapsed": false
   }
  },
  {
   "cell_type": "code",
   "execution_count": 46,
   "outputs": [],
   "source": [
    "n_employees = 10\n",
    "employee_indexes = choices(density_coord_nestle.index, density_coord_nestle.propability_density, k=n_employees)\n",
    "employee_locations = density_coord_nestle.iloc[employee_indexes][['latitude', 'longitude']]\n",
    "\n",
    "# We have to account for the possibility that more than one employees live at the same location\n",
    "employee_locations_grouped = employee_locations.groupby([employee_locations.index, 'latitude', 'longitude'],\n",
    "                                                        as_index=False).size()"
   ],
   "metadata": {
    "collapsed": false
   }
  },
  {
   "cell_type": "code",
   "execution_count": 29,
   "outputs": [],
   "source": [
    "coordinates_list = list(zip(employee_locations.latitude.tolist(), employee_locations.longitude.tolist()))\n",
    "coordinates_string = [f'{str(x)},{str(y)}' for x, y in coordinates_list[1:5]]"
   ],
   "metadata": {
    "collapsed": false
   }
  },
  {
   "cell_type": "code",
   "execution_count": 30,
   "outputs": [
    {
     "data": {
      "text/plain": "'46.52442399090659%2C6.617574007326364|46.63912431873141%2C6.832636992559628|46.55181875213747%2C6.675836870132429|46.60219461468144%2C6.823915589768784'"
     },
     "execution_count": 30,
     "metadata": {},
     "output_type": "execute_result"
    }
   ],
   "source": [
    "destinations_fmt = '|'.join(coordinates_string).replace(' ', \"%20\").replace(',', '%2C')\n",
    "destinations_fmt"
   ],
   "metadata": {
    "collapsed": false
   }
  },
  {
   "cell_type": "markdown",
   "source": [
    "# 2. Building the distance matrix"
   ],
   "metadata": {
    "collapsed": false
   }
  },
  {
   "cell_type": "code",
   "execution_count": 35,
   "outputs": [],
   "source": [
    "import os\n",
    "from dotenv import load_dotenv\n",
    "import requests\n",
    "import json\n",
    "\n",
    "load_dotenv()\n",
    "key = os.getenv('GCP_KEY_0X')"
   ],
   "metadata": {
    "collapsed": false
   }
  },
  {
   "cell_type": "code",
   "execution_count": 32,
   "outputs": [
    {
     "data": {
      "text/plain": "[{'originIndex': 7,\n  'destinationIndex': 2,\n  'status': {},\n  'distanceMeters': 660,\n  'duration': '102s',\n  'condition': 'ROUTE_EXISTS'},\n {'originIndex': 9,\n  'destinationIndex': 9,\n  'status': {},\n  'duration': '0s',\n  'condition': 'ROUTE_EXISTS'},\n {'originIndex': 8,\n  'destinationIndex': 8,\n  'status': {},\n  'duration': '0s',\n  'condition': 'ROUTE_EXISTS'},\n {'originIndex': 7,\n  'destinationIndex': 7,\n  'status': {},\n  'duration': '0s',\n  'condition': 'ROUTE_EXISTS'},\n {'originIndex': 0,\n  'destinationIndex': 0,\n  'status': {},\n  'duration': '0s',\n  'condition': 'ROUTE_EXISTS'},\n {'originIndex': 5,\n  'destinationIndex': 5,\n  'status': {},\n  'duration': '0s',\n  'condition': 'ROUTE_EXISTS'},\n {'originIndex': 6,\n  'destinationIndex': 6,\n  'status': {},\n  'duration': '0s',\n  'condition': 'ROUTE_EXISTS'},\n {'originIndex': 4,\n  'destinationIndex': 4,\n  'status': {},\n  'duration': '0s',\n  'condition': 'ROUTE_EXISTS'},\n {'originIndex': 7,\n  'destinationIndex': 4,\n  'status': {},\n  'distanceMeters': 5909,\n  'duration': '454s',\n  'condition': 'ROUTE_EXISTS'},\n {'originIndex': 3,\n  'destinationIndex': 3,\n  'status': {},\n  'duration': '0s',\n  'condition': 'ROUTE_EXISTS'},\n {'originIndex': 2,\n  'destinationIndex': 7,\n  'status': {},\n  'distanceMeters': 660,\n  'duration': '85s',\n  'condition': 'ROUTE_EXISTS'},\n {'originIndex': 8,\n  'destinationIndex': 3,\n  'status': {},\n  'distanceMeters': 1563,\n  'duration': '215s',\n  'condition': 'ROUTE_EXISTS'},\n {'originIndex': 6,\n  'destinationIndex': 1,\n  'status': {},\n  'distanceMeters': 3258,\n  'duration': '494s',\n  'condition': 'ROUTE_EXISTS'},\n {'originIndex': 2,\n  'destinationIndex': 2,\n  'status': {},\n  'duration': '0s',\n  'condition': 'ROUTE_EXISTS'},\n {'originIndex': 3,\n  'destinationIndex': 8,\n  'status': {},\n  'distanceMeters': 1563,\n  'duration': '199s',\n  'condition': 'ROUTE_EXISTS'},\n {'originIndex': 1,\n  'destinationIndex': 1,\n  'status': {},\n  'duration': '0s',\n  'condition': 'ROUTE_EXISTS'},\n {'originIndex': 9,\n  'destinationIndex': 5,\n  'status': {},\n  'distanceMeters': 7924,\n  'duration': '761s',\n  'condition': 'ROUTE_EXISTS'},\n {'originIndex': 4,\n  'destinationIndex': 7,\n  'status': {},\n  'distanceMeters': 5939,\n  'duration': '481s',\n  'condition': 'ROUTE_EXISTS'},\n {'originIndex': 4,\n  'destinationIndex': 0,\n  'status': {},\n  'distanceMeters': 14607,\n  'duration': '1074s',\n  'condition': 'ROUTE_EXISTS'},\n {'originIndex': 4,\n  'destinationIndex': 2,\n  'status': {},\n  'distanceMeters': 5525,\n  'duration': '473s',\n  'condition': 'ROUTE_EXISTS'},\n {'originIndex': 9,\n  'destinationIndex': 0,\n  'status': {},\n  'distanceMeters': 13563,\n  'duration': '902s',\n  'condition': 'ROUTE_EXISTS'},\n {'originIndex': 8,\n  'destinationIndex': 5,\n  'status': {},\n  'distanceMeters': 15975,\n  'duration': '933s',\n  'condition': 'ROUTE_EXISTS'},\n {'originIndex': 2,\n  'destinationIndex': 4,\n  'status': {},\n  'distanceMeters': 5495,\n  'duration': '457s',\n  'condition': 'ROUTE_EXISTS'},\n {'originIndex': 9,\n  'destinationIndex': 3,\n  'status': {},\n  'distanceMeters': 25635,\n  'duration': '1386s',\n  'condition': 'ROUTE_EXISTS'},\n {'originIndex': 8,\n  'destinationIndex': 1,\n  'status': {},\n  'distanceMeters': 9540,\n  'duration': '881s',\n  'condition': 'ROUTE_EXISTS'},\n {'originIndex': 8,\n  'destinationIndex': 2,\n  'status': {},\n  'distanceMeters': 22843,\n  'duration': '1414s',\n  'condition': 'ROUTE_EXISTS'},\n {'originIndex': 8,\n  'destinationIndex': 9,\n  'status': {},\n  'distanceMeters': 25754,\n  'duration': '1511s',\n  'condition': 'ROUTE_EXISTS'},\n {'originIndex': 7,\n  'destinationIndex': 0,\n  'status': {},\n  'distanceMeters': 20125,\n  'duration': '1459s',\n  'condition': 'ROUTE_EXISTS'},\n {'originIndex': 7,\n  'destinationIndex': 3,\n  'status': {},\n  'distanceMeters': 21912,\n  'duration': '1257s',\n  'condition': 'ROUTE_EXISTS'},\n {'originIndex': 5,\n  'destinationIndex': 8,\n  'status': {},\n  'distanceMeters': 15187,\n  'duration': '896s',\n  'condition': 'ROUTE_EXISTS'},\n {'originIndex': 3,\n  'destinationIndex': 7,\n  'status': {},\n  'distanceMeters': 22286,\n  'duration': '1285s',\n  'condition': 'ROUTE_EXISTS'},\n {'originIndex': 5,\n  'destinationIndex': 0,\n  'status': {},\n  'distanceMeters': 18685,\n  'duration': '1005s',\n  'condition': 'ROUTE_EXISTS'},\n {'originIndex': 6,\n  'destinationIndex': 9,\n  'status': {},\n  'distanceMeters': 17982,\n  'duration': '1468s',\n  'condition': 'ROUTE_EXISTS'},\n {'originIndex': 9,\n  'destinationIndex': 1,\n  'status': {},\n  'distanceMeters': 30077,\n  'duration': '1728s',\n  'condition': 'ROUTE_EXISTS'},\n {'originIndex': 6,\n  'destinationIndex': 5,\n  'status': {},\n  'distanceMeters': 14008,\n  'duration': '982s',\n  'condition': 'ROUTE_EXISTS'},\n {'originIndex': 9,\n  'destinationIndex': 2,\n  'status': {},\n  'distanceMeters': 27034,\n  'duration': '2060s',\n  'condition': 'ROUTE_EXISTS'},\n {'originIndex': 5,\n  'destinationIndex': 3,\n  'status': {},\n  'distanceMeters': 15312,\n  'duration': '856s',\n  'condition': 'ROUTE_EXISTS'},\n {'originIndex': 3,\n  'destinationIndex': 1,\n  'status': {},\n  'distanceMeters': 9429,\n  'duration': '813s',\n  'condition': 'ROUTE_EXISTS'},\n {'originIndex': 5,\n  'destinationIndex': 7,\n  'status': {},\n  'distanceMeters': 21129,\n  'duration': '1430s',\n  'condition': 'ROUTE_EXISTS'},\n {'originIndex': 7,\n  'destinationIndex': 5,\n  'status': {},\n  'distanceMeters': 20657,\n  'duration': '1388s',\n  'condition': 'ROUTE_EXISTS'},\n {'originIndex': 7,\n  'destinationIndex': 8,\n  'status': {},\n  'distanceMeters': 22841,\n  'duration': '1355s',\n  'condition': 'ROUTE_EXISTS'},\n {'originIndex': 5,\n  'destinationIndex': 2,\n  'status': {},\n  'distanceMeters': 20715,\n  'duration': '1423s',\n  'condition': 'ROUTE_EXISTS'},\n {'originIndex': 4,\n  'destinationIndex': 8,\n  'status': {},\n  'distanceMeters': 18886,\n  'duration': '1287s',\n  'condition': 'ROUTE_EXISTS'},\n {'originIndex': 8,\n  'destinationIndex': 4,\n  'status': {},\n  'distanceMeters': 17682,\n  'duration': '1256s',\n  'condition': 'ROUTE_EXISTS'},\n {'originIndex': 8,\n  'destinationIndex': 7,\n  'status': {},\n  'distanceMeters': 22183,\n  'duration': '1339s',\n  'condition': 'ROUTE_EXISTS'},\n {'originIndex': 8,\n  'destinationIndex': 6,\n  'status': {},\n  'distanceMeters': 7376,\n  'duration': '943s',\n  'condition': 'ROUTE_EXISTS'},\n {'originIndex': 9,\n  'destinationIndex': 8,\n  'status': {},\n  'distanceMeters': 25509,\n  'duration': '1422s',\n  'condition': 'ROUTE_EXISTS'},\n {'originIndex': 0,\n  'destinationIndex': 2,\n  'status': {},\n  'distanceMeters': 19704,\n  'duration': '1420s',\n  'condition': 'ROUTE_EXISTS'},\n {'originIndex': 6,\n  'destinationIndex': 8,\n  'status': {},\n  'distanceMeters': 7351,\n  'duration': '952s',\n  'condition': 'ROUTE_EXISTS'},\n {'originIndex': 4,\n  'destinationIndex': 5,\n  'status': {},\n  'distanceMeters': 15139,\n  'duration': '1004s',\n  'condition': 'ROUTE_EXISTS'},\n {'originIndex': 5,\n  'destinationIndex': 9,\n  'status': {},\n  'distanceMeters': 7954,\n  'duration': '799s',\n  'condition': 'ROUTE_EXISTS'},\n {'originIndex': 1,\n  'destinationIndex': 6,\n  'status': {},\n  'distanceMeters': 3551,\n  'duration': '537s',\n  'condition': 'ROUTE_EXISTS'},\n {'originIndex': 9,\n  'destinationIndex': 4,\n  'status': {},\n  'distanceMeters': 21899,\n  'duration': '1689s',\n  'condition': 'ROUTE_EXISTS'},\n {'originIndex': 9,\n  'destinationIndex': 7,\n  'status': {},\n  'distanceMeters': 27448,\n  'duration': '2069s',\n  'condition': 'ROUTE_EXISTS'},\n {'originIndex': 3,\n  'destinationIndex': 6,\n  'status': {},\n  'distanceMeters': 7265,\n  'duration': '879s',\n  'condition': 'ROUTE_EXISTS'},\n {'originIndex': 5,\n  'destinationIndex': 6,\n  'status': {},\n  'distanceMeters': 14023,\n  'duration': '1010s',\n  'condition': 'ROUTE_EXISTS'},\n {'originIndex': 0,\n  'destinationIndex': 4,\n  'status': {},\n  'distanceMeters': 14569,\n  'duration': '1039s',\n  'condition': 'ROUTE_EXISTS'},\n {'originIndex': 3,\n  'destinationIndex': 2,\n  'status': {},\n  'distanceMeters': 22946,\n  'duration': '1350s',\n  'condition': 'ROUTE_EXISTS'},\n {'originIndex': 4,\n  'destinationIndex': 3,\n  'status': {},\n  'distanceMeters': 17956,\n  'duration': '1191s',\n  'condition': 'ROUTE_EXISTS'},\n {'originIndex': 7,\n  'destinationIndex': 9,\n  'status': {},\n  'distanceMeters': 27788,\n  'duration': '2132s',\n  'condition': 'ROUTE_EXISTS'},\n {'originIndex': 4,\n  'destinationIndex': 6,\n  'status': {},\n  'distanceMeters': 22707,\n  'duration': '1649s',\n  'condition': 'ROUTE_EXISTS'},\n {'originIndex': 3,\n  'destinationIndex': 0,\n  'status': {},\n  'distanceMeters': 31681,\n  'duration': '1571s',\n  'condition': 'ROUTE_EXISTS'},\n {'originIndex': 8,\n  'destinationIndex': 0,\n  'status': {},\n  'distanceMeters': 31792,\n  'duration': '1643s',\n  'condition': 'ROUTE_EXISTS'},\n {'originIndex': 6,\n  'destinationIndex': 4,\n  'status': {},\n  'distanceMeters': 22768,\n  'duration': '1714s',\n  'condition': 'ROUTE_EXISTS'},\n {'originIndex': 2,\n  'destinationIndex': 0,\n  'status': {},\n  'distanceMeters': 19711,\n  'duration': '1457s',\n  'condition': 'ROUTE_EXISTS'},\n {'originIndex': 4,\n  'destinationIndex': 1,\n  'status': {},\n  'distanceMeters': 28314,\n  'duration': '1867s',\n  'condition': 'ROUTE_EXISTS'},\n {'originIndex': 6,\n  'destinationIndex': 0,\n  'status': {},\n  'distanceMeters': 29825,\n  'duration': '1702s',\n  'condition': 'ROUTE_EXISTS'},\n {'originIndex': 5,\n  'destinationIndex': 1,\n  'status': {},\n  'distanceMeters': 19755,\n  'duration': '1193s',\n  'condition': 'ROUTE_EXISTS'},\n {'originIndex': 2,\n  'destinationIndex': 8,\n  'status': {},\n  'distanceMeters': 23502,\n  'duration': '1431s',\n  'condition': 'ROUTE_EXISTS'},\n {'originIndex': 9,\n  'destinationIndex': 6,\n  'status': {},\n  'distanceMeters': 17980,\n  'duration': '1382s',\n  'condition': 'ROUTE_EXISTS'},\n {'originIndex': 0,\n  'destinationIndex': 7,\n  'status': {},\n  'distanceMeters': 20118,\n  'duration': '1431s',\n  'condition': 'ROUTE_EXISTS'},\n {'originIndex': 0,\n  'destinationIndex': 5,\n  'status': {},\n  'distanceMeters': 17833,\n  'duration': '882s',\n  'condition': 'ROUTE_EXISTS'},\n {'originIndex': 1,\n  'destinationIndex': 3,\n  'status': {},\n  'distanceMeters': 7996,\n  'duration': '970s',\n  'condition': 'ROUTE_EXISTS'},\n {'originIndex': 3,\n  'destinationIndex': 4,\n  'status': {},\n  'distanceMeters': 17785,\n  'duration': '1189s',\n  'condition': 'ROUTE_EXISTS'},\n {'originIndex': 3,\n  'destinationIndex': 5,\n  'status': {},\n  'distanceMeters': 15864,\n  'duration': '858s',\n  'condition': 'ROUTE_EXISTS'},\n {'originIndex': 1,\n  'destinationIndex': 4,\n  'status': {},\n  'distanceMeters': 23611,\n  'duration': '1858s',\n  'condition': 'ROUTE_EXISTS'},\n {'originIndex': 1,\n  'destinationIndex': 5,\n  'status': {},\n  'distanceMeters': 19829,\n  'duration': '1179s',\n  'condition': 'ROUTE_EXISTS'},\n {'originIndex': 6,\n  'destinationIndex': 7,\n  'status': {},\n  'distanceMeters': 28264,\n  'duration': '1973s',\n  'condition': 'ROUTE_EXISTS'},\n {'originIndex': 7,\n  'destinationIndex': 1,\n  'status': {},\n  'distanceMeters': 30553,\n  'duration': '1952s',\n  'condition': 'ROUTE_EXISTS'},\n {'originIndex': 3,\n  'destinationIndex': 9,\n  'status': {},\n  'distanceMeters': 25643,\n  'duration': '1432s',\n  'condition': 'ROUTE_EXISTS'},\n {'originIndex': 1,\n  'destinationIndex': 9,\n  'status': {},\n  'distanceMeters': 29609,\n  'duration': '1737s',\n  'condition': 'ROUTE_EXISTS'},\n {'originIndex': 2,\n  'destinationIndex': 1,\n  'status': {},\n  'distanceMeters': 31213,\n  'duration': '2022s',\n  'condition': 'ROUTE_EXISTS'},\n {'originIndex': 2,\n  'destinationIndex': 9,\n  'status': {},\n  'distanceMeters': 27374,\n  'duration': '2127s',\n  'condition': 'ROUTE_EXISTS'},\n {'originIndex': 6,\n  'destinationIndex': 2,\n  'status': {},\n  'distanceMeters': 28924,\n  'duration': '2056s',\n  'condition': 'ROUTE_EXISTS'},\n {'originIndex': 0,\n  'destinationIndex': 8,\n  'status': {},\n  'distanceMeters': 30519,\n  'duration': '1507s',\n  'condition': 'ROUTE_EXISTS'},\n {'originIndex': 1,\n  'destinationIndex': 0,\n  'status': {},\n  'distanceMeters': 35647,\n  'duration': '1883s',\n  'condition': 'ROUTE_EXISTS'},\n {'originIndex': 2,\n  'destinationIndex': 5,\n  'status': {},\n  'distanceMeters': 20243,\n  'duration': '1399s',\n  'condition': 'ROUTE_EXISTS'},\n {'originIndex': 0,\n  'destinationIndex': 3,\n  'status': {},\n  'distanceMeters': 30644,\n  'duration': '1473s',\n  'condition': 'ROUTE_EXISTS'},\n {'originIndex': 4,\n  'destinationIndex': 9,\n  'status': {},\n  'distanceMeters': 22270,\n  'duration': '1752s',\n  'condition': 'ROUTE_EXISTS'},\n {'originIndex': 1,\n  'destinationIndex': 8,\n  'status': {},\n  'distanceMeters': 7870,\n  'duration': '1010s',\n  'condition': 'ROUTE_EXISTS'},\n {'originIndex': 0,\n  'destinationIndex': 6,\n  'status': {},\n  'distanceMeters': 29355,\n  'duration': '1608s',\n  'condition': 'ROUTE_EXISTS'},\n {'originIndex': 1,\n  'destinationIndex': 7,\n  'status': {},\n  'distanceMeters': 28783,\n  'duration': '2046s',\n  'condition': 'ROUTE_EXISTS'},\n {'originIndex': 6,\n  'destinationIndex': 3,\n  'status': {},\n  'distanceMeters': 7476,\n  'duration': '914s',\n  'condition': 'ROUTE_EXISTS'},\n {'originIndex': 2,\n  'destinationIndex': 3,\n  'status': {},\n  'distanceMeters': 22572,\n  'duration': '1322s',\n  'condition': 'ROUTE_EXISTS'},\n {'originIndex': 0,\n  'destinationIndex': 9,\n  'status': {},\n  'distanceMeters': 13444,\n  'duration': '904s',\n  'condition': 'ROUTE_EXISTS'},\n {'originIndex': 2,\n  'destinationIndex': 6,\n  'status': {},\n  'distanceMeters': 29048,\n  'duration': '2039s',\n  'condition': 'ROUTE_EXISTS'},\n {'originIndex': 5,\n  'destinationIndex': 4,\n  'status': {},\n  'distanceMeters': 15581,\n  'duration': '1042s',\n  'condition': 'ROUTE_EXISTS'},\n {'originIndex': 0,\n  'destinationIndex': 1,\n  'status': {},\n  'distanceMeters': 35087,\n  'duration': '1817s',\n  'condition': 'ROUTE_EXISTS'},\n {'originIndex': 7,\n  'destinationIndex': 6,\n  'status': {},\n  'distanceMeters': 28388,\n  'duration': '1973s',\n  'condition': 'ROUTE_EXISTS'},\n {'originIndex': 1,\n  'destinationIndex': 2,\n  'status': {},\n  'distanceMeters': 29443,\n  'duration': '2113s',\n  'condition': 'ROUTE_EXISTS'}]"
     },
     "execution_count": 32,
     "metadata": {},
     "output_type": "execute_result"
    }
   ],
   "source": [
    "# origin = \"Nestle, Vevey\"\n",
    "#\n",
    "# # The destination parameter is in URL-format (only ASCII) and multiple entries are separated by colons |\n",
    "# destinations_fmt = '|'.join(coordinates_string).replace(' ', \"%20\").replace(',', '%2C')\n",
    "#\n",
    "# url = f'https://maps.googleapis.com/maps/api/distancematrix/json' \\\n",
    "#       f'?origins={origin}' \\\n",
    "#       f'&destinations={destinations_fmt}' \\\n",
    "#       f'&units=metric' \\\n",
    "#       f'&key={key}'\n",
    "\n",
    "url = 'https://routes.googleapis.com/distanceMatrix/v2:computeRouteMatrix'\n",
    "headers = {\n",
    "    'Content-Type': 'application/json',\n",
    "    'X-Goog-Api-Key': key,\n",
    "    'X-Goog-FieldMask': 'originIndex,destinationIndex,duration,distanceMeters,status,condition'\n",
    "}\n",
    "payload = str({\n",
    "    'origins': [{'waypoint': {\n",
    "        'location': {\n",
    "            'latLng': {\n",
    "                'latitude': latitude,\n",
    "                'longitude': longitude\n",
    "            }\n",
    "        }\n",
    "    }} for latitude, longitude in coordinates_list],\n",
    "    'destinations': [{'waypoint': {\n",
    "        'location': {\n",
    "            'latLng': {\n",
    "                'latitude': latitude,\n",
    "                'longitude': longitude\n",
    "            }\n",
    "        }\n",
    "    }} for latitude, longitude in coordinates_list],\n",
    "    'travelMode': 'DRIVE',\n",
    "    'routingPreference': 'TRAFFIC_AWARE'\n",
    "})\n",
    "\n",
    "response = requests.request('POST', url, headers=headers, data=payload)\n",
    "\n",
    "response.json()"
   ],
   "metadata": {
    "collapsed": false
   }
  },
  {
   "cell_type": "code",
   "execution_count": 157,
   "outputs": [
    {
     "data": {
      "text/plain": "[[0, 1817, 1420, 1473, 1039, 882, 1608, 1431, 1507, 904],\n [1883, 0, 2113, 970, 1858, 1179, 537, 2046, 1010, 1737],\n [1457, 2022, 0, 1322, 457, 1399, 2039, 85, 1431, 2127],\n [1571, 813, 1350, 0, 1189, 858, 879, 1285, 199, 1432],\n [1074, 1867, 473, 1191, 0, 1004, 1649, 481, 1287, 1752],\n [1005, 1193, 1423, 856, 1042, 0, 1010, 1430, 896, 799],\n [1702, 494, 2056, 914, 1714, 982, 0, 1973, 952, 1468],\n [1459, 1952, 102, 1257, 454, 1388, 1973, 0, 1355, 2132],\n [1643, 881, 1414, 215, 1256, 933, 943, 1339, 0, 1511],\n [902, 1728, 2060, 1386, 1689, 761, 1382, 2069, 1422, 0]]"
     },
     "execution_count": 157,
     "metadata": {},
     "output_type": "execute_result"
    }
   ],
   "source": [
    "distance_matrix = [[0]* n_employees for _ in range(n_employees)]\n",
    "for distance in test:\n",
    "    distance_matrix[distance['originIndex']][distance['destinationIndex']] = int(distance['duration'][:-1])\n",
    "\n",
    "distance_matrix"
   ],
   "metadata": {
    "collapsed": false
   }
  },
  {
   "cell_type": "markdown",
   "source": [
    "# Solving the VRP"
   ],
   "metadata": {
    "collapsed": false
   }
  },
  {
   "cell_type": "code",
   "execution_count": 129,
   "outputs": [],
   "source": [
    "def print_solution(data, manager, routing, solution):\n",
    "    \"\"\"Prints solution on console.\"\"\"\n",
    "    print(f'Objective: {solution.ObjectiveValue()}')\n",
    "    max_route_distance = 0\n",
    "    for vehicle_id in range(data['num_vehicles']):\n",
    "        index = routing.Start(vehicle_id)\n",
    "        plan_output = 'Route for vehicle {}:\\n'.format(vehicle_id)\n",
    "        route_distance = 0\n",
    "        while not routing.IsEnd(index):\n",
    "            plan_output += ' {} -> '.format(manager.IndexToNode(index))\n",
    "            previous_index = index\n",
    "            index = solution.Value(routing.NextVar(index))\n",
    "            route_distance += routing.GetArcCostForVehicle(\n",
    "                previous_index, index, vehicle_id)\n",
    "        plan_output += '{}\\n'.format(manager.IndexToNode(index))\n",
    "        plan_output += 'Distance of the route: {}m\\n'.format(route_distance)\n",
    "        print(plan_output)\n",
    "        max_route_distance = max(route_distance, max_route_distance)\n",
    "    print('Maximum of the route distances: {}s'.format(max_route_distance))"
   ],
   "metadata": {
    "collapsed": false
   }
  },
  {
   "cell_type": "code",
   "execution_count": null,
   "outputs": [],
   "source": [
    "def get_routes(data, manager, routing, solution) -> [[]]:\n"
   ],
   "metadata": {
    "collapsed": false
   }
  },
  {
   "cell_type": "code",
   "execution_count": 134,
   "outputs": [],
   "source": [
    "from ortools.constraint_solver import routing_enums_pb2\n",
    "from ortools.constraint_solver import pywrapcp\n",
    "\n",
    "\n",
    "data = {\n",
    "    'distance_matrix': distance_matrix,\n",
    "    'num_vehicles': 4,\n",
    "    'office': 0\n",
    "}\n",
    "\n",
    "manager = pywrapcp.RoutingIndexManager(len(data['distance_matrix']),\n",
    "                                       data['num_vehicles'],\n",
    "                                       data['office'])\n",
    "\n",
    "routing = pywrapcp.RoutingModel(manager)\n",
    "\n",
    "def distance_callback(origin: int, destination: int) -> int:\n",
    "    return data['distance_matrix'][manager.IndexToNode(origin)][manager.IndexToNode(destination)]\n",
    "\n",
    "transit_callback_index = routing.RegisterTransitCallback(distance_callback)\n",
    "routing.SetArcCostEvaluatorOfAllVehicles(transit_callback_index)\n",
    "\n",
    "dimension_name = 'Distance'\n",
    "routing.AddDimension(\n",
    "    transit_callback_index,\n",
    "    name=dimension_name,\n",
    "    slack_max=0, # no slack\n",
    "    capacity=8000,\n",
    "    fix_start_cumul_to_zero=True,\n",
    ")\n",
    "\n",
    "distance_dimension = routing.GetDimensionOrDie(dimension_name)\n",
    "distance_dimension.SetGlobalSpanCostCoefficient(100)\n",
    "\n",
    "# Setting first solution heuristic\n",
    "search_parameters = pywrapcp.DefaultRoutingSearchParameters()\n",
    "search_parameters.first_solution_strategy = (routing_enums_pb2.FirstSolutionStrategy.PATH_CHEAPEST_ARC)"
   ],
   "metadata": {
    "collapsed": false
   }
  },
  {
   "cell_type": "code",
   "execution_count": 135,
   "outputs": [],
   "source": [
    "# Solve the problem\n",
    "solution = routing.SolveWithParameters(search_parameters)"
   ],
   "metadata": {
    "collapsed": false
   }
  },
  {
   "cell_type": "code",
   "execution_count": 136,
   "outputs": [
    {
     "name": "stdout",
     "output_type": "stream",
     "text": [
      "Objective: 410888\n",
      "Route for vehicle 0:\n",
      " 0 ->  6 ->  1 -> 0\n",
      "Distance of the route: 3985m\n",
      "\n",
      "Route for vehicle 1:\n",
      " 0 ->  9 -> 0\n",
      "Distance of the route: 1806m\n",
      "\n",
      "Route for vehicle 2:\n",
      " 0 ->  5 ->  8 ->  3 -> 0\n",
      "Distance of the route: 3564m\n",
      "\n",
      "Route for vehicle 3:\n",
      " 0 ->  2 ->  7 ->  4 -> 0\n",
      "Distance of the route: 3033m\n",
      "\n",
      "Maximum of the route distances: 3985m\n"
     ]
    }
   ],
   "source": [
    "if solution:\n",
    "    print_solution(data, manager, routing, solution)\n",
    "else:\n",
    "    print('No solution found !')"
   ],
   "metadata": {
    "collapsed": false
   }
  },
  {
   "cell_type": "markdown",
   "source": [
    "# 3 Visualisation of the routes"
   ],
   "metadata": {
    "collapsed": false
   }
  },
  {
   "cell_type": "code",
   "execution_count": 150,
   "outputs": [
    {
     "data": {
      "text/plain": "True"
     },
     "execution_count": 150,
     "metadata": {},
     "output_type": "execute_result"
    }
   ],
   "source": [
    "import numpy\n",
    "import os\n",
    "from dotenv import load_dotenv\n",
    "import requests\n",
    "from IPython.display import Image\n",
    "import json\n",
    "import random\n",
    "load_dotenv()"
   ],
   "metadata": {
    "collapsed": false
   }
  },
  {
   "cell_type": "code",
   "execution_count": 151,
   "outputs": [],
   "source": [
    "list1 = [\"Pl. des Anciens-Fossés 6, 1814 La Tour-de-Peilz\",\"Av. de l'Ile-Heureuse 23, 1800 Vevey\",\"Av. du Général-Guisan 41, 1800 Vevey\",\"Chem. du Petit-Centenaire 6, 1802 Corseaux\"]\n",
    "list2 = [\"Rue d'Entre-deux-Villes 8, 1814 La Tour-de-Peilz\", \"Av. de Traménaz 46, 1814 La Tour-de-Peilz\",\"Rte de Blonay 94, 1814 La Tour-de-Peilz\"]\n",
    "list3 = [\"40.737102,-73.990318\",\"40.749825,-73.987963\",\"40.752946,-73.987384\",\"40.755823,-73.986397\"]\n",
    "list4 = [\"40.727102,-73.990318\",\"40.739825,-73.977963\",\"40.742946,-73.977384\",\"40.745823,-73.976397\"]\n",
    "list5 = [\"Rue de la Madeleine 17, 1800 Vevey\", \"Rue des Moulins 17, 1800 Vevey\", \"Chem. Emile-Javelle 2, 1800 Vevey\", \"Rte de Saint-Légier 11, 1800 Vevey\"]\n",
    "list6 = [\"Rue de la Madeleine 17, 1800 Vevey\",\"Rue du Simplon 28, 1800 Vevey\", \"Av. du Général-Guisan 1, 1800 Vevey\"]\n",
    "\n",
    "shuttles = [list5,list6]"
   ],
   "metadata": {
    "collapsed": false
   }
  },
  {
   "cell_type": "code",
   "execution_count": 152,
   "outputs": [],
   "source": [
    "### Function to give a list of directions to follow to go from origin to destination\n",
    "# Inputs:   origin: a string with the localisation point of the origin\n",
    "#           destination: a string with the localisation point of the destination\n",
    "#           key: the maps api key\n",
    "# Output:   a string of different steps to follow to go from origin to destination\n",
    "\n",
    "def fct_dir(origin, destination, key):\n",
    "    url = f'https://maps.googleapis.com/maps/api/directions/json' \\\n",
    "          f'?origin={origin}' \\\n",
    "          f'&destination={destination}' \\\n",
    "          f'&key={key}'\n",
    "\n",
    "    payload={}\n",
    "    headers = {}\n",
    "\n",
    "    response = requests.request(\"GET\", url, headers=headers, data=payload)\n",
    "\n",
    "    direction_dict = json.loads(response.text)\n",
    "\n",
    "    lat = direction_dict[\"routes\"][0][\"legs\"][0][\"start_location\"][\"lat\"]\n",
    "    long = direction_dict[\"routes\"][0][\"legs\"][0][\"start_location\"][\"lng\"]\n",
    "\n",
    "    travel_list = [str(f'{lat},{long}')]\n",
    "\n",
    "    for l in direction_dict[\"routes\"][0][\"legs\"][0][\"steps\"]:\n",
    "        lat= l[\"end_location\"][\"lat\"]\n",
    "        long = l[\"end_location\"][\"lng\"]\n",
    "        tmp = f'{lat},{long}'\n",
    "        travel_list.append(str(tmp))\n",
    "\n",
    "    travel_list = \"|\".join(travel_list)\n",
    "\n",
    "    return(travel_list)"
   ],
   "metadata": {
    "collapsed": false
   }
  },
  {
   "cell_type": "code",
   "execution_count": 153,
   "outputs": [],
   "source": [
    "### Funtion to create the path between all localisation points of a list\n",
    "# Inputs:   list: a list of strings with location points\n",
    "#           key: the maps api key\n",
    "# Outputs:  a string with the path to follow\n",
    "\n",
    "def fct_give_parcours(list, color, key):\n",
    "    parcours = []\n",
    "\n",
    "    for i in range(len(list)):\n",
    "        tmp = fct_dir(list[i%len(list)], list[(i+1)%len(list)], key)\n",
    "        parcours.append(tmp)\n",
    "\n",
    "    parcours = \"|\".join(parcours)\n",
    "\n",
    "    #color = \"0x\"+''.join([random.choice('ABCDEF0123456789') for i in range(6)])\n",
    "\n",
    "    travel_list = f'&path=color:{color}|weight:5|{parcours}'\n",
    "\n",
    "    return(travel_list)"
   ],
   "metadata": {
    "collapsed": false
   }
  },
  {
   "cell_type": "code",
   "execution_count": 154,
   "outputs": [],
   "source": [
    "### Function to create a map with the localisations and path to follow\n",
    "# Inputs:   shuttles: a list of lists with strings of loaclisation points to visit\n",
    "#           paths: a string with the path to follow\n",
    "#           key: the maps api key\n",
    "# Output:   A map with the localisations to visit (numbered from 0 (start)), and the path in a random color\n",
    "\n",
    "def fct_maps(shuttles, paths, key):\n",
    "\n",
    "    labels_list = \"\"\n",
    "\n",
    "    colors = [\"blue\",\"red\",\"green\",\"orange\", \"purple\",\"brown\",\"black\"]\n",
    "    c=0\n",
    "\n",
    "    for s in shuttles:\n",
    "        s_int = range(len(s))\n",
    "\n",
    "        labels_s = \"\"\n",
    "        for i in s_int:\n",
    "            labels_s = labels_s + \"&markers=size:mid%7Ccolor:\"+colors[c]+\"%7Clabel:\" + str(i) + \"%7C\" + str(s[i])\n",
    "\n",
    "        labels_list = labels_list + labels_s\n",
    "        c+=1\n",
    "\n",
    "\n",
    "\n",
    "    url = f'https://maps.googleapis.com/maps/api/staticmap' \\\n",
    "          f'?size=400x400' \\\n",
    "          f'{labels_list}' \\\n",
    "          f'{paths}' \\\n",
    "          f'&key={key}'\n",
    "\n",
    "    payload = {}\n",
    "    headers = {}\n",
    "\n",
    "    response = requests.request(\"GET\", url, headers=headers, data=payload)\n",
    "\n",
    "    return Image(response.content)"
   ],
   "metadata": {
    "collapsed": false
   }
  },
  {
   "cell_type": "code",
   "execution_count": 155,
   "outputs": [],
   "source": [
    "### Function to run the whole algorithm\n",
    "# Inputs:   shuttles: a list of lists with strings of loaclisation points to visit\n",
    "#           key: the maps api key\n",
    "# Output:   A map with the localisations to visit (numbered from 0 (start)), and the path in a random color\n",
    "\n",
    "def fct_run_maps(shuttles, key):\n",
    "\n",
    "    paths = \"\"\n",
    "\n",
    "    colors = [\"blue\",\"red\",\"green\",\"orange\", \"purple\",\"brown\",\"black\"]\n",
    "    c=0\n",
    "\n",
    "    for s in shuttles:\n",
    "        paths = paths + fct_give_parcours(s, colors[c], key)\n",
    "        c+=1\n",
    "\n",
    "    return(fct_maps(shuttles, paths, key))"
   ],
   "metadata": {
    "collapsed": false
   }
  },
  {
   "cell_type": "code",
   "execution_count": 156,
   "outputs": [
    {
     "data": {
      "image/png": "[encoded data removed]",
      "text/plain": "<IPython.core.display.Image object>"
     },
     "execution_count": 156,
     "metadata": {},
     "output_type": "execute_result"
    }
   ],
   "source": [
    "fct_run_maps(shuttles, key)"
   ],
   "metadata": {
    "collapsed": false
   }
  },
  {
   "cell_type": "code",
   "execution_count": null,
   "outputs": [],
   "source": [],
   "metadata": {
    "collapsed": false
   }
  }
 ],
 "metadata": {
  "kernelspec": {
   "display_name": "Python 3",
   "language": "python",
   "name": "python3"
  },
  "language_info": {
   "codemirror_mode": {
    "name": "ipython",
    "version": 2
   },
   "file_extension": ".py",
   "mimetype": "text/x-python",
   "name": "python",
   "nbconvert_exporter": "python",
   "pygments_lexer": "ipython2",
   "version": "2.7.6"
  }
 },
 "nbformat": 4,
 "nbformat_minor": 0
}
