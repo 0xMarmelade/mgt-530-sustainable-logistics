{
 "cells": [
  {
   "cell_type": "code",
   "execution_count": 1,
   "metadata": {
    "collapsed": true
   },
   "outputs": [],
   "source": [
    "import geopy.distance\n",
    "import numpy as np\n",
    "import pandas as pd\n",
    "from random import choices\n"
   ]
  },
  {
   "cell_type": "markdown",
   "source": [
    "# 1. Generating data"
   ],
   "metadata": {
    "collapsed": false
   }
  },
  {
   "cell_type": "code",
   "execution_count": 2,
   "outputs": [],
   "source": [
    "nestle_coord = (46.466634011, 6.835639010)\n",
    "density_coord = pd.read_csv('STATPOP2021_WGS84.csv')\n",
    "distance_cutoff = 20"
   ],
   "metadata": {
    "collapsed": false
   }
  },
  {
   "cell_type": "code",
   "execution_count": 3,
   "outputs": [],
   "source": [
    "density_coord_nestle = density_coord[density_coord.apply(\n",
    "    lambda row: geopy.distance.distance(\n",
    "        (row.latitude, row.longitude), nestle_coord).km < distance_cutoff,\n",
    "    axis=1)\n",
    "].reset_index(drop=True)\n",
    "total_pop = density_coord_nestle.B21BTOT.sum()\n",
    "density_coord_nestle['propability_density'] = (density_coord.B21BTOT / total_pop);\n",
    "\n",
    "density_coord_nestle.to_csv('STATPOP2021_WGS84.csv')"
   ],
   "metadata": {
    "collapsed": false
   }
  },
  {
   "cell_type": "markdown",
   "source": [
    "Draw 50 employees location from the density function around Nestle's HQ"
   ],
   "metadata": {
    "collapsed": false
   }
  },
  {
   "cell_type": "code",
   "execution_count": 4,
   "outputs": [],
   "source": [
    "n_employees = 10\n",
    "employee_indexes = choices(density_coord_nestle.index, density_coord_nestle.propability_density, k=n_employees)\n",
    "employee_locations = density_coord_nestle.iloc[employee_indexes][['latitude', 'longitude']]\n",
    "\n",
    "# We have to account for the possibility that more than one employees live at the same location\n",
    "employee_locations_grouped = employee_locations.groupby([employee_locations.index, 'latitude', 'longitude'],\n",
    "                                                        as_index=False).size()"
   ],
   "metadata": {
    "collapsed": false
   }
  },
  {
   "cell_type": "code",
   "execution_count": 5,
   "outputs": [],
   "source": [
    "coordinates_list = list(zip(employee_locations.latitude.tolist(), employee_locations.longitude.tolist()))\n",
    "coordinates_string = [f'{str(x)},{str(y)}' for x, y in coordinates_list[1:5]]"
   ],
   "metadata": {
    "collapsed": false
   }
  },
  {
   "cell_type": "code",
   "execution_count": 6,
   "outputs": [
    {
     "data": {
      "text/plain": "'46.53543111798884%2C6.64738933762074|46.52638118733916%2C6.639701606841733|46.332623145048586%2C6.882815300107296|46.53243408285804%2C6.605720624284068'"
     },
     "execution_count": 6,
     "metadata": {},
     "output_type": "execute_result"
    }
   ],
   "source": [
    "destinations_fmt = '|'.join(coordinates_string).replace(' ', \"%20\").replace(',', '%2C')\n",
    "destinations_fmt"
   ],
   "metadata": {
    "collapsed": false
   }
  },
  {
   "cell_type": "markdown",
   "source": [
    "# 2. Building the distance matrix"
   ],
   "metadata": {
    "collapsed": false
   }
  },
  {
   "cell_type": "code",
   "execution_count": 8,
   "outputs": [],
   "source": [
    "import os\n",
    "from dotenv import load_dotenv\n",
    "import requests\n",
    "import json\n",
    "\n",
    "load_dotenv()\n",
    "key = os.getenv('GCP_KEY_0X')"
   ],
   "metadata": {
    "collapsed": false
   }
  },
  {
   "cell_type": "code",
   "execution_count": null,
   "outputs": [],
   "source": [
    "# origin = \"Nestle, Vevey\"\n",
    "#\n",
    "# # The destination parameter is in URL-format (only ASCII) and multiple entries are separated by colons |\n",
    "# destinations_fmt = '|'.join(coordinates_string).replace(' ', \"%20\").replace(',', '%2C')\n",
    "#\n",
    "# url = f'https://maps.googleapis.com/maps/api/distancematrix/json' \\\n",
    "#       f'?origins={origin}' \\\n",
    "#       f'&destinations={destinations_fmt}' \\\n",
    "#       f'&units=metric' \\\n",
    "#       f'&key={key}'\n",
    "\n",
    "url = 'https://routes.googleapis.com/distanceMatrix/v2:computeRouteMatrix'\n",
    "headers = {\n",
    "    'Content-Type': 'application/json',\n",
    "    'X-Goog-Api-Key': key,\n",
    "    'X-Goog-FieldMask': 'originIndex,destinationIndex,duration,distanceMeters,status,condition'\n",
    "}\n",
    "payload = str({\n",
    "    'origins': [{'waypoint': {\n",
    "        'location': {\n",
    "            'latLng': {\n",
    "                'latitude': latitude,\n",
    "                'longitude': longitude\n",
    "            }\n",
    "        }\n",
    "    }} for latitude, longitude in coordinates_list],\n",
    "    'destinations': [{'waypoint': {\n",
    "        'location': {\n",
    "            'latLng': {\n",
    "                'latitude': latitude,\n",
    "                'longitude': longitude\n",
    "            }\n",
    "        }\n",
    "    }} for latitude, longitude in coordinates_list],\n",
    "    'travelMode': 'DRIVE',\n",
    "    'routingPreference': 'TRAFFIC_AWARE'\n",
    "})\n",
    "response = requests.request('POST', url, headers=headers, data=payload)"
   ],
   "metadata": {
    "collapsed": false,
    "pycharm": {
     "is_executing": true
    }
   }
  },
  {
   "cell_type": "code",
   "execution_count": 122,
   "outputs": [
    {
     "data": {
      "text/plain": "[[0, 503, 1008, 2002, 911, 774, 1203, 1735, 1084, 791],\n [1087, 0, 519, 2249, 962, 777, 1476, 1991, 1333, 329],\n [1378, 575, 0, 2543, 774, 1051, 1772, 2308, 1630, 174],\n [2200, 2561, 3048, 0, 3012, 2824, 2121, 2248, 2077, 2873],\n [1313, 708, 796, 2480, 0, 1030, 1709, 2235, 1571, 819],\n [1269, 606, 1119, 2421, 1011, 0, 1655, 2187, 1518, 904],\n [1104, 1475, 1972, 1529, 1856, 1764, 0, 1226, 871, 1750],\n [1491, 1856, 2354, 1846, 2281, 2127, 1237, 0, 1382, 2135],\n [929, 1299, 1804, 1666, 1679, 1588, 763, 1396, 0, 1578],\n [1195, 414, 173, 2397, 800, 879, 1591, 2149, 1455, 0]]"
     },
     "execution_count": 122,
     "metadata": {},
     "output_type": "execute_result"
    }
   ],
   "source": [
    "distance_matrix_time = [[0] * n_employees for _ in range(n_employees)]\n",
    "distance_matrix_distance = [[0] * n_employees for _ in range(n_employees)]\n",
    "\n",
    "for distance in response.json():\n",
    "    distance_matrix_time[distance['originIndex']][distance['destinationIndex']] = int(distance['duration'][:-1])\n",
    "    if distance['originIndex'] == distance['destinationIndex']:\n",
    "        distance_matrix_time[distance['originIndex']][distance['destinationIndex']] = 0\n",
    "    else:\n",
    "        distance_matrix_distance[distance['originIndex']][distance['destinationIndex']] = distance['distanceMeters']\n",
    "\n",
    "distance_matrix_time"
   ],
   "metadata": {
    "collapsed": false
   }
  },
  {
   "cell_type": "markdown",
   "source": [
    "# Solving the VRP"
   ],
   "metadata": {
    "collapsed": false
   }
  },
  {
   "cell_type": "code",
   "execution_count": 147,
   "outputs": [],
   "source": [
    "def get_solution(data, manager, routing, solution) -> dict():\n",
    "    \"\"\"Prints solution on console.\"\"\"\n",
    "    print(f'Objective: {solution.ObjectiveValue()}')\n",
    "\n",
    "    if not solution:\n",
    "        print('No solution found !')\n",
    "        return {}\n",
    "\n",
    "    max_route_distance = 0\n",
    "    solution_dict = {\n",
    "        'routes': [{\n",
    "            'route': [],\n",
    "            'routeSize': 0\n",
    "        } for _ in range(data['num_vehicles'])],\n",
    "        'objective': solution.ObjectiveValue()\n",
    "    }\n",
    "\n",
    "    for vehicle_id in range(data['num_vehicles']):\n",
    "        index = routing.Start(vehicle_id)\n",
    "        plan_output = f'Route for vehicle {vehicle_id}:\\n'\n",
    "        route_distance = 0\n",
    "        while not routing.IsEnd(index):\n",
    "            plan_output += f' {manager.IndexToNode(index)} -> '\n",
    "            previous_index = index\n",
    "            index = solution.Value(routing.NextVar(index))\n",
    "            route_distance += routing.GetArcCostForVehicle(\n",
    "                previous_index, index, vehicle_id)\n",
    "\n",
    "            solution_dict['routes'][vehicle_id]['route'].append(manager.IndexToNode(previous_index))\n",
    "            solution_dict['routes'][vehicle_id]['routeSize'] += route_distance\n",
    "\n",
    "        plan_output += f'{manager.IndexToNode(index)}\\n'\n",
    "        plan_output += f'Distance of the route: {route_distance}m\\n'\n",
    "        solution_dict['routes'][vehicle_id]['route'].append(manager.IndexToNode(index))\n",
    "        print(plan_output)\n",
    "        max_route_distance = max(route_distance, max_route_distance)\n",
    "    print(f'Maximum of the route distances: {max_route_distance}s')\n",
    "    return solution_dict"
   ],
   "metadata": {
    "collapsed": false
   }
  },
  {
   "cell_type": "code",
   "execution_count": 148,
   "outputs": [],
   "source": [
    "from ortools.constraint_solver import routing_enums_pb2\n",
    "from ortools.constraint_solver import pywrapcp\n",
    "\n",
    "data = {\n",
    "    'distance_matrix': distance_matrix_time,\n",
    "    'num_vehicles': 4,\n",
    "    'office': 0\n",
    "}\n",
    "\n",
    "manager = pywrapcp.RoutingIndexManager(len(data['distance_matrix']),\n",
    "                                       data['num_vehicles'],\n",
    "                                       data['office'])\n",
    "\n",
    "routing = pywrapcp.RoutingModel(manager)\n",
    "\n",
    "\n",
    "def distance_callback(origin: int, destination: int) -> int:\n",
    "    return data['distance_matrix'][manager.IndexToNode(origin)][manager.IndexToNode(destination)]\n",
    "\n",
    "\n",
    "transit_callback_index = routing.RegisterTransitCallback(distance_callback)\n",
    "routing.SetArcCostEvaluatorOfAllVehicles(transit_callback_index)\n",
    "\n",
    "dimension_name = 'Distance'\n",
    "routing.AddDimension(\n",
    "    transit_callback_index,\n",
    "    name=dimension_name,\n",
    "    slack_max=0,  # no slack\n",
    "    capacity=8000,\n",
    "    fix_start_cumul_to_zero=True,\n",
    ")\n",
    "\n",
    "distance_dimension = routing.GetDimensionOrDie(dimension_name)\n",
    "distance_dimension.SetGlobalSpanCostCoefficient(100)\n",
    "\n",
    "# Setting first solution heuristic\n",
    "search_parameters = pywrapcp.DefaultRoutingSearchParameters()\n",
    "search_parameters.first_solution_strategy = (routing_enums_pb2.FirstSolutionStrategy.PATH_CHEAPEST_ARC)"
   ],
   "metadata": {
    "collapsed": false
   }
  },
  {
   "cell_type": "code",
   "execution_count": 149,
   "outputs": [],
   "source": [
    "# Solve the problem\n",
    "solution = routing.SolveWithParameters(search_parameters)"
   ],
   "metadata": {
    "collapsed": false
   }
  },
  {
   "cell_type": "code",
   "execution_count": 150,
   "outputs": [
    {
     "name": "stdout",
     "output_type": "stream",
     "text": [
      "Objective: 434304\n",
      "Route for vehicle 0:\n",
      " 0 ->  5 ->  1 ->  9 ->  2 ->  4 -> 0\n",
      "Distance of the route: 3969m\n",
      "\n",
      "Route for vehicle 1:\n",
      " 0 ->  8 -> 0\n",
      "Distance of the route: 2013m\n",
      "\n",
      "Route for vehicle 2:\n",
      " 0 ->  3 -> 0\n",
      "Distance of the route: 4202m\n",
      "\n",
      "Route for vehicle 3:\n",
      " 0 ->  6 ->  7 -> 0\n",
      "Distance of the route: 3920m\n",
      "\n",
      "Maximum of the route distances: 4202s\n"
     ]
    }
   ],
   "source": [
    "current_solution = get_solution(data, manager, routing, solution)"
   ],
   "metadata": {
    "collapsed": false
   }
  },
  {
   "cell_type": "code",
   "execution_count": 152,
   "outputs": [
    {
     "data": {
      "text/plain": "[['46.51413447036038,6.690702375545505',\n  '46.55809780411728,6.673139937967305',\n  '46.53543111798884,6.64738933762074',\n  '46.52189279172543,6.641071210035883',\n  '46.52638118733916,6.639701606841733',\n  '46.53243408285804,6.605720624284068'],\n ['46.51413447036038,6.690702375545505',\n  '46.47902858756502,6.838337693103639'],\n ['46.51413447036038,6.690702375545505',\n  '46.332623145048586,6.882815300107296'],\n ['46.51413447036038,6.690702375545505',\n  '46.45484289036591,6.858130345777294',\n  '46.46509968632508,6.93352811429364']]"
     },
     "execution_count": 152,
     "metadata": {},
     "output_type": "execute_result"
    }
   ],
   "source": [
    "shuttle_routes = \\\n",
    "    [[\n",
    "        f'{str(employee_locations.iloc[current_index].latitude)},' \\\n",
    "        f'{str(employee_locations.iloc[current_index].longitude)}'\n",
    "    for current_index in route['route'][:-1]]\n",
    "        for route in current_solution['routes']]\n",
    "shuttle_routes"
   ],
   "metadata": {
    "collapsed": false
   }
  },
  {
   "cell_type": "markdown",
   "source": [
    "# 3 Visualisation of the routes"
   ],
   "metadata": {
    "collapsed": false
   }
  },
  {
   "cell_type": "code",
   "execution_count": 153,
   "outputs": [
    {
     "data": {
      "text/plain": "True"
     },
     "execution_count": 153,
     "metadata": {},
     "output_type": "execute_result"
    }
   ],
   "source": [
    "import numpy\n",
    "import os\n",
    "from dotenv import load_dotenv\n",
    "import requests\n",
    "from IPython.display import Image\n",
    "import json\n",
    "import random\n",
    "\n",
    "load_dotenv()"
   ],
   "metadata": {
    "collapsed": false
   }
  },
  {
   "cell_type": "code",
   "execution_count": 154,
   "outputs": [],
   "source": [
    "list1 = [\"Pl. des Anciens-Fossés 6, 1814 La Tour-de-Peilz\", \"Av. de l'Ile-Heureuse 23, 1800 Vevey\",\n",
    "         \"Av. du Général-Guisan 41, 1800 Vevey\", \"Chem. du Petit-Centenaire 6, 1802 Corseaux\"]\n",
    "list2 = [\"Rue d'Entre-deux-Villes 8, 1814 La Tour-de-Peilz\", \"Av. de Traménaz 46, 1814 La Tour-de-Peilz\",\n",
    "         \"Rte de Blonay 94, 1814 La Tour-de-Peilz\"]\n",
    "list3 = [\"40.737102,-73.990318\", \"40.749825,-73.987963\", \"40.752946,-73.987384\", \"40.755823,-73.986397\"]\n",
    "list4 = [\"40.727102,-73.990318\", \"40.739825,-73.977963\", \"40.742946,-73.977384\", \"40.745823,-73.976397\"]\n",
    "list5 = [\"Rue de la Madeleine 17, 1800 Vevey\", \"Rue des Moulins 17, 1800 Vevey\", \"Chem. Emile-Javelle 2, 1800 Vevey\",\n",
    "         \"Rte de Saint-Légier 11, 1800 Vevey\"]\n",
    "list6 = [\"Rue de la Madeleine 17, 1800 Vevey\", \"Rue du Simplon 28, 1800 Vevey\", \"Av. du Général-Guisan 1, 1800 Vevey\"]\n",
    "\n",
    "#shuttles = [list1,list2]"
   ],
   "metadata": {
    "collapsed": false
   }
  },
  {
   "cell_type": "code",
   "execution_count": 155,
   "outputs": [],
   "source": [
    "### Function to give a list of directions to follow to go from origin to destination\n",
    "# Inputs:   origin: a string with the localisation point of the origin\n",
    "#           destination: a string with the localisation point of the destination\n",
    "#           key: the maps api key\n",
    "# Output:   a string of different steps to follow to go from origin to destination\n",
    "\n",
    "def fct_dir(origin, destination, key):\n",
    "    url = f'https://maps.googleapis.com/maps/api/directions/json' \\\n",
    "          f'?origin={origin}' \\\n",
    "          f'&destination={destination}' \\\n",
    "          f'&key={key}' \\\n",
    "          f'&size=1280x1280'\n",
    "\n",
    "    payload = {}\n",
    "    headers = {}\n",
    "\n",
    "    response = requests.request(\"GET\", url, headers=headers, data=payload)\n",
    "\n",
    "    direction_dict = json.loads(response.text)\n",
    "\n",
    "    lat = direction_dict[\"routes\"][0][\"legs\"][0][\"start_location\"][\"lat\"]\n",
    "    long = direction_dict[\"routes\"][0][\"legs\"][0][\"start_location\"][\"lng\"]\n",
    "\n",
    "    travel_list = [str(f'{lat},{long}')]\n",
    "\n",
    "    for l in direction_dict[\"routes\"][0][\"legs\"][0][\"steps\"]:\n",
    "        lat = l[\"end_location\"][\"lat\"]\n",
    "        long = l[\"end_location\"][\"lng\"]\n",
    "        tmp = f'{lat},{long}'\n",
    "        travel_list.append(str(tmp))\n",
    "\n",
    "    travel_list = \"|\".join(travel_list)\n",
    "\n",
    "    return (travel_list)"
   ],
   "metadata": {
    "collapsed": false
   }
  },
  {
   "cell_type": "code",
   "execution_count": 156,
   "outputs": [],
   "source": [
    "### Funtion to create the path between all localisation points of a list\n",
    "# Inputs:   list: a list of strings with location points\n",
    "#           key: the maps api key\n",
    "# Outputs:  a string with the path to follow\n",
    "\n",
    "def fct_give_parcours(list, color, key):\n",
    "    parcours = []\n",
    "\n",
    "    for i in range(len(list)):\n",
    "        tmp = fct_dir(list[i % len(list)], list[(i + 1) % len(list)], key)\n",
    "        parcours.append(tmp)\n",
    "\n",
    "    parcours = \"|\".join(parcours)\n",
    "\n",
    "    #color = \"0x\"+''.join([random.choice('ABCDEF0123456789') for i in range(6)])\n",
    "\n",
    "    travel_list = f'&path=color:{color}|weight:5|{parcours}'\n",
    "\n",
    "    return (travel_list)"
   ],
   "metadata": {
    "collapsed": false
   }
  },
  {
   "cell_type": "code",
   "execution_count": 157,
   "outputs": [],
   "source": [
    "### Function to create a map with the localisations and path to follow\n",
    "# Inputs:   shuttles: a list of lists with strings of loaclisation points to visit\n",
    "#           paths: a string with the path to follow\n",
    "#           key: the maps api key\n",
    "# Output:   A map with the localisations to visit (numbered from 0 (start)), and the path in a random color\n",
    "\n",
    "def fct_maps(shuttles, paths, key):\n",
    "    labels_list = \"\"\n",
    "\n",
    "    colors = [\"blue\", \"red\", \"green\", \"orange\", \"purple\", \"brown\", \"black\"]\n",
    "    c = 0\n",
    "\n",
    "    for s in shuttles:\n",
    "        s_int = range(len(s))\n",
    "\n",
    "        labels_s = \"\"\n",
    "        for i in s_int:\n",
    "            labels_s = labels_s + \"&markers=size:mid%7Ccolor:\" + colors[c] + \"%7Clabel:\" + str(i) + \"%7C\" + str(s[i])\n",
    "\n",
    "        labels_list = labels_list + labels_s\n",
    "        c += 1\n",
    "\n",
    "    url = f'https://maps.googleapis.com/maps/api/staticmap' \\\n",
    "          f'?size=400x400' \\\n",
    "          f'{labels_list}' \\\n",
    "          f'{paths}' \\\n",
    "          f'&key={key}'\n",
    "\n",
    "    payload = {}\n",
    "    headers = {}\n",
    "\n",
    "    response = requests.request(\"GET\", url, headers=headers, data=payload)\n",
    "\n",
    "    return Image(response.content)"
   ],
   "metadata": {
    "collapsed": false
   }
  },
  {
   "cell_type": "code",
   "execution_count": 158,
   "outputs": [],
   "source": [
    "### Function to run the whole algorithm\n",
    "# Inputs:   shuttles: a list of lists with strings of loaclisation points to visit\n",
    "#           key: the maps api key\n",
    "# Output:   A map with the localisations to visit (numbered from 0 (start)), and the path in a random color\n",
    "\n",
    "def fct_run_maps(shuttles, key):\n",
    "    paths = \"\"\n",
    "\n",
    "    colors = [\"blue\", \"red\", \"green\", \"orange\", \"purple\", \"brown\", \"black\"]\n",
    "    c = 0\n",
    "\n",
    "    for s in shuttles:\n",
    "        paths = paths + fct_give_parcours(s, colors[c], key)\n",
    "        c += 1\n",
    "\n",
    "    return (fct_maps(shuttles, paths, key))"
   ],
   "metadata": {
    "collapsed": false
   }
  },
  {
   "cell_type": "code",
   "execution_count": 159,
   "outputs": [
    {
     "data": {
      "image/png": "[encoded data removed]",
      "text/plain": "<IPython.core.display.Image object>"
     },
     "execution_count": 159,
     "metadata": {},
     "output_type": "execute_result"
    }
   ],
   "source": [
    "fct_run_maps(shuttle_routes, key)"
   ],
   "metadata": {
    "collapsed": false
   }
  },
  {
   "cell_type": "code",
   "execution_count": 186,
   "outputs": [
    {
     "ename": "ValueError",
     "evalue": "Single '}' encountered in format string",
     "output_type": "error",
     "traceback": [
      "\u001B[1;31m---------------------------------------------------------------------------\u001B[0m",
      "\u001B[1;31mValueError\u001B[0m                                Traceback (most recent call last)",
      "Cell \u001B[1;32mIn [186], line 4\u001B[0m\n\u001B[0;32m      1\u001B[0m url \u001B[38;5;241m=\u001B[39m \u001B[38;5;124mf\u001B[39m\u001B[38;5;124m\"\u001B[39m\u001B[38;5;124mhttps://maps.googleapis.com/maps/api/staticmap\u001B[39m\u001B[38;5;124m\"\u001B[39m \\\n\u001B[0;32m      2\u001B[0m       \u001B[38;5;124mf\u001B[39m\u001B[38;5;124m\"\u001B[39m\u001B[38;5;124m?size=400x400&center=59.900503,-135.478011&zoom=4\u001B[39m\u001B[38;5;124m\"\u001B[39m \\\n\u001B[0;32m      3\u001B[0m       \u001B[38;5;124m\"\u001B[39m\u001B[38;5;124m&path=weight:3\u001B[39m\u001B[38;5;124m%\u001B[39m\u001B[38;5;124m7Ccolor:orange\u001B[39m\u001B[38;5;124m%\u001B[39m\u001B[38;5;124m7Cenc:_fisIp~u\u001B[39m\u001B[38;5;124m%\u001B[39m\u001B[38;5;124m7CU}\u001B[39m\u001B[38;5;124m%\u001B[39m\u001B[38;5;124m7Ca@pytA_~b@hhCyhS~hResU\u001B[39m\u001B[38;5;124m%\u001B[39m\u001B[38;5;124m7C\u001B[39m\u001B[38;5;124m%\u001B[39m\u001B[38;5;124m7Cx@oig@rwg@amUfbjA}f[roaAynd@\u001B[39m\u001B[38;5;124m%\u001B[39m\u001B[38;5;124m7CvXxiAt\u001B[39m\u001B[38;5;124m{\u001B[39m\u001B[38;5;124mZwdUfbjAewYrqGchH~vXkqnAria@c_o@inc@k\u001B[39m\u001B[38;5;124m{\u001B[39m\u001B[38;5;124mg@i`]o\u001B[39m\u001B[38;5;124m%\u001B[39m\u001B[38;5;124m7CF}vXaj\u001B[39m\u001B[38;5;124m\\\u001B[39m\u001B[38;5;124mh`]ovs@?yi_@rcAgtO\u001B[39m\u001B[38;5;124m%\u001B[39m\u001B[38;5;124m7Cj_AyaJren@nzQrst@zuYh`]v\u001B[39m\u001B[38;5;124m%\u001B[39m\u001B[38;5;124m7CGbldEuzd@\u001B[39m\u001B[38;5;124m%\u001B[39m\u001B[38;5;124m7C\u001B[39m\u001B[38;5;124m%\u001B[39m\u001B[38;5;124m7Cx@spD\u001B[39m\u001B[38;5;124m%\u001B[39m\u001B[38;5;124m7CtrAzwP\u001B[39m\u001B[38;5;124m%\u001B[39m\u001B[38;5;124m7Cd_@yiB~vXmlWhdPez\u001B[39m\u001B[38;5;124m\\\u001B[39m\u001B[38;5;124m_\u001B[39m\u001B[38;5;124m{\u001B[39m\u001B[38;5;124mKm_`@~re@ew^rcAeu_@zhyByjPrst@ttGren@aeNhoFemKrvdAuvVidPwbVr~j@or@f_z@ftHr\u001B[39m\u001B[38;5;124m{\u001B[39m\u001B[38;5;124mZlwBrvdAmtHrmT\u001B[39m\u001B[38;5;124m{\u001B[39m\u001B[38;5;124mrOt\u001B[39m\u001B[38;5;132;01m{Zz}\u001B[39;00m\u001B[38;5;124mE\u001B[39m\u001B[38;5;124m%\u001B[39m\u001B[38;5;124m7Cc\u001B[39m\u001B[38;5;124m%\u001B[39m\u001B[38;5;124m7C@o\u001B[39m\u001B[38;5;124m%\u001B[39m\u001B[38;5;124m7CLpn~AgfRpxqBfoVz_iAocAhrVjr@rh~@jzKhjp@``NrfQpcHrb^k\u001B[39m\u001B[38;5;124m%\u001B[39m\u001B[38;5;124m7CDh_z@nwB\u001B[39m\u001B[38;5;124m%\u001B[39m\u001B[38;5;124m7Ckb@a\u001B[39m\u001B[38;5;124m{\u001B[39m\u001B[38;5;124mR\u001B[39m\u001B[38;5;124m%\u001B[39m\u001B[38;5;124m7Cyh@uyZ\u001B[39m\u001B[38;5;124m%\u001B[39m\u001B[38;5;124m7CllByuZpzw@wbd@rh~@\u001B[39m\u001B[38;5;124m%\u001B[39m\u001B[38;5;124m7C\u001B[39m\u001B[38;5;124m%\u001B[39m\u001B[38;5;124m7CFhqs@teTztrAupHhyY}t]huf@e\u001B[39m\u001B[38;5;124m%\u001B[39m\u001B[38;5;124m7CFria@o}GfezAkdW\u001B[39m\u001B[38;5;124m%\u001B[39m\u001B[38;5;124m7C}[ocMt_Neq@ren@e~Ika@pgE\u001B[39m\u001B[38;5;124m%\u001B[39m\u001B[38;5;124m7Ci\u001B[39m\u001B[38;5;124m%\u001B[39m\u001B[38;5;124m7CAfiQ\u001B[39m\u001B[38;5;124m%\u001B[39m\u001B[38;5;124m7C`l@uoJrvdAgq@fppAsjGhg`@\u001B[39m\u001B[38;5;124m%\u001B[39m\u001B[38;5;124m7ChQpg\u001B[39m\u001B[38;5;124m{\u001B[39m\u001B[38;5;124mAi_V\u001B[39m\u001B[38;5;124m%\u001B[39m\u001B[38;5;124m7C\u001B[39m\u001B[38;5;124m%\u001B[39m\u001B[38;5;124m7Cx@mkHhyYsdP\u001B[39m\u001B[38;5;124m%\u001B[39m\u001B[38;5;124m7CxeA~gF\u001B[39m\u001B[38;5;124m%\u001B[39m\u001B[38;5;124m7C}[mv`@t_NitSfjp@c}Mhg`@sbChyYq}e@rwg@atFff}@ghN~zKybk@fl}A}cPftcAite@tmT__Lha@u~DrfQi}MhkSqyWivIumCria@ciO_tHifm@fl}A\u001B[39m\u001B[38;5;124m{\u001B[39m\u001B[38;5;124mrc@fbjAqvg@rrqAcjCf\u001B[39m\u001B[38;5;124m%\u001B[39m\u001B[38;5;124m7Ci@mqJtb^s\u001B[39m\u001B[38;5;124m%\u001B[39m\u001B[38;5;124m7C@fbjA\u001B[39m\u001B[38;5;124m{\u001B[39m\u001B[38;5;124mwDfs`BmvEfqs@umWt_Nwn^pen@qiBr`xAcvMr\u001B[39m\u001B[38;5;124m{\u001B[39m\u001B[38;5;124mZidg@dtjDkbM\u001B[39m\u001B[38;5;124m%\u001B[39m\u001B[38;5;124m7Cd_@\u001B[39m\u001B[38;5;124m\"\u001B[39m \\\n\u001B[1;32m----> 4\u001B[0m       \u001B[38;5;124m\"\u001B[39m\u001B[38;5;124m&key=\u001B[39m\u001B[38;5;132;01m{}\u001B[39;00m\u001B[38;5;124m\"\u001B[39m\u001B[38;5;241m.\u001B[39mformat(key)\n\u001B[0;32m      5\u001B[0m response \u001B[38;5;241m=\u001B[39m requests\u001B[38;5;241m.\u001B[39mrequest(\u001B[38;5;124m\"\u001B[39m\u001B[38;5;124mGET\u001B[39m\u001B[38;5;124m\"\u001B[39m, url, headers\u001B[38;5;241m=\u001B[39mheaders, data\u001B[38;5;241m=\u001B[39mpayload)\n",
      "\u001B[1;31mValueError\u001B[0m: Single '}' encountered in format string"
     ]
    }
   ],
   "source": [
    "url = f\"https://maps.googleapis.com/maps/api/staticmap\" \\\n",
    "      f\"?size=400x400&center=59.900503,-135.478011&zoom=4\" \\\n",
    "      \"&path=weight:3%7Ccolor:orange%7Cenc:_fisIp~u%7CU}%7Ca@pytA_~b@hhCyhS~hResU%7C%7Cx@oig@rwg@amUfbjA}f[roaAynd@%7CvXxiAt{ZwdUfbjAewYrqGchH~vXkqnAria@c_o@inc@k{g@i`]o%7CF}vXaj\\h`]ovs@?yi_@rcAgtO%7Cj_AyaJren@nzQrst@zuYh`]v%7CGbldEuzd@%7C%7Cx@spD%7CtrAzwP%7Cd_@yiB~vXmlWhdPez\\_{Km_`@~re@ew^rcAeu_@zhyByjPrst@ttGren@aeNhoFemKrvdAuvVidPwbVr~j@or@f_z@ftHr{ZlwBrvdAmtHrmT{rOt{Zz}E%7Cc%7C@o%7CLpn~AgfRpxqBfoVz_iAocAhrVjr@rh~@jzKhjp@``NrfQpcHrb^k%7CDh_z@nwB%7Ckb@a{R%7Cyh@uyZ%7CllByuZpzw@wbd@rh~@%7C%7CFhqs@teTztrAupHhyY}t]huf@e%7CFria@o}GfezAkdW%7C}[ocMt_Neq@ren@e~Ika@pgE%7Ci%7CAfiQ%7C`l@uoJrvdAgq@fppAsjGhg`@%7ChQpg{Ai_V%7C%7Cx@mkHhyYsdP%7CxeA~gF%7C}[mv`@t_NitSfjp@c}Mhg`@sbChyYq}e@rwg@atFff}@ghN~zKybk@fl}A}cPftcAite@tmT__Lha@u~DrfQi}MhkSqyWivIumCria@ciO_tHifm@fl}A{rc@fbjAqvg@rrqAcjCf%7Ci@mqJtb^s%7C@fbjA{wDfs`BmvEfqs@umWt_Nwn^pen@qiBr`xAcvMr{Zidg@dtjDkbM%7Cd_@\" \\\n",
    "      \"&key={}\".format(key)\n",
    "response = requests.request(\"GET\", url, headers=headers, data=payload)"
   ],
   "metadata": {
    "collapsed": false
   }
  },
  {
   "cell_type": "code",
   "execution_count": 185,
   "outputs": [
    {
     "data": {
      "text/plain": "'<!DOCTYPE html>\\n<html lang=en>\\n  <meta charset=utf-8>\\n  <meta name=viewport content=\"initial-scale=1, minimum-scale=1, width=device-width\">\\n  <title>Error 400 (Bad Request)!!1</title>\\n  <style>\\n    *{margin:0;padding:0}html,code{font:15px/22px arial,sans-serif}html{background:#fff;color:#222;padding:15px}body{margin:7% auto 0;max-width:390px;min-height:180px;padding:30px 0 15px}* > body{background:url(//www.google.com/images/errors/robot.png) 100% 5px no-repeat;padding-right:205px}p{margin:11px 0 22px;overflow:hidden}ins{color:#777;text-decoration:none}a img{border:0}@media screen and (max-width:772px){body{background:none;margin-top:0;max-width:none;padding-right:0}}#logo{background:url(//www.google.com/images/branding/googlelogo/1x/googlelogo_color_150x54dp.png) no-repeat;margin-left:-5px}@media only screen and (min-resolution:192dpi){#logo{background:url(//www.google.com/images/branding/googlelogo/2x/googlelogo_color_150x54dp.png) no-repeat 0% 0%/100% 100%;-moz-border-image:url(//www.google.com/images/branding/googlelogo/2x/googlelogo_color_150x54dp.png) 0}}@media only screen and (-webkit-min-device-pixel-ratio:2){#logo{background:url(//www.google.com/images/branding/googlelogo/2x/googlelogo_color_150x54dp.png) no-repeat;-webkit-background-size:100% 100%}}#logo{display:inline-block;height:54px;width:150px}\\n  </style>\\n  <a href=//www.google.com/><span id=logo aria-label=Google></span></a>\\n  <p><b>400.</b> <ins>That’s an error.</ins>\\n  <p>Your client has issued a malformed or illegal request.  <ins>That’s all we know.</ins>\\n'"
     },
     "execution_count": 185,
     "metadata": {},
     "output_type": "execute_result"
    }
   ],
   "source": [
    "response.text"
   ],
   "metadata": {
    "collapsed": false
   }
  },
  {
   "cell_type": "code",
   "execution_count": null,
   "outputs": [],
   "source": [],
   "metadata": {
    "collapsed": false
   }
  }
 ],
 "metadata": {
  "kernelspec": {
   "display_name": "Python 3",
   "language": "python",
   "name": "python3"
  },
  "language_info": {
   "codemirror_mode": {
    "name": "ipython",
    "version": 2
   },
   "file_extension": ".py",
   "mimetype": "text/x-python",
   "name": "python",
   "nbconvert_exporter": "python",
   "pygments_lexer": "ipython2",
   "version": "2.7.6"
  }
 },
 "nbformat": 4,
 "nbformat_minor": 0
}
