{
 "cells": [
  {
   "cell_type": "code",
   "execution_count": 3,
   "metadata": {
    "collapsed": true
   },
   "outputs": [],
   "source": [
    "import geopy.distance\n",
    "import numpy as np\n",
    "import pandas as pd\n",
    "from random import choices\n",
    "import os\n",
    "from dotenv import load_dotenv\n",
    "import requests\n",
    "from IPython.display import Image\n",
    "import json\n",
    "import polyline\n",
    "from copy import deepcopy\n",
    "import plotly.graph_objects as go\n",
    "from ortools.constraint_solver import routing_enums_pb2\n",
    "from ortools.constraint_solver import pywrapcp\n",
    "import os\n",
    "from dotenv import load_dotenv\n",
    "import requests\n",
    "import plotly_express as px\n",
    "import chart_studio\n",
    "import chart_studio.plotly as py\n",
    "\n",
    "load_dotenv()\n",
    "key = os.getenv('GCP_KEY_0X')\n",
    "token = os.getenv('MAPBOX_TOKEN')\n",
    "chart_studio_key = os.getenv('CHART_STUDIO')\n",
    "px.set_mapbox_access_token(token)\n",
    "chart_studio.tools.set_credentials_file(username='0xmarmelade', api_key=chart_studio_key)"
   ]
  },
  {
   "cell_type": "markdown",
   "source": [
    "# 1. Convert the Swiss coordinate system\n",
    "From Swissgrid coordinates (LV95) we project to classic World geodesic coordinates (WGS84)"
   ],
   "metadata": {
    "collapsed": false
   }
  },
  {
   "cell_type": "code",
   "execution_count": null,
   "outputs": [],
   "source": [
    "nestle_coord = (46.466634011, 6.835639010)\n",
    "density_coord = pd.read_csv('STATPOP2021_WGS84.csv')\n",
    "distance_cutoff = 20\n",
    "density_coord_nestle = density_coord[density_coord.apply(\n",
    "    lambda row: geopy.distance.distance(\n",
    "        (row.latitude, row.longitude), nestle_coord).km < distance_cutoff,\n",
    "    axis=1)\n",
    "].reset_index(drop=True)\n",
    "total_pop = density_coord_nestle.B21BTOT.sum()\n",
    "density_coord_nestle['propability_density'] = (density_coord.B21BTOT / total_pop);\n",
    "\n",
    "density_coord_nestle.to_csv('STATPOP2021_WGS84.csv')"
   ],
   "metadata": {
    "collapsed": false
   }
  },
  {
   "cell_type": "markdown",
   "source": [
    "# 2. Data Generation"
   ],
   "metadata": {
    "collapsed": false
   }
  },
  {
   "cell_type": "code",
   "execution_count": null,
   "outputs": [],
   "source": [
    "nestle_coord = (46.466634011, 6.835639010)\n",
    "density_coord = pd.read_csv('STATPOP2021_WGS84.csv')\n",
    "distance_cutoff = 20"
   ],
   "metadata": {
    "collapsed": false
   }
  },
  {
   "cell_type": "code",
   "execution_count": null,
   "outputs": [],
   "source": [
    "density_coord_nestle = density_coord[density_coord.apply(\n",
    "    lambda row: geopy.distance.distance(\n",
    "        (row.latitude, row.longitude), nestle_coord).km < distance_cutoff,\n",
    "    axis=1)\n",
    "].reset_index(drop=True)\n",
    "total_pop = density_coord_nestle.B21BTOT.sum()\n",
    "density_coord_nestle['propability_density'] = (density_coord.B21BTOT / total_pop);\n",
    "\n",
    "density_coord_nestle.to_csv('STATPOP2021_WGS84.csv')"
   ],
   "metadata": {
    "collapsed": false
   }
  },
  {
   "cell_type": "markdown",
   "source": [
    "Draw 24 employees location from the density function around Nestle's HQ"
   ],
   "metadata": {
    "collapsed": false
   }
  },
  {
   "cell_type": "code",
   "execution_count": null,
   "outputs": [],
   "source": [
    "n_employees = 24\n",
    "n_nodes = n_employees + 1\n",
    "employee_indexes = choices(density_coord_nestle.index, density_coord_nestle.propability_density, k=n_employees)\n",
    "employee_locations = density_coord_nestle.iloc[employee_indexes][['latitude', 'longitude']]\n",
    "\n",
    "# We have to account for the possibility that more than one employees live at the same location\n",
    "employee_locations_grouped = employee_locations.groupby([employee_locations.index, 'latitude', 'longitude'],\n",
    "                                                        as_index=False).size()"
   ],
   "metadata": {
    "collapsed": false
   }
  },
  {
   "cell_type": "code",
   "execution_count": null,
   "outputs": [],
   "source": [
    "with open('./results/2022-12-16 153833.762017.json') as result_file:\n",
    "    data = json.load(result_file)\n",
    "employee_locations = pd.DataFrame(\n",
    "    {'latitude': list(zip(*data['employees']))[0][1:], 'longitude': list(zip(*data['employees']))[1][1:]})"
   ],
   "metadata": {
    "collapsed": false
   }
  },
  {
   "cell_type": "code",
   "execution_count": null,
   "outputs": [],
   "source": [
    "coordinates_list = list(zip(employee_locations.latitude.tolist(), employee_locations.longitude.tolist()))\n",
    "coordinates_list = [nestle_coord] + coordinates_list"
   ],
   "metadata": {
    "collapsed": false
   }
  },
  {
   "cell_type": "code",
   "execution_count": null,
   "outputs": [],
   "source": [
    "fig = px.scatter_mapbox(employee_locations, lat='latitude', lon='longitude', mapbox_style='streets', zoom=9)\n",
    "fig.update_layout(margin={\"r\": 0, \"t\": 0, \"l\": 0, \"b\": 0}, showlegend=False, autosize=True)\n",
    "markers = go.Scattermapbox(\n",
    "    lat=[nestle_coord[0]],\n",
    "    lon=[nestle_coord[1]],\n",
    "    mode='markers',\n",
    "    text='Nestle Head Office',\n",
    "    marker={'size': [12], 'symbol': ['suitcase'], 'opacity': [0.9], }\n",
    ")\n",
    "fig.add_trace(markers)\n",
    "fig.show()\n",
    "\n",
    "py.plot(fig, filename='Employee locations', auto_open=True)"
   ],
   "metadata": {
    "collapsed": false
   }
  },
  {
   "cell_type": "markdown",
   "source": [
    "# 2. Creating the distance matrix"
   ],
   "metadata": {
    "collapsed": false
   }
  },
  {
   "cell_type": "code",
   "execution_count": null,
   "outputs": [],
   "source": [
    "url = 'https://routes.googleapis.com/distanceMatrix/v2:computeRouteMatrix'\n",
    "headers = {\n",
    "    'Content-Type': 'application/json',\n",
    "    'X-Goog-Api-Key': key,\n",
    "    'X-Goog-FieldMask': 'originIndex,destinationIndex,duration,distanceMeters,status,condition'\n",
    "}\n",
    "payload = str({\n",
    "    'origins': [{'waypoint': {\n",
    "        'location': {\n",
    "            'latLng': {\n",
    "                'latitude': latitude,\n",
    "                'longitude': longitude\n",
    "            }\n",
    "        }\n",
    "    }} for latitude, longitude in coordinates_list],\n",
    "    'destinations': [{'waypoint': {\n",
    "        'location': {\n",
    "            'latLng': {\n",
    "                'latitude': latitude,\n",
    "                'longitude': longitude\n",
    "            }\n",
    "        }\n",
    "    }} for latitude, longitude in coordinates_list],\n",
    "    'travelMode': 'DRIVE',\n",
    "    'routingPreference': 'TRAFFIC_AWARE'\n",
    "})\n",
    "response = requests.request('POST', url, headers=headers, data=payload)"
   ],
   "metadata": {
    "collapsed": false
   }
  },
  {
   "cell_type": "code",
   "execution_count": null,
   "outputs": [],
   "source": [
    "distance_matrix_time = [[0] * n_nodes for _ in range(n_nodes)]\n",
    "distance_matrix_distance = [[0] * n_nodes for _ in range(n_nodes)]\n",
    "\n",
    "for distance in response.json():\n",
    "    distance_matrix_time[distance['originIndex']][distance['destinationIndex']] = int(distance['duration'][:-1])\n",
    "    if distance['originIndex'] == distance['destinationIndex']:\n",
    "        distance_matrix_time[distance['originIndex']][distance['destinationIndex']] = 0\n",
    "    else:\n",
    "        distance_matrix_distance[distance['originIndex']][distance['destinationIndex']] = distance['distanceMeters']\n"
   ],
   "metadata": {
    "collapsed": false
   }
  },
  {
   "cell_type": "markdown",
   "source": [
    "# 4. Solving the VRP"
   ],
   "metadata": {
    "collapsed": false
   }
  },
  {
   "cell_type": "code",
   "execution_count": null,
   "outputs": [],
   "source": [
    "def get_solution(data, manager, routing, solution, max_capacity) -> dict():\n",
    "    \"\"\"Prints solution on console.\"\"\"\n",
    "    print(\n",
    "        f'\\n\\n------- VRP SOLUTION {str(data[\"num_vehicles\"])} vehicles, max capacity {str(max_capacity)} ---------- \\n\\n\\n ')\n",
    "    if not solution:\n",
    "        print('No solution found !')\n",
    "        return {}\n",
    "\n",
    "    print(f'Objective: {solution.ObjectiveValue()}')\n",
    "    max_route_time = 0\n",
    "    solution_dict = {\n",
    "        'routes': [{\n",
    "            'route': [],\n",
    "            'routeTotalTime': 0,\n",
    "            'routeTotalDist': 0\n",
    "        } for _ in range(data['num_vehicles'])],\n",
    "        'objectiveTime': 0,\n",
    "        'objectiveDist': 0\n",
    "    }\n",
    "\n",
    "    for vehicle_id in range(data['num_vehicles']):\n",
    "        index = routing.Start(vehicle_id)\n",
    "        plan_output = f'Route for vehicle {vehicle_id}:\\n'\n",
    "        route_time = 0\n",
    "        route_distance = 0\n",
    "\n",
    "        while not routing.IsEnd(index):\n",
    "            plan_output += f' {manager.IndexToNode(index)} -> '\n",
    "            previous_index = index\n",
    "            index = solution.Value(routing.NextVar(index))\n",
    "            route_time += routing.GetArcCostForVehicle(\n",
    "                previous_index, index, vehicle_id)\n",
    "            route_distance += distance_matrix_distance[manager.IndexToNode(previous_index)][manager.IndexToNode(index)]\n",
    "\n",
    "            solution_dict['routes'][vehicle_id]['route'].append(manager.IndexToNode(previous_index))\n",
    "\n",
    "        plan_output += f'{manager.IndexToNode(index)}\\n'\n",
    "        plan_output += f'Time of the route: {route_time}s\\n'\n",
    "        solution_dict['routes'][vehicle_id]['routeTotalTime'] = route_time\n",
    "        solution_dict['routes'][vehicle_id]['routeTotalDist'] = route_distance\n",
    "        solution_dict['routes'][vehicle_id]['route'].append(manager.IndexToNode(index))\n",
    "        solution_dict['objectiveTime'] += route_time\n",
    "        solution_dict['objectiveDist'] += route_distance\n",
    "        print(plan_output)\n",
    "        max_route_time = max(route_time, max_route_time)\n",
    "    print(f'Maximum of the route distances: {max_route_time}s')\n",
    "    return solution_dict"
   ],
   "metadata": {
    "collapsed": false
   }
  },
  {
   "cell_type": "code",
   "execution_count": null,
   "outputs": [],
   "source": [
    "### Executes the VRP solver on the globally defined distance matrix\n",
    "# Inputs:   num_vehicles: the maximum number of vehicles used\n",
    "#           max_time_vehicle: each vehicle's maximum capacity (time)\n",
    "# Output:   JSON containing the found solution to the VRP\n",
    "# vrp_out = {'routes': [\n",
    "#               {'route': [0, 4, 5, 8, 0],\n",
    "#                'routeTotalTime': 5369,\n",
    "#                'routeTotalDist': 3985}\n",
    "#            ....],\n",
    "#          'objective': 366036\n",
    "#          ]},\n",
    "def vrp(num_vehicles, max_time_vehicle):\n",
    "    data = {\n",
    "        'distance_matrix': distance_matrix_time,\n",
    "        'num_vehicles': num_vehicles,\n",
    "        'office': 0\n",
    "    }\n",
    "\n",
    "    manager = pywrapcp.RoutingIndexManager(len(data['distance_matrix']),\n",
    "                                           data['num_vehicles'],\n",
    "                                           data['office'])\n",
    "\n",
    "    routing = pywrapcp.RoutingModel(manager)\n",
    "\n",
    "    def distance_callback(origin: int, destination: int) -> int:\n",
    "        return data['distance_matrix'][manager.IndexToNode(origin)][manager.IndexToNode(destination)]\n",
    "\n",
    "    transit_callback_index = routing.RegisterTransitCallback(distance_callback)\n",
    "    routing.SetArcCostEvaluatorOfAllVehicles(transit_callback_index)\n",
    "\n",
    "    dimension_name = 'Distance'\n",
    "    routing.AddDimension(\n",
    "        transit_callback_index,\n",
    "        name=dimension_name,\n",
    "        slack_max=0,  # no slack\n",
    "        capacity=max_time_vehicle,\n",
    "        fix_start_cumul_to_zero=True,\n",
    "    )\n",
    "\n",
    "    distance_dimension = routing.GetDimensionOrDie(dimension_name)\n",
    "    distance_dimension.SetGlobalSpanCostCoefficient(100)\n",
    "\n",
    "    # Setting first solution heuristic\n",
    "    search_parameters = pywrapcp.DefaultRoutingSearchParameters()\n",
    "    search_parameters.first_solution_strategy = (routing_enums_pb2.FirstSolutionStrategy.AUTOMATIC)\n",
    "    search_parameters.time_limit.seconds = 120\n",
    "\n",
    "    # Solve the problem\n",
    "    solution = routing.SolveWithParameters(search_parameters)\n",
    "    return get_solution(data, manager, routing, solution, max_time_vehicle)"
   ],
   "metadata": {
    "collapsed": false
   }
  },
  {
   "cell_type": "markdown",
   "source": [
    "# 5. Result Exploration"
   ],
   "metadata": {
    "collapsed": false
   }
  },
  {
   "cell_type": "code",
   "execution_count": null,
   "outputs": [],
   "source": [
    "n_shuttles_to_test = [12]\n",
    "max_time_shuttle_to_test = [3800]\n",
    "\n",
    "test_results = {\n",
    "    'distance_matrix_time': distance_matrix_time,\n",
    "    'distance_matrix_distance': distance_matrix_distance,\n",
    "    'employees': coordinates_list,\n",
    "    'results': []\n",
    "}\n",
    "\n",
    "for n_shuttle in n_shuttles_to_test:\n",
    "    for max_time in max_time_shuttle_to_test:\n",
    "        result = vrp(n_shuttle, max_time)\n",
    "        if result != {}:\n",
    "            test_results['results'].append({\n",
    "                'num_vehicles': n_shuttle,\n",
    "                'max_time_shuttle': max_time,\n",
    "                'result': vrp(n_shuttle, max_time),\n",
    "            })\n",
    "        print(f'solution found!')"
   ],
   "metadata": {
    "collapsed": false,
    "pycharm": {
     "is_executing": true
    }
   }
  },
  {
   "cell_type": "code",
   "execution_count": null,
   "outputs": [],
   "source": [
    "from datetime import datetime\n",
    "\n",
    "with open(f\"./results/{str(datetime.now()).replace(':', '')}.json\", 'w') as result_file:\n",
    "    result_file.write(json.dumps(test_results))"
   ],
   "metadata": {
    "collapsed": false
   }
  },
  {
   "cell_type": "markdown",
   "source": [
    "# 6. Route Visualisation"
   ],
   "metadata": {
    "collapsed": false
   }
  },
  {
   "cell_type": "code",
   "execution_count": null,
   "outputs": [],
   "source": [
    "test_run_to_draw = 0\n",
    "\n",
    "shuttle_routes = \\\n",
    "    [[\n",
    "        f'{str(coordinates_list[current_index][0])},' \\\n",
    "        f'{str(coordinates_list[current_index][1])}'\n",
    "        for current_index in route['route']]\n",
    "        for route in test_results['results'][test_run_to_draw]['result']['routes']]"
   ],
   "metadata": {
    "collapsed": false
   }
  },
  {
   "cell_type": "code",
   "execution_count": null,
   "outputs": [],
   "source": [
    "### Function to give a list of directions to follow to go from origin to destination\n",
    "# Inputs:   origin: a string with the localisation point of the origin\n",
    "#           destination: a string with the localisation point of the destination\n",
    "# Output:   A list of tuple (locations) representing the path from origin to destination\n",
    "colors = [\"blue\", \"red\", \"green\", \"orange\", \"black\", \"brown\", 'gray', \"white\", '0xE5F5FE', 'purple', 'black']\n",
    "\n",
    "\n",
    "def get_directions(origin, destination):\n",
    "    url = f'https://maps.googleapis.com/maps/api/directions/json' \\\n",
    "          f'?origin={origin}' \\\n",
    "          f'&destination={destination}' \\\n",
    "          f'&key={key}' \\\n",
    "          f'&size=1280x1280'\n",
    "\n",
    "    response = requests.request(\"GET\", url)\n",
    "    travel_route_poly = response.json()['routes'][0]['overview_polyline']['points']\n",
    "    direction_dict = response.json()\n",
    "\n",
    "    lat = direction_dict[\"routes\"][0][\"legs\"][0][\"start_location\"][\"lat\"]\n",
    "    long = direction_dict[\"routes\"][0][\"legs\"][0][\"start_location\"][\"lng\"]\n",
    "    travel_list = [str(f'{lat},{long}')]\n",
    "\n",
    "    for l in direction_dict[\"routes\"][0][\"legs\"][0][\"steps\"]:\n",
    "        lat = l[\"end_location\"][\"lat\"]\n",
    "        long = l[\"end_location\"][\"lng\"]\n",
    "        tmp = f'{str(lat)[:-1]},{str(long)[:-1]}'\n",
    "        travel_list.append(str(tmp))\n",
    "\n",
    "    travel_list = \"|\".join(travel_list)\n",
    "\n",
    "    return  travel_list, polyline.decode(travel_route_poly)"
   ],
   "metadata": {
    "collapsed": false
   }
  },
  {
   "cell_type": "code",
   "execution_count": null,
   "outputs": [],
   "source": [
    "### Funtion to create the path between all localisation points of a list\n",
    "# Inputs:   list: a list of strings with location points\n",
    "# Outputs:  a string with the path to follow\n",
    "def fct_give_parcours(list, color):\n",
    "    path_poly = []\n",
    "    path_str = []\n",
    "    start = list.pop(0)\n",
    "    while list:\n",
    "        tmp_str, tmp_poly = get_directions(start, list[0])\n",
    "        path_str.append(tmp_str)\n",
    "        path_poly += tmp_poly\n",
    "        start = list.pop(0)\n",
    "\n",
    "    parcours = \"|\".join(path_str)\n",
    "    travel_list = f'&path=color:{color}|weight:5|{parcours}'\n",
    "\n",
    "    return (travel_list, path_poly)"
   ],
   "metadata": {
    "collapsed": false
   }
  },
  {
   "cell_type": "code",
   "execution_count": null,
   "outputs": [],
   "source": [
    "### Function to create a map with the localisations and path to follow\n",
    "# Inputs:   shuttles: a list of lists with strings of loaclisation points to visit\n",
    "#           paths: a string with the path to follow\n",
    "# Output:   A map with the localisations to visit (numbered from 0 (start)), and the path in a random color\n",
    "\n",
    "def fct_maps(shuttles, paths):\n",
    "    # Start with Nestle HQ Marker\n",
    "    labels_list = \"&markers=color:\" + \"0xCE0635\" + \"%7Clabel:\" + str('N') + \"%7C\" + str(shuttle_routes[0][0])\n",
    "    c = 0\n",
    "    for shuttle in shuttles:\n",
    "        labels_s = \"\"\n",
    "        # We only start labelling from 1st stop to keep the 0 special.\n",
    "        for i in range(len(shuttle))[1:]:\n",
    "            labels_s = labels_s + \"&markers=size:mid%7Ccolor:\" + colors[c] + \"%7Clabel:\" + str(i) + \"%7C\" + str(shuttle[i])\n",
    "        labels_list = labels_list + labels_s\n",
    "        c += 1\n",
    "\n",
    "    url = f'https://maps.googleapis.com/maps/api/staticmap' \\\n",
    "          f'?size=1400x800' \\\n",
    "          f'&zoom=11' \\\n",
    "          f'{labels_list}' \\\n",
    "          f'{paths}' \\\n",
    "          f'&key={key}'\n",
    "    print(str(len(url)))\n",
    "    response = requests.request(\"GET\", url)\n",
    "    print(response.status_code)\n",
    "    return Image(response.content)"
   ],
   "metadata": {
    "collapsed": false
   }
  },
  {
   "cell_type": "code",
   "execution_count": null,
   "outputs": [],
   "source": [
    "### Function to run the whole algorithm\n",
    "# Inputs:   shuttles: a list of lists with strings of loaclisation points to visit\n",
    "#           key: the maps api key\n",
    "# Output:   A map with the localisations to visit (numbered from 0 (start)), and the path in a random color\n",
    "def fct_run_maps(shuttles):\n",
    "    global all_paths_coords\n",
    "    paths = \"\"\n",
    "    c = 0\n",
    "\n",
    "    for s in deepcopy(shuttles):\n",
    "        path_str, path_coords = fct_give_parcours(s, colors[c])\n",
    "        to_append = pd.DataFrame(data={'lat': list(zip(*path_coords))[0], 'long': list(zip(*path_coords))[1],\n",
    "                                       'shuttle_route': [c] * len(path_coords)})\n",
    "        all_paths_coords = pd.concat([all_paths_coords, to_append], ignore_index=True)\n",
    "        paths = paths + path_str\n",
    "        c += 1\n",
    "\n",
    "    return (fct_maps(shuttles, paths))"
   ],
   "metadata": {
    "collapsed": false
   }
  },
  {
   "cell_type": "code",
   "execution_count": 59,
   "outputs": [
    {
     "name": "stdout",
     "output_type": "stream",
     "text": [
      "13268\n",
      "200\n"
     ]
    },
    {
     "data": {
      "image/png": "[encoded data removed]",
      "text/plain": "<IPython.core.display.Image object>"
     },
     "execution_count": 59,
     "metadata": {},
     "output_type": "execute_result"
    }
   ],
   "source": [
    "all_paths_coords = pd.DataFrame(columns=['lat', 'long', 'shuttle_route'])\n",
    "fct_run_maps(deepcopy(shuttle_routes[:4]+shuttle_routes[6:]))"
   ],
   "metadata": {
    "collapsed": false
   }
  },
  {
   "cell_type": "code",
   "execution_count": null,
   "outputs": [],
   "source": [
    "all_markers = [(position, i) for i, route in enumerate(shuttle_routes) for position in route[1:-1]]\n",
    "all_markers_df = pd.DataFrame(list(zip(*all_markers))[0])[0].str.split(',', expand=True)\n",
    "all_markers_df['shuttle_route'] = list(zip(*all_markers))[1]\n",
    "all_markers_df.rename(columns={0: 'lat', 1: 'long'}, inplace=True)\n",
    "all_markers_df.lat = all_markers_df.lat.astype(float)\n",
    "all_markers_df.long = all_markers_df.long.astype(float)\n",
    "\n",
    "# We add the nestle HQ to the list, once\n",
    "all_markers_df = pd.concat([all_markers_df, pd.DataFrame([[nestle_coord[0], nestle_coord[1], len(shuttle_routes) + 1]],\n",
    "                                                         columns=['lat', 'long', 'shuttle_route'])], ignore_index=True)"
   ],
   "metadata": {
    "collapsed": false
   }
  },
  {
   "cell_type": "code",
   "execution_count": null,
   "outputs": [],
   "source": [
    "fig = px.line_mapbox(all_paths_coords, 'lat', 'long', color='shuttle_route', mapbox_style='streets', zoom=9)\n",
    "fig.update_layout(margin={\"r\": 0, \"t\": 0, \"l\": 0, \"b\": 0}, showlegend=False, autosize=True)\n",
    "n_shuttles = all_markers_df.shuttle_route.max()\n",
    "markers = go.Scattermapbox(\n",
    "    lat=all_markers_df.lat.tolist(),\n",
    "    lon=all_markers_df.long.tolist(),\n",
    "    mode='markers',\n",
    "    opacity=0.9,\n",
    "    marker={'size': ([15] * len(all_markers_df)) + [15], 'symbol': (['marker'] * len(all_markers_df)) + ['suitcase']}\n",
    ")\n",
    "fig.add_trace(markers)\n",
    "fig.show()\n",
    "py.plot(fig, filename='Shuttle route example', auto_open=True)"
   ],
   "metadata": {
    "collapsed": false
   }
  },
  {
   "cell_type": "markdown",
   "source": [
    "# 7. Analysis"
   ],
   "metadata": {
    "collapsed": false
   }
  },
  {
   "cell_type": "code",
   "execution_count": 5,
   "outputs": [],
   "source": [
    "data = {}\n",
    "with open('./results/2022-12-16 163709.548510.json') as result_file:\n",
    "    data = json.load(result_file)"
   ],
   "metadata": {
    "collapsed": false
   }
  },
  {
   "cell_type": "markdown",
   "source": [
    "\"\"\"\n",
    "data {\n",
    "    'distance_matrix_time': distance_matrix_time,\n",
    "    'employees': coordinates_list,\n",
    "    'results': [\n",
    "         'num_vehicles': n_shuttle,\n",
    "         'max_time_shuttle': max_time,\n",
    "         'result': {\n",
    "            'routes': [{\n",
    "                'route': [],\n",
    "                'routeTotalTime': 0,\n",
    "                'routeTotalDist': 0\n",
    "                },\n",
    "                ... more routes\n",
    "            ]\n",
    "        'objectiveTime': 0,\n",
    "        'objectiveDist': 0\n",
    "            },\n",
    "        ... more results\n",
    "        ]\n",
    "    ]\n",
    "}\n",
    "\"\"\";"
   ],
   "metadata": {
    "collapsed": false
   }
  },
  {
   "cell_type": "code",
   "execution_count": 6,
   "outputs": [],
   "source": [
    "from csv import writer\n",
    "### Dist & Emissions avoided\n",
    "# Inputs :  dist_matrix: the distance matrix\n",
    "#           vrp_out: the results of the vrp\n",
    "# Outputs:  - the avoided distance in meters\n",
    "#           - the avoided emissions in gCO2eq\n",
    "\n",
    "def fct_avoided_dist(dist_matrix, vrp_out):\n",
    "    EMISSION_CAR     = 0.186 #[g/(m)]\n",
    "    EMISSION_SHUTTLE = 0.118 #[g/(m*passanger)]\n",
    "\n",
    "    FIRST_EMPLOYEE = 1\n",
    "    COMPANY_COLUMN = 0\n",
    "\n",
    "    avoided_dist = 0\n",
    "    em_shuttles  = 0\n",
    "    em_cars      = 0\n",
    "    nb_employees = len(dist_matrix)\n",
    "\n",
    "    for s in range(len(vrp_out['routes'])):\n",
    "\n",
    "        dist_cars = 0\n",
    "        for i in range(FIRST_EMPLOYEE, len(vrp_out['routes'][s]['route'])-1):\n",
    "            dist_cars += dist_matrix[i][COMPANY_COLUMN]\n",
    "\n",
    "        avoided_dist += (dist_cars - vrp_out['routes'][s]['routeTotalDist'])\n",
    "        em_shuttles  += (vrp_out['routes'][s]['routeTotalDist'] * EMISSION_SHUTTLE)\n",
    "        em_cars      += (dist_cars * EMISSION_CAR)\n",
    "\n",
    "    avoided_em = (em_cars - em_shuttles)\n",
    "\n",
    "    return(avoided_dist, avoided_em)"
   ],
   "metadata": {
    "collapsed": false
   }
  },
  {
   "cell_type": "code",
   "execution_count": 7,
   "outputs": [],
   "source": [
    "### Overall time of work loss\n",
    "# Inputs :  time_matrix: the time matrix between all employees\n",
    "#           vrp_time: the time result of the vrp\n",
    "# Outputs:  - the overall time lost in seconds\n",
    "#           - mean time lost\n",
    "#           - the maximum time lost for all employees\n",
    "#           - the minimum time lost for all employees\n",
    "\n",
    "def fct_time_lost(time_matrix, vrp_out):\n",
    "    FIRST_SHUTTLE  = 0\n",
    "    FIRST_EMPLOYEE = 1\n",
    "    COMPANY_COLUMN = 0\n",
    "\n",
    "    tot_time_lost = 0\n",
    "    max_time_lost = 0\n",
    "    min_time_lost = vrp_out['routes'][FIRST_SHUTTLE]['routeTotalTime'] - time_matrix[vrp_out['routes'][FIRST_SHUTTLE]['route'][FIRST_EMPLOYEE]][COMPANY_COLUMN]\n",
    "    nb_employees  = len(time_matrix)\n",
    "\n",
    "    for s in range(len(vrp_out['routes'])):\n",
    "        for i in range(FIRST_EMPLOYEE, len(vrp_out['routes'][s]['route'])-1):\n",
    "            time_lost_i = (vrp_out['routes'][s]['routeTotalTime'] - time_matrix[i][COMPANY_COLUMN])\n",
    "            tot_time_lost  += time_lost_i\n",
    "\n",
    "            if time_lost_i > max_time_lost:\n",
    "                max_time_lost = time_lost_i\n",
    "\n",
    "            if time_lost_i < min_time_lost:\n",
    "                min_time_lost = time_lost_i\n",
    "\n",
    "    mean_time_lost = tot_time_lost/nb_employees\n",
    "\n",
    "    return(tot_time_lost, mean_time_lost, max_time_lost, min_time_lost)"
   ],
   "metadata": {
    "collapsed": false
   }
  },
  {
   "cell_type": "code",
   "execution_count": 8,
   "outputs": [],
   "source": [
    "### Calculate & save results\n",
    "# Inputs:   create_file: a boolean : true to create a new file (and erase previous one), False to add a row to the existing file\n",
    "#           test_number: the name of the test, it will appear on the first column of the output\n",
    "#           dist_matrix: the distance matrix\n",
    "#           time_matrix: the time matrix\n",
    "#           vrp_out: the output dictionary of the vrp\n",
    "# Output:   - a print of the costs\n",
    "#           - a file called \"outputs-csv\" with the costs\n",
    "def fct_print_costs_save(create_file, test_number, dist_matrix, time_matrix, vrp_out):\n",
    "    if create_file == True:\n",
    "        with open('outputs.csv', 'w', newline='') as file:\n",
    "            # 2. step\n",
    "            w = writer(file)\n",
    "            # 3. step\n",
    "            w.writerow([\"Test number; total dist[m]; total time[s]; avoided dist [m]; avoided emissions [gCO2eq]; total time lost [s]; mean time lost [s]; max_time_lost [s]; min_time_lost[s]\"])\n",
    "\n",
    "\n",
    "    [avoided_dist, avoided_em] = fct_avoided_dist(dist_matrix, vrp_out)\n",
    "    [tot_time_lost, mean_time_lost, max_time_lost, min_time_lost] = fct_time_lost(time_matrix, vrp_out)\n",
    "    newrow = [\"str(test_number)\"+ \";\" + str(vrp_out[\"objectiveDist\"]) + \";\" + str(vrp_out[\"objectiveTime\"]) + \";\" + str(avoided_dist)+\";\"+str(avoided_em)+\";\"+str(tot_time_lost)+\";\"+str(mean_time_lost)+\";\"+str(max_time_lost)+\";\"+str(min_time_lost)]\n",
    "\n",
    "    with open(f'./results/metrics-outputs.csv', 'a+', newline='') as write_obj:\n",
    "        # Create a writer object from csv module\n",
    "        csv_writer = writer(write_obj)\n",
    "        # Add contents of list as last row in the csv file\n",
    "        csv_writer.writerow(newrow)\n",
    "\n",
    "    print(\n",
    "        \"Total distance ---------- \" + str(vrp_out[\"objectiveDist\"]) + \" [m]\\n\"\n",
    "        \"Total time -------------- \" + str(vrp_out[\"objectiveTime\"]) + \" [s]\\n\"\n",
    "        \"avoided distance -------- \" + str(avoided_dist) + \" [m]\\n\"\n",
    "        \"avoided emissions ------- \" + str(avoided_dist) + \" [gCO2eq]\\n\"\n",
    "        \"total time lost --------- \" + str(tot_time_lost) + \" [s]\\n\"\n",
    "        \"mean time lost ---------- \" + str(mean_time_lost) + \" [s]\\n\"\n",
    "        \"maximum time lost ------- \" + str(max_time_lost) + \" [s]\\n\"\n",
    "        \"minimum time lost ------- \" + str(min_time_lost) + \" [s]\\n\"\n",
    "    )"
   ],
   "metadata": {
    "collapsed": false
   }
  },
  {
   "cell_type": "code",
   "execution_count": 9,
   "outputs": [],
   "source": [
    "def export_result(dfjson):\n",
    "    title=' '.join(\n",
    "        [\"Test 1:\", str(dfjson['results'][0]['num_vehicles']), \"shuttles,\", str(dfjson['results'][0]['max_time_shuttle']), \"max.\"]\n",
    "    )\n",
    "\n",
    "    fct_print_costs_save(\n",
    "        True, title,\n",
    "        dfjson['distance_matrix_distance'],\n",
    "        dfjson['distance_matrix_time'],\n",
    "        dfjson['results'][0]['result']\n",
    "    )\n",
    "\n",
    "    for i in range(1,len(data['results'])):\n",
    "        title=' '.join(\n",
    "            [\"Test:\",str(i+1), str(dfjson['results'][i]['num_vehicles']), \"shuttles,\", str(dfjson['results'][i]['max_time_shuttle']), \"max.\"]\n",
    "        )\n",
    "\n",
    "        fct_print_costs_save(True, title,\n",
    "                             dfjson['distance_matrix_distance'],\n",
    "                             dfjson['distance_matrix_time'],\n",
    "                             dfjson['results'][i]['result']\n",
    "                             )"
   ],
   "metadata": {
    "collapsed": false
   }
  },
  {
   "cell_type": "code",
   "execution_count": 10,
   "outputs": [
    {
     "name": "stdout",
     "output_type": "stream",
     "text": [
      "Total distance ---------- 283699 [m]\n",
      "Total time -------------- 21534 [s]\n",
      "avoided distance -------- 188107 [m]\n",
      "avoided emissions ------- 188107 [gCO2eq]\n",
      "total time lost --------- 93337 [s]\n",
      "mean time lost ---------- 3733.48 [s]\n",
      "maximum time lost ------- 4817 [s]\n",
      "minimum time lost ------- 3229 [s]\n",
      "\n",
      "Total distance ---------- 284445 [m]\n",
      "Total time -------------- 21324 [s]\n",
      "avoided distance -------- 187361 [m]\n",
      "avoided emissions ------- 187361 [gCO2eq]\n",
      "total time lost --------- 91169 [s]\n",
      "mean time lost ---------- 3646.76 [s]\n",
      "maximum time lost ------- 4845 [s]\n",
      "minimum time lost ------- 2908 [s]\n",
      "\n",
      "Total distance ---------- 274294 [m]\n",
      "Total time -------------- 21696 [s]\n",
      "avoided distance -------- 212489 [m]\n",
      "avoided emissions ------- 212489 [gCO2eq]\n",
      "total time lost --------- 66111 [s]\n",
      "mean time lost ---------- 2644.44 [s]\n",
      "maximum time lost ------- 4183 [s]\n",
      "minimum time lost ------- 1566 [s]\n",
      "\n",
      "Total distance ---------- 302183 [m]\n",
      "Total time -------------- 23045 [s]\n",
      "avoided distance -------- 190412 [m]\n",
      "avoided emissions ------- 190412 [gCO2eq]\n",
      "total time lost --------- 73966 [s]\n",
      "mean time lost ---------- 2958.64 [s]\n",
      "maximum time lost ------- 4087 [s]\n",
      "minimum time lost ------- 2229 [s]\n",
      "\n",
      "Total distance ---------- 315397 [m]\n",
      "Total time -------------- 24091 [s]\n",
      "avoided distance -------- 236319 [m]\n",
      "avoided emissions ------- 236319 [gCO2eq]\n",
      "total time lost --------- 54699 [s]\n",
      "mean time lost ---------- 2187.96 [s]\n",
      "maximum time lost ------- 3107 [s]\n",
      "minimum time lost ------- 1192 [s]\n",
      "\n",
      "Total distance ---------- 321572 [m]\n",
      "Total time -------------- 25013 [s]\n",
      "avoided distance -------- 213354 [m]\n",
      "avoided emissions ------- 213354 [gCO2eq]\n",
      "total time lost --------- 59862 [s]\n",
      "mean time lost ---------- 2394.48 [s]\n",
      "maximum time lost ------- 3524 [s]\n",
      "minimum time lost ------- 1649 [s]\n",
      "\n",
      "Total distance ---------- 408419 [m]\n",
      "Total time -------------- 29588 [s]\n",
      "avoided distance -------- 129333 [m]\n",
      "avoided emissions ------- 129333 [gCO2eq]\n",
      "total time lost --------- 51704 [s]\n",
      "mean time lost ---------- 2068.16 [s]\n",
      "maximum time lost ------- 3208 [s]\n",
      "minimum time lost ------- 1548 [s]\n",
      "\n",
      "Total distance ---------- 405780 [m]\n",
      "Total time -------------- 29636 [s]\n",
      "avoided distance -------- 127903 [m]\n",
      "avoided emissions ------- 127903 [gCO2eq]\n",
      "total time lost --------- 55150 [s]\n",
      "mean time lost ---------- 2206.0 [s]\n",
      "maximum time lost ------- 3427 [s]\n",
      "minimum time lost ------- 321 [s]\n",
      "\n"
     ]
    }
   ],
   "source": [
    "export_result(data)"
   ],
   "metadata": {
    "collapsed": false
   }
  },
  {
   "cell_type": "markdown",
   "source": [],
   "metadata": {
    "collapsed": false
   }
  }
 ],
 "metadata": {
  "kernelspec": {
   "display_name": "Python 3",
   "language": "python",
   "name": "python3"
  },
  "language_info": {
   "codemirror_mode": {
    "name": "ipython",
    "version": 2
   },
   "file_extension": ".py",
   "mimetype": "text/x-python",
   "name": "python",
   "nbconvert_exporter": "python",
   "pygments_lexer": "ipython2",
   "version": "2.7.6"
  }
 },
 "nbformat": 4,
 "nbformat_minor": 0
}
